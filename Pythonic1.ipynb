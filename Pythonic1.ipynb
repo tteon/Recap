{
 "cells": [
  {
   "cell_type": "code",
   "execution_count": 1,
   "id": "08f2f7e7",
   "metadata": {
    "ExecuteTime": {
     "end_time": "2021-06-30T13:52:20.526888Z",
     "start_time": "2021-06-30T13:52:20.523047Z"
    }
   },
   "outputs": [],
   "source": [
    "DATAPATH = '../lab1/dataset/'"
   ]
  },
  {
   "cell_type": "code",
   "execution_count": 2,
   "id": "34c1287c",
   "metadata": {
    "ExecuteTime": {
     "end_time": "2021-06-30T13:52:25.038841Z",
     "start_time": "2021-06-30T13:52:24.603090Z"
    }
   },
   "outputs": [],
   "source": [
    "import pandas as pd\n",
    "import numpy as np"
   ]
  },
  {
   "cell_type": "code",
   "execution_count": 3,
   "id": "9abc04a7",
   "metadata": {
    "ExecuteTime": {
     "end_time": "2021-06-30T13:52:35.360907Z",
     "start_time": "2021-06-30T13:52:35.274745Z"
    }
   },
   "outputs": [],
   "source": [
    "train = pd.read_csv(DATAPATH + 'train.csv')"
   ]
  },
  {
   "cell_type": "code",
   "execution_count": 4,
   "id": "49f267f7",
   "metadata": {
    "ExecuteTime": {
     "end_time": "2021-06-30T13:52:37.292557Z",
     "start_time": "2021-06-30T13:52:37.239170Z"
    }
   },
   "outputs": [
    {
     "data": {
      "text/html": [
       "<div>\n",
       "<style scoped>\n",
       "    .dataframe tbody tr th:only-of-type {\n",
       "        vertical-align: middle;\n",
       "    }\n",
       "\n",
       "    .dataframe tbody tr th {\n",
       "        vertical-align: top;\n",
       "    }\n",
       "\n",
       "    .dataframe thead th {\n",
       "        text-align: right;\n",
       "    }\n",
       "</style>\n",
       "<table border=\"1\" class=\"dataframe\">\n",
       "  <thead>\n",
       "    <tr style=\"text-align: right;\">\n",
       "      <th></th>\n",
       "      <th>UNC_YEAR</th>\n",
       "      <th>HSCD</th>\n",
       "      <th>COUNTRYCD</th>\n",
       "      <th>COUNTRYNM</th>\n",
       "      <th>TRADE_COUNTRYCD</th>\n",
       "      <th>TRADE_HSCD</th>\n",
       "      <th>TARIFF_AVG</th>\n",
       "      <th>SNDIST</th>\n",
       "      <th>NY_GDP_MKTP_CD</th>\n",
       "      <th>NY_GDP_MKTP_CD_1Y</th>\n",
       "      <th>SP_POP_TOTL</th>\n",
       "      <th>PA_NUS_FCRF</th>\n",
       "      <th>IC_BUS_EASE_DFRN_DB</th>\n",
       "      <th>KMDIST</th>\n",
       "      <th>TRADE_HSCD_COUNTRYCD</th>\n",
       "      <th>KR_TRADE_HSCD_COUNTRYCD</th>\n",
       "    </tr>\n",
       "  </thead>\n",
       "  <tbody>\n",
       "    <tr>\n",
       "      <th>0</th>\n",
       "      <td>2017</td>\n",
       "      <td>190590</td>\n",
       "      <td>12</td>\n",
       "      <td>Algeria</td>\n",
       "      <td>46052990973</td>\n",
       "      <td>19480986257</td>\n",
       "      <td>30.0</td>\n",
       "      <td>3878.238437</td>\n",
       "      <td>170163165961</td>\n",
       "      <td>159994837855</td>\n",
       "      <td>41389198</td>\n",
       "      <td>110.973017</td>\n",
       "      <td>46.109810</td>\n",
       "      <td>9954.009766</td>\n",
       "      <td>3.416326e+06</td>\n",
       "      <td>7657</td>\n",
       "    </tr>\n",
       "    <tr>\n",
       "      <th>1</th>\n",
       "      <td>2017</td>\n",
       "      <td>190590</td>\n",
       "      <td>36</td>\n",
       "      <td>Australia</td>\n",
       "      <td>228441691195</td>\n",
       "      <td>19480986257</td>\n",
       "      <td>0.0</td>\n",
       "      <td>12203.155980</td>\n",
       "      <td>1329188475752</td>\n",
       "      <td>1208846993740</td>\n",
       "      <td>24601860</td>\n",
       "      <td>1.304758</td>\n",
       "      <td>80.223690</td>\n",
       "      <td>8329.652344</td>\n",
       "      <td>4.387470e+08</td>\n",
       "      <td>5294788</td>\n",
       "    </tr>\n",
       "    <tr>\n",
       "      <th>2</th>\n",
       "      <td>2017</td>\n",
       "      <td>190590</td>\n",
       "      <td>40</td>\n",
       "      <td>Austria</td>\n",
       "      <td>166475020975</td>\n",
       "      <td>19480986257</td>\n",
       "      <td>0.0</td>\n",
       "      <td>4403.247293</td>\n",
       "      <td>417237869116</td>\n",
       "      <td>395568644341</td>\n",
       "      <td>8797566</td>\n",
       "      <td>NaN</td>\n",
       "      <td>78.856460</td>\n",
       "      <td>8289.029297</td>\n",
       "      <td>4.532064e+08</td>\n",
       "      <td>335818</td>\n",
       "    </tr>\n",
       "    <tr>\n",
       "      <th>3</th>\n",
       "      <td>2017</td>\n",
       "      <td>190590</td>\n",
       "      <td>56</td>\n",
       "      <td>Belgium</td>\n",
       "      <td>406412223480</td>\n",
       "      <td>19480986257</td>\n",
       "      <td>0.0</td>\n",
       "      <td>3980.375563</td>\n",
       "      <td>502698069367</td>\n",
       "      <td>475739588765</td>\n",
       "      <td>11375158</td>\n",
       "      <td>NaN</td>\n",
       "      <td>72.409200</td>\n",
       "      <td>8722.114258</td>\n",
       "      <td>7.065245e+08</td>\n",
       "      <td>173709</td>\n",
       "    </tr>\n",
       "    <tr>\n",
       "      <th>4</th>\n",
       "      <td>2017</td>\n",
       "      <td>190590</td>\n",
       "      <td>76</td>\n",
       "      <td>Brazil</td>\n",
       "      <td>150749493921</td>\n",
       "      <td>19480986257</td>\n",
       "      <td>18.0</td>\n",
       "      <td>9644.206941</td>\n",
       "      <td>2062831045936</td>\n",
       "      <td>1795700168991</td>\n",
       "      <td>207833831</td>\n",
       "      <td>3.191389</td>\n",
       "      <td>55.382403</td>\n",
       "      <td>18364.505860</td>\n",
       "      <td>3.132965e+07</td>\n",
       "      <td>122850</td>\n",
       "    </tr>\n",
       "    <tr>\n",
       "      <th>...</th>\n",
       "      <td>...</td>\n",
       "      <td>...</td>\n",
       "      <td>...</td>\n",
       "      <td>...</td>\n",
       "      <td>...</td>\n",
       "      <td>...</td>\n",
       "      <td>...</td>\n",
       "      <td>...</td>\n",
       "      <td>...</td>\n",
       "      <td>...</td>\n",
       "      <td>...</td>\n",
       "      <td>...</td>\n",
       "      <td>...</td>\n",
       "      <td>...</td>\n",
       "      <td>...</td>\n",
       "      <td>...</td>\n",
       "    </tr>\n",
       "    <tr>\n",
       "      <th>21184</th>\n",
       "      <td>2017</td>\n",
       "      <td>852852</td>\n",
       "      <td>784</td>\n",
       "      <td>United Arab Emirates</td>\n",
       "      <td>270954907547</td>\n",
       "      <td>18327708223</td>\n",
       "      <td>NaN</td>\n",
       "      <td>5643.250737</td>\n",
       "      <td>385605506855</td>\n",
       "      <td>357045064670</td>\n",
       "      <td>9487203</td>\n",
       "      <td>3.672500</td>\n",
       "      <td>77.434350</td>\n",
       "      <td>6909.236328</td>\n",
       "      <td>2.056493e+08</td>\n",
       "      <td>881214</td>\n",
       "    </tr>\n",
       "    <tr>\n",
       "      <th>21185</th>\n",
       "      <td>2017</td>\n",
       "      <td>852852</td>\n",
       "      <td>792</td>\n",
       "      <td>Turkey</td>\n",
       "      <td>233799651234</td>\n",
       "      <td>18327708223</td>\n",
       "      <td>NaN</td>\n",
       "      <td>4123.461111</td>\n",
       "      <td>858988610574</td>\n",
       "      <td>869683121563</td>\n",
       "      <td>81101892</td>\n",
       "      <td>3.648133</td>\n",
       "      <td>69.378820</td>\n",
       "      <td>7967.700684</td>\n",
       "      <td>1.330809e+08</td>\n",
       "      <td>9545535</td>\n",
       "    </tr>\n",
       "    <tr>\n",
       "      <th>21186</th>\n",
       "      <td>2017</td>\n",
       "      <td>852852</td>\n",
       "      <td>818</td>\n",
       "      <td>Egypt</td>\n",
       "      <td>66338749061</td>\n",
       "      <td>18327708223</td>\n",
       "      <td>NaN</td>\n",
       "      <td>NaN</td>\n",
       "      <td>235733695652</td>\n",
       "      <td>332441717791</td>\n",
       "      <td>96442593</td>\n",
       "      <td>17.782534</td>\n",
       "      <td>55.474280</td>\n",
       "      <td>8497.368164</td>\n",
       "      <td>NaN</td>\n",
       "      <td>1313545</td>\n",
       "    </tr>\n",
       "    <tr>\n",
       "      <th>21187</th>\n",
       "      <td>2017</td>\n",
       "      <td>852852</td>\n",
       "      <td>826</td>\n",
       "      <td>United Kingdom</td>\n",
       "      <td>641332371112</td>\n",
       "      <td>18327708223</td>\n",
       "      <td>NaN</td>\n",
       "      <td>4071.487776</td>\n",
       "      <td>2666229179958</td>\n",
       "      <td>2694283209613</td>\n",
       "      <td>66058859</td>\n",
       "      <td>0.776977</td>\n",
       "      <td>83.341080</td>\n",
       "      <td>8875.389648</td>\n",
       "      <td>1.142794e+09</td>\n",
       "      <td>19876811</td>\n",
       "    </tr>\n",
       "    <tr>\n",
       "      <th>21188</th>\n",
       "      <td>2017</td>\n",
       "      <td>852852</td>\n",
       "      <td>842</td>\n",
       "      <td>USA</td>\n",
       "      <td>2405276626657</td>\n",
       "      <td>18327708223</td>\n",
       "      <td>NaN</td>\n",
       "      <td>8356.072383</td>\n",
       "      <td>19519353692000</td>\n",
       "      <td>18714960538000</td>\n",
       "      <td>324985539</td>\n",
       "      <td>1.000000</td>\n",
       "      <td>83.352553</td>\n",
       "      <td>11065.702150</td>\n",
       "      <td>5.496100e+09</td>\n",
       "      <td>152988098</td>\n",
       "    </tr>\n",
       "  </tbody>\n",
       "</table>\n",
       "<p>21189 rows × 16 columns</p>\n",
       "</div>"
      ],
      "text/plain": [
       "       UNC_YEAR    HSCD  COUNTRYCD             COUNTRYNM  TRADE_COUNTRYCD  \\\n",
       "0          2017  190590         12               Algeria      46052990973   \n",
       "1          2017  190590         36             Australia     228441691195   \n",
       "2          2017  190590         40               Austria     166475020975   \n",
       "3          2017  190590         56               Belgium     406412223480   \n",
       "4          2017  190590         76                Brazil     150749493921   \n",
       "...         ...     ...        ...                   ...              ...   \n",
       "21184      2017  852852        784  United Arab Emirates     270954907547   \n",
       "21185      2017  852852        792                Turkey     233799651234   \n",
       "21186      2017  852852        818                 Egypt      66338749061   \n",
       "21187      2017  852852        826        United Kingdom     641332371112   \n",
       "21188      2017  852852        842                   USA    2405276626657   \n",
       "\n",
       "        TRADE_HSCD  TARIFF_AVG        SNDIST  NY_GDP_MKTP_CD  \\\n",
       "0      19480986257        30.0   3878.238437    170163165961   \n",
       "1      19480986257         0.0  12203.155980   1329188475752   \n",
       "2      19480986257         0.0   4403.247293    417237869116   \n",
       "3      19480986257         0.0   3980.375563    502698069367   \n",
       "4      19480986257        18.0   9644.206941   2062831045936   \n",
       "...            ...         ...           ...             ...   \n",
       "21184  18327708223         NaN   5643.250737    385605506855   \n",
       "21185  18327708223         NaN   4123.461111    858988610574   \n",
       "21186  18327708223         NaN           NaN    235733695652   \n",
       "21187  18327708223         NaN   4071.487776   2666229179958   \n",
       "21188  18327708223         NaN   8356.072383  19519353692000   \n",
       "\n",
       "       NY_GDP_MKTP_CD_1Y  SP_POP_TOTL  PA_NUS_FCRF  IC_BUS_EASE_DFRN_DB  \\\n",
       "0           159994837855     41389198   110.973017            46.109810   \n",
       "1          1208846993740     24601860     1.304758            80.223690   \n",
       "2           395568644341      8797566          NaN            78.856460   \n",
       "3           475739588765     11375158          NaN            72.409200   \n",
       "4          1795700168991    207833831     3.191389            55.382403   \n",
       "...                  ...          ...          ...                  ...   \n",
       "21184       357045064670      9487203     3.672500            77.434350   \n",
       "21185       869683121563     81101892     3.648133            69.378820   \n",
       "21186       332441717791     96442593    17.782534            55.474280   \n",
       "21187      2694283209613     66058859     0.776977            83.341080   \n",
       "21188     18714960538000    324985539     1.000000            83.352553   \n",
       "\n",
       "             KMDIST  TRADE_HSCD_COUNTRYCD  KR_TRADE_HSCD_COUNTRYCD  \n",
       "0       9954.009766          3.416326e+06                     7657  \n",
       "1       8329.652344          4.387470e+08                  5294788  \n",
       "2       8289.029297          4.532064e+08                   335818  \n",
       "3       8722.114258          7.065245e+08                   173709  \n",
       "4      18364.505860          3.132965e+07                   122850  \n",
       "...             ...                   ...                      ...  \n",
       "21184   6909.236328          2.056493e+08                   881214  \n",
       "21185   7967.700684          1.330809e+08                  9545535  \n",
       "21186   8497.368164                   NaN                  1313545  \n",
       "21187   8875.389648          1.142794e+09                 19876811  \n",
       "21188  11065.702150          5.496100e+09                152988098  \n",
       "\n",
       "[21189 rows x 16 columns]"
      ]
     },
     "execution_count": 4,
     "metadata": {},
     "output_type": "execute_result"
    }
   ],
   "source": [
    "train"
   ]
  },
  {
   "cell_type": "code",
   "execution_count": null,
   "id": "d298bde2",
   "metadata": {},
   "outputs": [],
   "source": []
  },
  {
   "cell_type": "code",
   "execution_count": null,
   "id": "62ccf16c",
   "metadata": {},
   "outputs": [],
   "source": []
  },
  {
   "cell_type": "code",
   "execution_count": 7,
   "id": "dbcc8d6e",
   "metadata": {
    "ExecuteTime": {
     "end_time": "2021-06-30T13:53:16.956499Z",
     "start_time": "2021-06-30T13:53:16.951671Z"
    }
   },
   "outputs": [],
   "source": [
    "TARGET = train.columns[-1]"
   ]
  },
  {
   "cell_type": "code",
   "execution_count": 14,
   "id": "8cfb31e2",
   "metadata": {
    "ExecuteTime": {
     "end_time": "2021-06-30T13:54:07.180595Z",
     "start_time": "2021-06-30T13:54:07.171246Z"
    }
   },
   "outputs": [
    {
     "name": "stderr",
     "output_type": "stream",
     "text": [
      "/opt/conda/lib/python3.7/site-packages/pandas/core/arraylike.py:358: RuntimeWarning: divide by zero encountered in log2\n",
      "  result = getattr(ufunc, method)(*inputs, **kwargs)\n",
      "/opt/conda/lib/python3.7/site-packages/pandas/core/arraylike.py:358: RuntimeWarning: divide by zero encountered in log\n",
      "  result = getattr(ufunc, method)(*inputs, **kwargs)\n"
     ]
    }
   ],
   "source": [
    "a = np.log10(train[TARGET])\n",
    "b = np.log2(train[TARGET])\n",
    "c = np.log(train[TARGET])"
   ]
  },
  {
   "cell_type": "code",
   "execution_count": 13,
   "id": "2d33cc26",
   "metadata": {
    "ExecuteTime": {
     "end_time": "2021-06-30T13:53:50.659213Z",
     "start_time": "2021-06-30T13:53:50.651135Z"
    }
   },
   "outputs": [
    {
     "data": {
      "text/plain": [
       "0             7657\n",
       "1          5294788\n",
       "2           335818\n",
       "3           173709\n",
       "4           122850\n",
       "           ...    \n",
       "21184       881214\n",
       "21185      9545535\n",
       "21186      1313545\n",
       "21187     19876811\n",
       "21188    152988098\n",
       "Name: KR_TRADE_HSCD_COUNTRYCD, Length: 21189, dtype: int64"
      ]
     },
     "execution_count": 13,
     "metadata": {},
     "output_type": "execute_result"
    }
   ],
   "source": [
    "train[TARGET]"
   ]
  },
  {
   "cell_type": "code",
   "execution_count": 16,
   "id": "f4ab0434",
   "metadata": {
    "ExecuteTime": {
     "end_time": "2021-06-30T13:54:31.111618Z",
     "start_time": "2021-06-30T13:54:31.068574Z"
    }
   },
   "outputs": [
    {
     "data": {
      "text/plain": [
       "0     48.621151\n",
       "1    832.013425\n",
       "2    251.163462\n",
       "3    188.636583\n",
       "4    162.288426\n",
       "5    330.327899\n",
       "6    955.011897\n",
       "7    104.756284\n",
       "8    122.026921\n",
       "9    995.971627\n",
       "Name: KR_TRADE_HSCD_COUNTRYCD, dtype: float64"
      ]
     },
     "metadata": {},
     "output_type": "display_data"
    },
    {
     "data": {
      "text/plain": [
       "0    4.013397e+05\n",
       "1    5.017218e+09\n",
       "2    9.386049e+07\n",
       "3    3.626316e+07\n",
       "4    2.199968e+07\n",
       "5    2.332142e+08\n",
       "6    7.931857e+09\n",
       "7    5.139170e+06\n",
       "8    8.532095e+06\n",
       "9    9.119286e+09\n",
       "Name: KR_TRADE_HSCD_COUNTRYCD, dtype: float64"
      ]
     },
     "metadata": {},
     "output_type": "display_data"
    },
    {
     "data": {
      "text/plain": [
       "0       7657.0\n",
       "1    5294788.0\n",
       "2     335818.0\n",
       "3     173709.0\n",
       "4     122850.0\n",
       "5     631082.0\n",
       "6    7273171.0\n",
       "7      44837.0\n",
       "8      63715.0\n",
       "9    8011591.0\n",
       "Name: KR_TRADE_HSCD_COUNTRYCD, dtype: float64"
      ]
     },
     "metadata": {},
     "output_type": "display_data"
    },
    {
     "data": {
      "text/plain": [
       "0             7657\n",
       "1          5294788\n",
       "2           335818\n",
       "3           173709\n",
       "4           122850\n",
       "           ...    \n",
       "21184       881214\n",
       "21185      9545535\n",
       "21186      1313545\n",
       "21187     19876811\n",
       "21188    152988098\n",
       "Name: KR_TRADE_HSCD_COUNTRYCD, Length: 21189, dtype: int64"
      ]
     },
     "metadata": {},
     "output_type": "display_data"
    }
   ],
   "source": [
    "display(np.exp(a)[:10])\n",
    "display(np.exp(b)[:10])\n",
    "display(np.exp(c)[:10])\n",
    "display(train[TARGET])\n"
   ]
  },
  {
   "cell_type": "code",
   "execution_count": null,
   "id": "bc043268",
   "metadata": {},
   "outputs": [],
   "source": []
  },
  {
   "cell_type": "code",
   "execution_count": null,
   "id": "bee3be3b",
   "metadata": {},
   "outputs": [],
   "source": []
  },
  {
   "cell_type": "markdown",
   "id": "1b77069b",
   "metadata": {},
   "source": [
    "# Pythonic - 1"
   ]
  },
  {
   "cell_type": "code",
   "execution_count": 22,
   "id": "2522be04",
   "metadata": {
    "ExecuteTime": {
     "end_time": "2021-06-30T13:57:59.086621Z",
     "start_time": "2021-06-30T13:57:59.081031Z"
    }
   },
   "outputs": [],
   "source": [
    "CountryCd = train.COUNTRYCD[:10]"
   ]
  },
  {
   "cell_type": "code",
   "execution_count": 31,
   "id": "6ecb6e6b",
   "metadata": {
    "ExecuteTime": {
     "end_time": "2021-06-30T13:59:46.268892Z",
     "start_time": "2021-06-30T13:59:46.265322Z"
    }
   },
   "outputs": [],
   "source": [
    "result = ','.join(str(CountryCd.tolist()))"
   ]
  },
  {
   "cell_type": "code",
   "execution_count": 32,
   "id": "c8c76fd6",
   "metadata": {
    "ExecuteTime": {
     "end_time": "2021-06-30T13:59:46.477874Z",
     "start_time": "2021-06-30T13:59:46.473902Z"
    }
   },
   "outputs": [
    {
     "name": "stdout",
     "output_type": "stream",
     "text": [
      "[,1,2,,, ,3,6,,, ,4,0,,, ,5,6,,, ,7,6,,, ,1,0,4,,, ,1,2,4,,, ,1,4,4,,, ,1,5,2,,, ,1,5,6,]\n"
     ]
    }
   ],
   "source": [
    "print(result)"
   ]
  },
  {
   "cell_type": "code",
   "execution_count": null,
   "id": "eca899e5",
   "metadata": {},
   "outputs": [],
   "source": []
  },
  {
   "cell_type": "code",
   "execution_count": 34,
   "id": "77338d39",
   "metadata": {
    "ExecuteTime": {
     "end_time": "2021-06-30T14:01:06.805091Z",
     "start_time": "2021-06-30T14:01:06.802167Z"
    }
   },
   "outputs": [],
   "source": [
    "example1 = 'http.www.asap.go.maybe'"
   ]
  },
  {
   "cell_type": "code",
   "execution_count": 37,
   "id": "761f2430",
   "metadata": {
    "ExecuteTime": {
     "end_time": "2021-06-30T14:02:49.169601Z",
     "start_time": "2021-06-30T14:02:49.164754Z"
    }
   },
   "outputs": [
    {
     "data": {
      "text/plain": [
       "'http.www.asap.go.maybe'"
      ]
     },
     "execution_count": 37,
     "metadata": {},
     "output_type": "execute_result"
    }
   ],
   "source": [
    "example2 = example1.split('.')\n",
    "example1"
   ]
  },
  {
   "cell_type": "code",
   "execution_count": 39,
   "id": "8f21a31b",
   "metadata": {
    "ExecuteTime": {
     "end_time": "2021-06-30T14:03:17.322751Z",
     "start_time": "2021-06-30T14:03:17.317820Z"
    }
   },
   "outputs": [
    {
     "data": {
      "text/plain": [
       "'http.www.asap.go.maybe'"
      ]
     },
     "execution_count": 39,
     "metadata": {},
     "output_type": "execute_result"
    }
   ],
   "source": [
    "example3 = '.'.join(example2)\n",
    "example3"
   ]
  },
  {
   "cell_type": "code",
   "execution_count": 40,
   "id": "cdd4af3e",
   "metadata": {
    "ExecuteTime": {
     "end_time": "2021-06-30T14:03:21.036632Z",
     "start_time": "2021-06-30T14:03:21.023874Z"
    }
   },
   "outputs": [
    {
     "data": {
      "text/plain": [
       "True"
      ]
     },
     "execution_count": 40,
     "metadata": {},
     "output_type": "execute_result"
    }
   ],
   "source": [
    "example3 == example1"
   ]
  },
  {
   "cell_type": "code",
   "execution_count": null,
   "id": "11a97689",
   "metadata": {},
   "outputs": [],
   "source": []
  },
  {
   "cell_type": "code",
   "execution_count": 42,
   "id": "d1883070",
   "metadata": {
    "ExecuteTime": {
     "end_time": "2021-06-30T14:03:38.608405Z",
     "start_time": "2021-06-30T14:03:38.605531Z"
    }
   },
   "outputs": [],
   "source": [
    "result = [i for i in range(10)]"
   ]
  },
  {
   "cell_type": "code",
   "execution_count": 44,
   "id": "f4d2c741",
   "metadata": {
    "ExecuteTime": {
     "end_time": "2021-06-30T14:03:41.916367Z",
     "start_time": "2021-06-30T14:03:41.906571Z"
    }
   },
   "outputs": [
    {
     "data": {
      "text/plain": [
       "[0, 1, 2, 3, 4, 5, 6, 7, 8, 9]"
      ]
     },
     "execution_count": 44,
     "metadata": {},
     "output_type": "execute_result"
    }
   ],
   "source": [
    "result"
   ]
  },
  {
   "cell_type": "code",
   "execution_count": null,
   "id": "86530813",
   "metadata": {},
   "outputs": [],
   "source": []
  },
  {
   "cell_type": "markdown",
   "id": "2370d262",
   "metadata": {},
   "source": [
    "## filtering"
   ]
  },
  {
   "cell_type": "code",
   "execution_count": 45,
   "id": "f464dd6b",
   "metadata": {
    "ExecuteTime": {
     "end_time": "2021-06-30T14:04:08.291798Z",
     "start_time": "2021-06-30T14:04:08.286758Z"
    }
   },
   "outputs": [
    {
     "data": {
      "text/plain": [
       "[0, 2, 4, 6, 8]"
      ]
     },
     "execution_count": 45,
     "metadata": {},
     "output_type": "execute_result"
    }
   ],
   "source": [
    "[i for i in range(10) if i % 2 == 0]"
   ]
  },
  {
   "cell_type": "code",
   "execution_count": 47,
   "id": "60462f17",
   "metadata": {
    "ExecuteTime": {
     "end_time": "2021-06-30T14:04:53.146473Z",
     "start_time": "2021-06-30T14:04:53.141772Z"
    }
   },
   "outputs": [
    {
     "data": {
      "text/plain": [
       "[0, 10, 2, 10, 4, 10, 6, 10, 8, 10]"
      ]
     },
     "execution_count": 47,
     "metadata": {},
     "output_type": "execute_result"
    }
   ],
   "source": [
    "[i if i % 2 == 0 else 10 for i in range(10) ]"
   ]
  },
  {
   "cell_type": "code",
   "execution_count": null,
   "id": "e04c324a",
   "metadata": {},
   "outputs": [],
   "source": []
  },
  {
   "cell_type": "markdown",
   "id": "533dc846",
   "metadata": {},
   "source": [
    "## nested loop"
   ]
  },
  {
   "cell_type": "code",
   "execution_count": 50,
   "id": "53633829",
   "metadata": {
    "ExecuteTime": {
     "end_time": "2021-06-30T14:06:15.785055Z",
     "start_time": "2021-06-30T14:06:15.779045Z"
    }
   },
   "outputs": [
    {
     "data": {
      "text/plain": [
       "['ji',\n",
       " 'ji',\n",
       " 'jt',\n",
       " 'ja',\n",
       " 'je',\n",
       " 'ei',\n",
       " 'ei',\n",
       " 'et',\n",
       " 'ea',\n",
       " 'ee',\n",
       " 'oi',\n",
       " 'oi',\n",
       " 'ot',\n",
       " 'oa',\n",
       " 'oe',\n",
       " 'ni',\n",
       " 'ni',\n",
       " 'nt',\n",
       " 'na',\n",
       " 'ne',\n",
       " 'gi',\n",
       " 'gi',\n",
       " 'gt',\n",
       " 'ga',\n",
       " 'ge']"
      ]
     },
     "execution_count": 50,
     "metadata": {},
     "output_type": "execute_result"
    }
   ],
   "source": [
    "word_1 = 'jeong'\n",
    "word_2 = 'iitae'\n",
    "\n",
    "[i + j for i in word_1 for j in word_2]"
   ]
  },
  {
   "cell_type": "code",
   "execution_count": null,
   "id": "462ef111",
   "metadata": {},
   "outputs": [],
   "source": []
  },
  {
   "cell_type": "code",
   "execution_count": 52,
   "id": "bcad8b51",
   "metadata": {
    "ExecuteTime": {
     "end_time": "2021-06-30T14:07:33.489401Z",
     "start_time": "2021-06-30T14:07:33.477545Z"
    }
   },
   "outputs": [
    {
     "data": {
      "text/plain": [
       "['AA', 'BB', 'CC']"
      ]
     },
     "execution_count": 52,
     "metadata": {},
     "output_type": "execute_result"
    }
   ],
   "source": [
    "word_3 = [\"A\", \"B\" , \"C\"]\n",
    "word_4 = [\"A\", \"C\" , \"B\"]\n",
    "\n",
    "[i + j for i in word_3 for j in word_4 if not(i==j)]\n",
    "[i + j for i in word_3 for j in word_4 if not(i!=j)]"
   ]
  },
  {
   "cell_type": "code",
   "execution_count": null,
   "id": "02147340",
   "metadata": {},
   "outputs": [],
   "source": []
  },
  {
   "cell_type": "markdown",
   "id": "265c2a3b",
   "metadata": {},
   "source": [
    "## 2-dimensional list"
   ]
  },
  {
   "cell_type": "code",
   "execution_count": null,
   "id": "41cb061c",
   "metadata": {},
   "outputs": [],
   "source": []
  },
  {
   "cell_type": "code",
   "execution_count": 57,
   "id": "42791d92",
   "metadata": {
    "ExecuteTime": {
     "end_time": "2021-06-30T14:11:47.462266Z",
     "start_time": "2021-06-30T14:11:47.458903Z"
    }
   },
   "outputs": [],
   "source": [
    "words = 'The most important thing which is among our nearby daily is the human'.split()"
   ]
  },
  {
   "cell_type": "code",
   "execution_count": 58,
   "id": "1b74f21a",
   "metadata": {
    "ExecuteTime": {
     "end_time": "2021-06-30T14:11:48.003137Z",
     "start_time": "2021-06-30T14:11:47.994028Z"
    }
   },
   "outputs": [],
   "source": [
    "result_2 = [[word.upper(), word.lower(), len(word)] for word in words ]"
   ]
  },
  {
   "cell_type": "code",
   "execution_count": 59,
   "id": "2c023a0d",
   "metadata": {
    "ExecuteTime": {
     "end_time": "2021-06-30T14:11:48.177885Z",
     "start_time": "2021-06-30T14:11:48.164169Z"
    }
   },
   "outputs": [
    {
     "name": "stdout",
     "output_type": "stream",
     "text": [
      "['THE', 'the', 3]\n",
      "['MOST', 'most', 4]\n",
      "['IMPORTANT', 'important', 9]\n",
      "['THING', 'thing', 5]\n",
      "['WHICH', 'which', 5]\n",
      "['IS', 'is', 2]\n",
      "['AMONG', 'among', 5]\n",
      "['OUR', 'our', 3]\n",
      "['NEARBY', 'nearby', 6]\n",
      "['DAILY', 'daily', 5]\n",
      "['IS', 'is', 2]\n",
      "['THE', 'the', 3]\n",
      "['HUMAN', 'human', 5]\n"
     ]
    }
   ],
   "source": [
    "for i in result_2:\n",
    "    print(i)"
   ]
  },
  {
   "cell_type": "code",
   "execution_count": null,
   "id": "723fad02",
   "metadata": {},
   "outputs": [],
   "source": []
  },
  {
   "cell_type": "code",
   "execution_count": 75,
   "id": "01452b42",
   "metadata": {
    "ExecuteTime": {
     "end_time": "2021-06-30T14:14:35.486549Z",
     "start_time": "2021-06-30T14:14:35.478526Z"
    }
   },
   "outputs": [
    {
     "name": "stdout",
     "output_type": "stream",
     "text": [
      "['AD', 'AF', 'ZA', 'ZD', 'ZF', 'FA', 'FD']\n",
      "[['AA', 'ZA', 'FA'], ['AD', 'ZD', 'FD'], ['AF', 'ZF', 'FF']]\n"
     ]
    }
   ],
   "source": [
    "word_5 = ['A', 'Z', 'F']\n",
    "word_6 = ['A', 'D', 'F']\n",
    "\n",
    "print([i + j for i in word_5 for j in word_6 if i!=j]) # 일차원 리스트 만드는 것 , 앞의 for 문이 먼저 진행됨.\n",
    "\n",
    "print([[i + j for i in word_5] for j in word_6 if i!=j]) # 이차원 리스트 만드는 것, 뒤의 for 문이 먼저 실행 됨.\n"
   ]
  },
  {
   "cell_type": "code",
   "execution_count": null,
   "id": "aecc6a6c",
   "metadata": {},
   "outputs": [],
   "source": []
  },
  {
   "cell_type": "markdown",
   "id": "5aa4cd62",
   "metadata": {},
   "source": [
    "## Enumerate"
   ]
  },
  {
   "cell_type": "code",
   "execution_count": null,
   "id": "3a04ddac",
   "metadata": {},
   "outputs": [],
   "source": []
  },
  {
   "cell_type": "code",
   "execution_count": 79,
   "id": "c217d9fe",
   "metadata": {
    "ExecuteTime": {
     "end_time": "2021-06-30T14:17:06.785365Z",
     "start_time": "2021-06-30T14:17:06.780345Z"
    }
   },
   "outputs": [
    {
     "data": {
      "text/plain": [
       "{0: 'Maybe',\n",
       " 1: 'it',\n",
       " 2: 'is',\n",
       " 3: 'amazing',\n",
       " 4: 'show',\n",
       " 5: 'since',\n",
       " 6: 'the',\n",
       " 7: 'nation',\n",
       " 8: 'foundation',\n",
       " 9: 'day'}"
      ]
     },
     "execution_count": 79,
     "metadata": {},
     "output_type": "execute_result"
    }
   ],
   "source": [
    "{i:j for i, j in enumerate('Maybe it is amazing show since the nation foundation day'.split())}"
   ]
  },
  {
   "cell_type": "code",
   "execution_count": null,
   "id": "78d903aa",
   "metadata": {},
   "outputs": [],
   "source": []
  },
  {
   "cell_type": "markdown",
   "id": "8efa3b61",
   "metadata": {},
   "source": [
    "## zip"
   ]
  },
  {
   "cell_type": "code",
   "execution_count": null,
   "id": "3b5cd031",
   "metadata": {},
   "outputs": [],
   "source": []
  },
  {
   "cell_type": "code",
   "execution_count": 84,
   "id": "dae3c491",
   "metadata": {
    "ExecuteTime": {
     "end_time": "2021-06-30T14:19:17.066059Z",
     "start_time": "2021-06-30T14:19:17.061173Z"
    }
   },
   "outputs": [
    {
     "data": {
      "text/plain": [
       "[('ice', 'cream'), ('girl', 'friend'), ('data', 'science')]"
      ]
     },
     "execution_count": 84,
     "metadata": {},
     "output_type": "execute_result"
    }
   ],
   "source": [
    "word_7 = ['ice' , 'girl' , 'data']\n",
    "word_8 = ['cream' , 'friend', 'science']\n",
    "\n",
    "[i for i in zip(word_7, word_8)]"
   ]
  },
  {
   "cell_type": "code",
   "execution_count": null,
   "id": "7e277e70",
   "metadata": {},
   "outputs": [],
   "source": []
  },
  {
   "cell_type": "code",
   "execution_count": 86,
   "id": "485ad028",
   "metadata": {
    "ExecuteTime": {
     "end_time": "2021-06-30T14:20:24.638735Z",
     "start_time": "2021-06-30T14:20:24.628785Z"
    }
   },
   "outputs": [
    {
     "name": "stdout",
     "output_type": "stream",
     "text": [
      "(1, 4, 7) (2, 5, 8) (3, 6, 9)\n"
     ]
    },
    {
     "data": {
      "text/plain": [
       "[12, 15, 18]"
      ]
     },
     "execution_count": 86,
     "metadata": {},
     "output_type": "execute_result"
    }
   ],
   "source": [
    "a,b,c = zip((1,2,3),(4,5,6),(7,8,9))\n",
    "print(a,b,c)\n",
    "[sum(x) for x in zip((1,2,3),(4,5,6),(7,8,9))] #1 4 7 , 2 5 8 , 3 6 9"
   ]
  },
  {
   "cell_type": "code",
   "execution_count": null,
   "id": "ac701311",
   "metadata": {},
   "outputs": [],
   "source": []
  },
  {
   "cell_type": "code",
   "execution_count": 88,
   "id": "aa9e24d1",
   "metadata": {
    "ExecuteTime": {
     "end_time": "2021-06-30T14:21:37.661651Z",
     "start_time": "2021-06-30T14:21:37.656158Z"
    }
   },
   "outputs": [
    {
     "name": "stdout",
     "output_type": "stream",
     "text": [
      "0 ice cream\n",
      "1 girl friend\n",
      "2 data science\n"
     ]
    }
   ],
   "source": [
    "for i ,(a,b) in enumerate(zip(word_7, word_8)):\n",
    "    print(i,a,b)"
   ]
  },
  {
   "cell_type": "code",
   "execution_count": null,
   "id": "c46c6f60",
   "metadata": {},
   "outputs": [],
   "source": []
  },
  {
   "cell_type": "code",
   "execution_count": null,
   "id": "545e0618",
   "metadata": {},
   "outputs": [],
   "source": []
  },
  {
   "cell_type": "code",
   "execution_count": null,
   "id": "47a918f3",
   "metadata": {},
   "outputs": [],
   "source": []
  },
  {
   "cell_type": "code",
   "execution_count": null,
   "id": "b7f9a1fe",
   "metadata": {},
   "outputs": [],
   "source": []
  }
 ],
 "metadata": {
  "kernelspec": {
   "display_name": "Python 3",
   "language": "python",
   "name": "python3"
  },
  "language_info": {
   "codemirror_mode": {
    "name": "ipython",
    "version": 3
   },
   "file_extension": ".py",
   "mimetype": "text/x-python",
   "name": "python",
   "nbconvert_exporter": "python",
   "pygments_lexer": "ipython3",
   "version": "3.7.9"
  },
  "toc": {
   "base_numbering": 1,
   "nav_menu": {},
   "number_sections": true,
   "sideBar": true,
   "skip_h1_title": false,
   "title_cell": "Table of Contents",
   "title_sidebar": "Contents",
   "toc_cell": false,
   "toc_position": {},
   "toc_section_display": true,
   "toc_window_display": false
  }
 },
 "nbformat": 4,
 "nbformat_minor": 5
}

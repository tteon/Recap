{
 "cells": [
  {
   "cell_type": "markdown",
   "metadata": {},
   "source": [
    "# source ; https://towardsdatascience.com/10-idiotic-ways-to-refactor-your-python-code-cbb05bb0c820"
   ]
  },
  {
   "cell_type": "markdown",
   "metadata": {},
   "source": [
    "## 1. Comprehensions"
   ]
  },
  {
   "cell_type": "markdown",
   "metadata": {},
   "source": [
    "### [expression for x in iterable if any_condition]"
   ]
  },
  {
   "cell_type": "code",
   "execution_count": 6,
   "metadata": {},
   "outputs": [
    {
     "name": "stdout",
     "output_type": "stream",
     "text": [
      "[0, 1, 2, 3, 4]\n"
     ]
    }
   ],
   "source": [
    "# Create a list of numbers as out start point\n",
    "numbers = list(range(5))\n",
    "print(numbers)\n"
   ]
  },
  {
   "cell_type": "code",
   "execution_count": 7,
   "metadata": {},
   "outputs": [
    {
     "name": "stdout",
     "output_type": "stream",
     "text": [
      "[0, 4, 16]\n"
     ]
    }
   ],
   "source": [
    "# Instead of doing this:\n",
    "squares0 = []\n",
    "for number in numbers:\n",
    "    if number%2 == 0:\n",
    "        squares0.append(number*number)\n",
    "        \n",
    "print(squares0)"
   ]
  },
  {
   "cell_type": "code",
   "execution_count": 8,
   "metadata": {},
   "outputs": [
    {
     "name": "stdout",
     "output_type": "stream",
     "text": [
      "[0, 4, 16]\n"
     ]
    }
   ],
   "source": [
    "# The idiomatic way;\n",
    "squares1 = [x*x for x in numbers if x%2 ==0]\n",
    "print(squares1)"
   ]
  },
  {
   "cell_type": "markdown",
   "metadata": {},
   "source": [
    "### {key_expr: val_expr for item in iterable}"
   ]
  },
  {
   "cell_type": "code",
   "execution_count": 9,
   "metadata": {},
   "outputs": [
    {
     "data": {
      "text/plain": [
       "{0: 0, 1: 1, 2: 4, 3: 9, 4: 16}"
      ]
     },
     "execution_count": 9,
     "metadata": {},
     "output_type": "execute_result"
    }
   ],
   "source": [
    "# Dicitionary comprehension\n",
    "{x: x*x for x in range(5)}"
   ]
  },
  {
   "cell_type": "code",
   "execution_count": 10,
   "metadata": {},
   "outputs": [
    {
     "data": {
      "text/plain": [
       "{0, 1, 4, 9, 16}"
      ]
     },
     "execution_count": 10,
     "metadata": {},
     "output_type": "execute_result"
    }
   ],
   "source": [
    "# Set comprehension\n",
    "{x*x for x in range(5)}"
   ]
  },
  {
   "cell_type": "markdown",
   "metadata": {},
   "source": [
    "## F-Stings"
   ]
  },
  {
   "cell_type": "code",
   "execution_count": 14,
   "metadata": {},
   "outputs": [
    {
     "name": "stdout",
     "output_type": "stream",
     "text": [
      "1 USD = 0.89 EUR\n",
      "1 USD = 0.89 EUR\n",
      "1 USD = 0.89 EUR\n"
     ]
    }
   ],
   "source": [
    "## Define the conversion ratio\n",
    "usd_to_eur = 0.89\n",
    "\n",
    "# Instead of doing these;\n",
    "print('1 USD = {rate:.2f} EUR'.format(rate=usd_to_eur))\n",
    "print('1 USD = %.2f EUR' % usd_to_eur)\n",
    "# The idiomatic way;\n",
    "print(f'1 USD = {usd_to_eur:.2f} EUR')"
   ]
  },
  {
   "cell_type": "markdown",
   "metadata": {},
   "source": [
    "## Multiple Assignment and Tuple Unpacking"
   ]
  },
  {
   "cell_type": "code",
   "execution_count": 15,
   "metadata": {},
   "outputs": [],
   "source": [
    "# Instead of doing this;\n",
    "code = 404\n",
    "message = 'Not Found'\n",
    "\n",
    "# The idiomatic way;\n",
    "code, message = 404, 'Not Found'"
   ]
  },
  {
   "cell_type": "code",
   "execution_count": 18,
   "metadata": {},
   "outputs": [
    {
     "name": "stdout",
     "output_type": "stream",
     "text": [
      "code: 404, message: Not Found\n"
     ]
    }
   ],
   "source": [
    "# Define a tuple and unpack it\n",
    "http_response = (404, 'Not Found')\n",
    "code , message = http_response\n",
    "print(f'code: {code}, message: {message}')"
   ]
  },
  {
   "cell_type": "markdown",
   "metadata": {},
   "source": [
    "## Catch-All Unpacking"
   ]
  },
  {
   "cell_type": "code",
   "execution_count": 23,
   "metadata": {},
   "outputs": [
    {
     "name": "stdout",
     "output_type": "stream",
     "text": [
      "True\n",
      "False\n",
      "True\n"
     ]
    }
   ],
   "source": [
    "# Define the tuple for unpacking \n",
    "numbers = tuple(range(8))\n",
    "numbers\n",
    "# (0, 1, 2, 3, 4, 5, 6, 7)\n",
    "# Instead of doing this;\n",
    "first_number0 = numbers[0]\n",
    "middle_numbers0 = numbers[1:-1]\n",
    "last_number0 = numbers[-1]\n",
    "\n",
    "# The idiotic way;\n",
    "first_number1, *middle_numbers1, last_number1 = numbers\n",
    "\n",
    "# Verify the results;\n",
    "print(first_number0 == first_number1)\n",
    "\n",
    "print(middle_numbers0 == middle_numbers1)\n",
    "\n",
    "print(last_number0 == last_number1)"
   ]
  },
  {
   "cell_type": "markdown",
   "metadata": {},
   "source": [
    "### As you may notice, the values of middle_numbers0 and middle_numbers1 aren’t equal. \n",
    "\n",
    "### It’s because that the catch-all unpacking (using the asterisk) generates a list object by default. \n",
    "\n",
    "### Thus, to make the final unpacked data have the same data type, we can use the tuple constructor, as shown below."
   ]
  },
  {
   "cell_type": "code",
   "execution_count": 24,
   "metadata": {},
   "outputs": [
    {
     "name": "stdout",
     "output_type": "stream",
     "text": [
      "True\n"
     ]
    }
   ],
   "source": [
    "# Convert the unpacked list to tuple\n",
    "print(middle_numbers0 == tuple(middle_numbers1))"
   ]
  },
  {
   "cell_type": "markdown",
   "metadata": {},
   "source": [
    "## Assignment Expression"
   ]
  },
  {
   "cell_type": "code",
   "execution_count": 25,
   "metadata": {},
   "outputs": [],
   "source": [
    "# Define some helper functions\n",
    "def get_account(social_security_number):\n",
    "    pass\n",
    "\n",
    "def withdraw_money(account_number):\n",
    "    pass\n",
    "   \n",
    "def found_no_account():\n",
    "    pass"
   ]
  },
  {
   "cell_type": "code",
   "execution_count": 26,
   "metadata": {},
   "outputs": [],
   "source": [
    "# Instead of doing this:\n",
    "account_number = get_account('123-45-6789')\n",
    "if account_number:\n",
    "    withdraw_money(account_number)\n",
    "else:\n",
    "    found_no_account()   "
   ]
  },
  {
   "cell_type": "code",
   "execution_count": 27,
   "metadata": {},
   "outputs": [
    {
     "ename": "SyntaxError",
     "evalue": "invalid syntax (<ipython-input-27-6cede282a4ed>, line 2)",
     "output_type": "error",
     "traceback": [
      "\u001b[1;36m  File \u001b[1;32m\"<ipython-input-27-6cede282a4ed>\"\u001b[1;36m, line \u001b[1;32m2\u001b[0m\n\u001b[1;33m    if account_number := get_account('123-45-6789'):\u001b[0m\n\u001b[1;37m                       ^\u001b[0m\n\u001b[1;31mSyntaxError\u001b[0m\u001b[1;31m:\u001b[0m invalid syntax\n"
     ]
    }
   ],
   "source": [
    "# The idiomatic way;\n",
    "if account_number := get_account('123-45-6789'):\n",
    "    withdraw_money(account_number)\n",
    "else:\n",
    "    found_no_account()"
   ]
  },
  {
   "cell_type": "markdown",
   "metadata": {},
   "source": [
    "## Iteration with enumerate\n",
    "\n",
    "_In almost every project, we inevitably make our program repeat particular operations for all the elements in a list, tuple, or some other container data types. These repeated operations can be achieved with the for loop. Normally, we can use the basic form: for item in iterable. However, for the iteration, if we need to track the count of the current iteration loop, it’s better to use the enumerate function, which can create the counter for us. Moreover, we can set the number at which we can start the counter._"
   ]
  },
  {
   "cell_type": "code",
   "execution_count": 38,
   "metadata": {},
   "outputs": [
    {
     "name": "stdout",
     "output_type": "stream",
     "text": [
      "# 1: John \n",
      "\n",
      "# 2: Jack \n",
      "\n",
      "# 3: Jennifer \n",
      "\n",
      "# 4: June \n",
      "\n",
      "# 1: John \n",
      "\n",
      "# 2: Jack \n",
      "\n",
      "# 3: Jennifer \n",
      "\n",
      "# 4: June \n",
      "\n"
     ]
    }
   ],
   "source": [
    "# Create a list of students for iteration\n",
    "students = ['John', 'Jack', 'Jennifer', 'June']\n",
    "\n",
    "# Instead of doing this;\n",
    "for i in range(len(students)):\n",
    "    student = students[i]\n",
    "    print(f\"# {i+1}: {student} \\n\")\n",
    "    \n",
    "# 1: John\n",
    "# 2: Jack\n",
    "# 3: Jennifer\n",
    "# 4: June\n",
    "\n",
    "# The idiomatic way;\n",
    "for i, student in enumerate(students, 1):\n",
    "    print(f\"# {i}: {student} \\n\")\n"
   ]
  },
  {
   "cell_type": "markdown",
   "metadata": {},
   "source": [
    "## Join Iterables With zip/zip_longest"
   ]
  },
  {
   "cell_type": "code",
   "execution_count": 42,
   "metadata": {},
   "outputs": [
    {
     "name": "stdout",
     "output_type": "stream",
     "text": [
      "{'John': 95, 'Mike': 90, 'Sam': 98, 'David': 97}\n",
      "{'John': 95, 'Mike': 90, 'Sam': 98, 'David': 97}\n",
      "{'John': 95, 'Mike': 90, 'Sam': 98, 'David': 97, 'Danny': None}\n"
     ]
    }
   ],
   "source": [
    "# Create two lists of objects for zipping\n",
    "students = ['John', 'Mike', 'Sam', 'David', 'Danny']\n",
    "grades = [95, 90, 98, 97]\n",
    "\n",
    "# instead of doing this;\n",
    "grade_tracking0 = {}\n",
    "for i in range(min(len(students), len(grades))):\n",
    "    grade_tracking0[students[i]] = grades[i]\n",
    "    \n",
    "print(grade_tracking0)\n",
    "\n",
    "# The idiomatic ways;\n",
    "grade_tracking1 = dict(zip(students, grades))\n",
    "print(grade_tracking1)\n",
    "\n",
    "from itertools import zip_longest\n",
    "grade_tracking2 = dict(zip_longest(students, grades))\n",
    "print(grade_tracking2)"
   ]
  },
  {
   "cell_type": "code",
   "execution_count": 45,
   "metadata": {},
   "outputs": [
    {
     "name": "stdout",
     "output_type": "stream",
     "text": [
      "John, 95\n",
      "Mike, 90\n",
      "Sam, 98\n",
      "David, 97\n"
     ]
    }
   ],
   "source": [
    "for student, grade in zip(students, grades):\n",
    "    print(f\"{student}, {grade}\")"
   ]
  },
  {
   "cell_type": "markdown",
   "metadata": {},
   "source": [
    "## Concatenate Iterables\n",
    "\n",
    "##### Suppose that we need to go over two iterables of elements of the same category for the same operation. We can achieve this functionality by using the chain function. Let’s see the usage below."
   ]
  },
  {
   "cell_type": "code",
   "execution_count": 47,
   "metadata": {},
   "outputs": [],
   "source": [
    "# Define the data and a helper function\n",
    "from itertools import chain\n",
    "group0 = ['Jack', 'John', 'David']\n",
    "group1 = ['Ann', 'Bill', 'Cathy']\n",
    " \n",
    "def present_project(student):\n",
    "    pass"
   ]
  },
  {
   "cell_type": "code",
   "execution_count": 49,
   "metadata": {},
   "outputs": [],
   "source": [
    "# Instead of doing these;\n",
    "for group in [group0, group1]:\n",
    "    for student in group:\n",
    "        present_project(student)\n",
    "        \n",
    "for student in group0 + group1:\n",
    "    present_project(student)\n",
    "    \n",
    "# The idiomatic way;\n",
    "for student in chain(group0, group1):\n",
    "    present_project(student)"
   ]
  },
  {
   "cell_type": "markdown",
   "metadata": {},
   "source": [
    "## Ternary Expression\n",
    "\n",
    "##### syntax : var = true_value if condition else false_value"
   ]
  },
  {
   "cell_type": "code",
   "execution_count": 51,
   "metadata": {},
   "outputs": [],
   "source": [
    "# Define a helper function\n",
    "from random import randint\n",
    "def got_even_number():\n",
    "    return randint(1, 10) % 2 == 0\n",
    "\n",
    "# Instead of doing these:\n",
    "if got_even_number():\n",
    "    state = \"Even\"\n",
    "else:\n",
    "    state = \"Odd\"\n",
    "    \n",
    "state = 'Odd'\n",
    "if got_even_number():\n",
    "    state = \"Even\"\n",
    "    \n",
    "# The idiomatic way;\n",
    "state = 'Even' if got_even_number() else 'Odd'"
   ]
  },
  {
   "cell_type": "markdown",
   "metadata": {},
   "source": [
    "## Use of Generators\n",
    "\n",
    "### Consider the following trivial example. Suppose that we need to process tons of data in a file. \n",
    "### Theoretically, we can read the entire file to a list and process each row of the data in the list. \n",
    "### However, it’s entirely possible that your computer can run out of memory when the file is enormously large. \n",
    "### Instead, the better and more idiomatic solution is to make a generator from the file, which yields only one row of data each time at demand."
   ]
  },
  {
   "cell_type": "code",
   "execution_count": null,
   "metadata": {},
   "outputs": [],
   "source": [
    "# Define a helper function\n",
    "def process_data(row_data):\n",
    "    pass\n",
    "\n",
    "# Instead of doing this;\n",
    "with open('large file') as file:\n",
    "    read_data = file.read().split('\\n')\n",
    "    for row_data in read_data:\n",
    "        process_data(row_data)\n",
    "        \n",
    "# The idiomatic way;\n",
    "with open('large_file') as file:\n",
    "    for row_data in file:\n",
    "        procesS_data(row_data)"
   ]
  }
 ],
 "metadata": {
  "kernelspec": {
   "display_name": "Python 3",
   "language": "python",
   "name": "python3"
  },
  "language_info": {
   "name": ""
  }
 },
 "nbformat": 4,
 "nbformat_minor": 4
}

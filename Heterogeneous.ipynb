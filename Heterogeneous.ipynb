{
 "cells": [
  {
   "cell_type": "code",
   "execution_count": null,
   "id": "213f3727",
   "metadata": {},
   "outputs": [],
   "source": []
  },
  {
   "cell_type": "code",
   "execution_count": null,
   "id": "f56b062e",
   "metadata": {},
   "outputs": [],
   "source": []
  },
  {
   "cell_type": "code",
   "execution_count": 205,
   "id": "f57cdf4f",
   "metadata": {
    "ExecuteTime": {
     "end_time": "2021-06-27T06:09:41.580167Z",
     "start_time": "2021-06-27T06:09:41.576851Z"
    }
   },
   "outputs": [],
   "source": [
    "import pandas as pd\n",
    "import tqdm\n",
    "import numpy as np\n",
    "import sklearn.metrics\n",
    "\n",
    "import torch\n",
    "import torch.nn as nn\n",
    "import torch.nn.functional as F\n",
    "import dgl\n",
    "import dgl.nn as dglnn"
   ]
  },
  {
   "cell_type": "code",
   "execution_count": null,
   "id": "333a0d6a",
   "metadata": {},
   "outputs": [],
   "source": []
  },
  {
   "cell_type": "code",
   "execution_count": 1,
   "id": "715c13ec",
   "metadata": {
    "ExecuteTime": {
     "end_time": "2021-06-27T04:10:24.754686Z",
     "start_time": "2021-06-27T04:04:28.355088Z"
    }
   },
   "outputs": [
    {
     "name": "stderr",
     "output_type": "stream",
     "text": [
      "Using backend: pytorch\n"
     ]
    },
    {
     "name": "stdout",
     "output_type": "stream",
     "text": [
      "Downloading http://snap.stanford.edu/ogb/data/nodeproppred/mag.zip\n"
     ]
    },
    {
     "name": "stderr",
     "output_type": "stream",
     "text": [
      "Downloaded 0.40 GB: 100%|██████████| 413/413 [04:41<00:00,  1.46it/s]\n"
     ]
    },
    {
     "name": "stdout",
     "output_type": "stream",
     "text": [
      "Extracting dataset/mag.zip\n",
      "Loading necessary files...\n",
      "This might take a while.\n"
     ]
    },
    {
     "name": "stderr",
     "output_type": "stream",
     "text": [
      "100%|██████████| 1/1 [00:00<00:00, 8507.72it/s]\n",
      "  0%|          | 0/1 [00:00<?, ?it/s]"
     ]
    },
    {
     "name": "stdout",
     "output_type": "stream",
     "text": [
      "Processing graphs...\n",
      "Converting graphs into DGL objects...\n"
     ]
    },
    {
     "name": "stderr",
     "output_type": "stream",
     "text": [
      "100%|██████████| 1/1 [00:40<00:00, 40.48s/it]\n"
     ]
    },
    {
     "name": "stdout",
     "output_type": "stream",
     "text": [
      "Saving...\n"
     ]
    }
   ],
   "source": [
    "from ogb.nodeproppred import DglNodePropPredDataset\n",
    "\n",
    "dataset = DglNodePropPredDataset(name='ogbn-mag')"
   ]
  },
  {
   "cell_type": "code",
   "execution_count": null,
   "id": "f3027b37",
   "metadata": {},
   "outputs": [],
   "source": []
  },
  {
   "cell_type": "markdown",
   "id": "99fb6c1e",
   "metadata": {},
   "source": [
    "데이터셋은 다음과 같은 요소들이 포함되어있음.\n",
    "\n",
    "- DGL graph object\n",
    "\n",
    "- The node label tensor"
   ]
  },
  {
   "cell_type": "markdown",
   "id": "dfa56c1d",
   "metadata": {},
   "source": [
    "GPU 명시"
   ]
  },
  {
   "cell_type": "code",
   "execution_count": 172,
   "id": "56a2fbb6",
   "metadata": {
    "ExecuteTime": {
     "end_time": "2021-06-27T05:51:38.049581Z",
     "start_time": "2021-06-27T05:51:38.047010Z"
    }
   },
   "outputs": [],
   "source": [
    "device = 'cuda'"
   ]
  },
  {
   "cell_type": "code",
   "execution_count": null,
   "id": "11ce7948",
   "metadata": {},
   "outputs": [],
   "source": []
  },
  {
   "cell_type": "code",
   "execution_count": 3,
   "id": "42439ffa",
   "metadata": {
    "ExecuteTime": {
     "end_time": "2021-06-27T05:00:33.059747Z",
     "start_time": "2021-06-27T05:00:32.972695Z"
    }
   },
   "outputs": [],
   "source": [
    "graph, label = dataset[0] # graph ; dgl graph object, label ; torch tensor of shape (num_nodes, 1)\n",
    "\n",
    "split_idx = dataset.get_idx_split()\n",
    "train_nids, valid_nids, test_nids = split_idx['train'], split_idx['valid'], split_idx['test']"
   ]
  },
  {
   "cell_type": "markdown",
   "id": "7cc222ee",
   "metadata": {},
   "source": [
    "# Data description"
   ]
  },
  {
   "cell_type": "code",
   "execution_count": 33,
   "id": "5a50e874",
   "metadata": {
    "ExecuteTime": {
     "end_time": "2021-06-27T05:06:01.076915Z",
     "start_time": "2021-06-27T05:06:01.073829Z"
    }
   },
   "outputs": [],
   "source": [
    "node_type = pd.DataFrame(graph.ntypes,columns=['node_type'])\n",
    "edge_type = pd.DataFrame(graph.etypes,columns=['edge_type'])\n",
    "graph_data = pd.concat([node_type,edge_type,relation_type],axis=1)"
   ]
  },
  {
   "cell_type": "code",
   "execution_count": 44,
   "id": "38fc7d45",
   "metadata": {
    "ExecuteTime": {
     "end_time": "2021-06-27T05:07:26.294608Z",
     "start_time": "2021-06-27T05:07:26.285887Z"
    }
   },
   "outputs": [
    {
     "data": {
      "text/html": [
       "<div>\n",
       "<style scoped>\n",
       "    .dataframe tbody tr th:only-of-type {\n",
       "        vertical-align: middle;\n",
       "    }\n",
       "\n",
       "    .dataframe tbody tr th {\n",
       "        vertical-align: top;\n",
       "    }\n",
       "\n",
       "    .dataframe thead th {\n",
       "        text-align: right;\n",
       "    }\n",
       "</style>\n",
       "<table border=\"1\" class=\"dataframe\">\n",
       "  <thead>\n",
       "    <tr style=\"text-align: right;\">\n",
       "      <th></th>\n",
       "      <th>node_type</th>\n",
       "      <th>edge_type</th>\n",
       "      <th>source</th>\n",
       "      <th>relation</th>\n",
       "      <th>destination</th>\n",
       "    </tr>\n",
       "  </thead>\n",
       "  <tbody>\n",
       "    <tr>\n",
       "      <th>0</th>\n",
       "      <td>author</td>\n",
       "      <td>affiliated_with</td>\n",
       "      <td>author</td>\n",
       "      <td>affiliated_with</td>\n",
       "      <td>institution</td>\n",
       "    </tr>\n",
       "    <tr>\n",
       "      <th>1</th>\n",
       "      <td>field_of_study</td>\n",
       "      <td>writes</td>\n",
       "      <td>author</td>\n",
       "      <td>writes</td>\n",
       "      <td>paper</td>\n",
       "    </tr>\n",
       "    <tr>\n",
       "      <th>2</th>\n",
       "      <td>institution</td>\n",
       "      <td>cites</td>\n",
       "      <td>paper</td>\n",
       "      <td>cites</td>\n",
       "      <td>paper</td>\n",
       "    </tr>\n",
       "    <tr>\n",
       "      <th>3</th>\n",
       "      <td>paper</td>\n",
       "      <td>has_topic</td>\n",
       "      <td>paper</td>\n",
       "      <td>has_topic</td>\n",
       "      <td>field_of_study</td>\n",
       "    </tr>\n",
       "  </tbody>\n",
       "</table>\n",
       "</div>"
      ],
      "text/plain": [
       "        node_type        edge_type  source         relation     destination\n",
       "0          author  affiliated_with  author  affiliated_with     institution\n",
       "1  field_of_study           writes  author           writes           paper\n",
       "2     institution            cites   paper            cites           paper\n",
       "3           paper        has_topic   paper        has_topic  field_of_study"
      ]
     },
     "execution_count": 44,
     "metadata": {},
     "output_type": "execute_result"
    }
   ],
   "source": [
    "graph_data"
   ]
  },
  {
   "cell_type": "markdown",
   "id": "7f0ef5ca",
   "metadata": {},
   "source": [
    "Graph 가 heterogeneous 하기 때문에 우리의 node를 사전형 자료구조로 구성했음. key는 node type , value는 node id 리스트로 이루어져 있음 "
   ]
  },
  {
   "cell_type": "code",
   "execution_count": 53,
   "id": "14dfefd6",
   "metadata": {
    "ExecuteTime": {
     "end_time": "2021-06-27T05:09:26.448373Z",
     "start_time": "2021-06-27T05:09:26.444194Z"
    }
   },
   "outputs": [
    {
     "data": {
      "text/plain": [
       "OutMultiEdgeDataView([('author', 'institution'), ('author', 'paper'), ('paper', 'paper'), ('paper', 'field_of_study')])"
      ]
     },
     "execution_count": 53,
     "metadata": {},
     "output_type": "execute_result"
    }
   ],
   "source": [
    "graph.metagraph().edges()"
   ]
  },
  {
   "cell_type": "code",
   "execution_count": 52,
   "id": "87efecd0",
   "metadata": {
    "ExecuteTime": {
     "end_time": "2021-06-27T05:09:09.865748Z",
     "start_time": "2021-06-27T05:09:09.861945Z"
    }
   },
   "outputs": [
    {
     "data": {
      "text/plain": [
       "{'paper': tensor([     0,      1,      2,  ..., 736386, 736387, 736388])}"
      ]
     },
     "execution_count": 52,
     "metadata": {},
     "output_type": "execute_result"
    }
   ],
   "source": [
    "train_nids"
   ]
  },
  {
   "cell_type": "code",
   "execution_count": 54,
   "id": "b06eaef3",
   "metadata": {
    "ExecuteTime": {
     "end_time": "2021-06-27T05:15:13.524164Z",
     "start_time": "2021-06-27T05:15:13.519760Z"
    }
   },
   "outputs": [
    {
     "data": {
      "text/plain": [
       "1939743"
      ]
     },
     "execution_count": 54,
     "metadata": {},
     "output_type": "execute_result"
    }
   ],
   "source": []
  },
  {
   "cell_type": "code",
   "execution_count": 79,
   "id": "c4f257cd",
   "metadata": {
    "ExecuteTime": {
     "end_time": "2021-06-27T05:20:13.935673Z",
     "start_time": "2021-06-27T05:20:13.924276Z"
    }
   },
   "outputs": [
    {
     "name": "stdout",
     "output_type": "stream",
     "text": [
      "노드 총 갯수\n"
     ]
    },
    {
     "data": {
      "text/plain": [
       "1939743"
      ]
     },
     "metadata": {},
     "output_type": "display_data"
    },
    {
     "name": "stdout",
     "output_type": "stream",
     "text": [
      "author 갯수\n"
     ]
    },
    {
     "data": {
      "text/plain": [
       "1134649"
      ]
     },
     "metadata": {},
     "output_type": "display_data"
    },
    {
     "name": "stdout",
     "output_type": "stream",
     "text": [
      "field_of_study 갯수\n"
     ]
    },
    {
     "data": {
      "text/plain": [
       "59965"
      ]
     },
     "metadata": {},
     "output_type": "display_data"
    },
    {
     "name": "stdout",
     "output_type": "stream",
     "text": [
      "institution 갯수\n"
     ]
    },
    {
     "data": {
      "text/plain": [
       "8740"
      ]
     },
     "metadata": {},
     "output_type": "display_data"
    },
    {
     "name": "stdout",
     "output_type": "stream",
     "text": [
      "paper 갯수\n"
     ]
    },
    {
     "data": {
      "text/plain": [
       "736389"
      ]
     },
     "metadata": {},
     "output_type": "display_data"
    }
   ],
   "source": [
    "# node의 데이터갯수가 balanced 될 필요 없음.\n",
    "print(f'노드 총 갯수')\n",
    "display(graph.num_nodes())\n",
    "print(f'author 갯수')\n",
    "display(graph.num_nodes('author'))\n",
    "print(f'field_of_study 갯수')\n",
    "display(graph.num_nodes('field_of_study'))\n",
    "print(f'institution 갯수')\n",
    "display(graph.num_nodes('institution'))\n",
    "print(f'paper 갯수')\n",
    "display(graph.num_nodes('paper'))"
   ]
  },
  {
   "cell_type": "code",
   "execution_count": 80,
   "id": "e1a40aa2",
   "metadata": {
    "ExecuteTime": {
     "end_time": "2021-06-27T05:20:32.429968Z",
     "start_time": "2021-06-27T05:20:32.420670Z"
    }
   },
   "outputs": [
    {
     "name": "stdout",
     "output_type": "stream",
     "text": [
      "엣지 총 갯수\n"
     ]
    },
    {
     "data": {
      "text/plain": [
       "21111007"
      ]
     },
     "metadata": {},
     "output_type": "display_data"
    },
    {
     "name": "stdout",
     "output_type": "stream",
     "text": [
      "affiliated 엣지 총 갯수\n"
     ]
    },
    {
     "data": {
      "text/plain": [
       "1043998"
      ]
     },
     "metadata": {},
     "output_type": "display_data"
    },
    {
     "name": "stdout",
     "output_type": "stream",
     "text": [
      "writes 엣지 총 갯수\n"
     ]
    },
    {
     "data": {
      "text/plain": [
       "7145660"
      ]
     },
     "metadata": {},
     "output_type": "display_data"
    },
    {
     "name": "stdout",
     "output_type": "stream",
     "text": [
      "cities 엣지 총 갯수\n"
     ]
    },
    {
     "data": {
      "text/plain": [
       "5416271"
      ]
     },
     "metadata": {},
     "output_type": "display_data"
    },
    {
     "name": "stdout",
     "output_type": "stream",
     "text": [
      "has_topic 엣지 총 갯수\n"
     ]
    },
    {
     "data": {
      "text/plain": [
       "7505078"
      ]
     },
     "metadata": {},
     "output_type": "display_data"
    }
   ],
   "source": [
    "print(f'엣지 총 갯수')\n",
    "display(graph.num_edges())\n",
    "print(f'affiliated 엣지 총 갯수')\n",
    "display(graph.num_edges('affiliated_with'))\n",
    "print(f'writes 엣지 총 갯수')\n",
    "display(graph.num_edges('writes'))\n",
    "print(f'cities 엣지 총 갯수')\n",
    "display(graph.num_edges('cites'))\n",
    "print(f'has_topic 엣지 총 갯수')\n",
    "display(graph.num_edges('has_topic'))"
   ]
  },
  {
   "cell_type": "code",
   "execution_count": null,
   "id": "18692189",
   "metadata": {},
   "outputs": [],
   "source": []
  },
  {
   "cell_type": "code",
   "execution_count": 104,
   "id": "db185b95",
   "metadata": {
    "ExecuteTime": {
     "end_time": "2021-06-27T05:24:59.060568Z",
     "start_time": "2021-06-27T05:24:59.054350Z"
    }
   },
   "outputs": [
    {
     "data": {
      "text/plain": [
       "tensor(349)"
      ]
     },
     "metadata": {},
     "output_type": "display_data"
    },
    {
     "data": {
      "text/plain": [
       "349"
      ]
     },
     "metadata": {},
     "output_type": "display_data"
    }
   ],
   "source": [
    "# 자주 헷갈리는 item()의 유무에 따른 data \n",
    "\n",
    "display((node_labels.max() + 1))\n",
    "display((node_labels.max() + 1).item())"
   ]
  },
  {
   "cell_type": "markdown",
   "id": "3e3b101e",
   "metadata": {},
   "source": [
    "- node features 형태는 모두 tensor로 담겨있어야 함."
   ]
  },
  {
   "cell_type": "code",
   "execution_count": 107,
   "id": "7f58d54b",
   "metadata": {
    "ExecuteTime": {
     "end_time": "2021-06-27T05:25:51.807432Z",
     "start_time": "2021-06-27T05:25:51.798238Z"
    }
   },
   "outputs": [
    {
     "name": "stdout",
     "output_type": "stream",
     "text": [
      "Graph(num_nodes={'author': 1134649, 'field_of_study': 59965, 'institution': 8740, 'paper': 736389},\n",
      "      num_edges={('author', 'affiliated_with', 'institution'): 1043998, ('author', 'writes', 'paper'): 7145660, ('paper', 'cites', 'paper'): 5416271, ('paper', 'has_topic', 'field_of_study'): 7505078},\n",
      "      metagraph=[('author', 'institution', 'affiliated_with'), ('author', 'paper', 'writes'), ('paper', 'paper', 'cites'), ('paper', 'field_of_study', 'has_topic')])\n",
      "Node labels\n",
      "Shape of target node labels: torch.Size([736389])\n",
      "Num of classes : 349\n",
      "Node features\n",
      "Shape of features of paper node type : 128\n"
     ]
    }
   ],
   "source": [
    "print(graph)\n",
    "\n",
    "print('Node labels')\n",
    "node_labels = label['paper'].flatten()\n",
    "\n",
    "print('Shape of target node labels:', node_labels.shape)\n",
    "num_classes = (node_labels.max() + 1).item()\n",
    "print(f'Num of classes : {num_classes}')\n",
    "\n",
    "print('Node features')\n",
    "node_features = graph.nodes['paper'].data['feat']\n",
    "num_features = node_features.shape[1]\n",
    "print(f'Shape of features of paper node type : {num_features}')\n"
   ]
  },
  {
   "cell_type": "code",
   "execution_count": null,
   "id": "bfe22378",
   "metadata": {},
   "outputs": [],
   "source": []
  },
  {
   "cell_type": "markdown",
   "id": "bd4df877",
   "metadata": {},
   "source": [
    "## Add reverse edges\n",
    "\n",
    "Realation 이 고정된, directed 형태로 구성되어있기에 reversed 해주어 undirected 로 설정해주는 과정."
   ]
  },
  {
   "cell_type": "code",
   "execution_count": 133,
   "id": "9ff64f9a",
   "metadata": {
    "ExecuteTime": {
     "end_time": "2021-06-27T05:30:59.293988Z",
     "start_time": "2021-06-27T05:30:59.290166Z"
    }
   },
   "outputs": [
    {
     "name": "stdout",
     "output_type": "stream",
     "text": [
      "['author', 'institution', 'paper', 'field_of_study']\n",
      "[('author', 'institution'), ('author', 'paper'), ('paper', 'paper'), ('paper', 'field_of_study')]\n"
     ]
    }
   ],
   "source": [
    "print(graph.metagraph().nodes())\n",
    "print(graph.metagraph().edges())"
   ]
  },
  {
   "cell_type": "code",
   "execution_count": 134,
   "id": "fc571cf4",
   "metadata": {
    "ExecuteTime": {
     "end_time": "2021-06-27T05:31:33.773727Z",
     "start_time": "2021-06-27T05:31:33.769195Z"
    }
   },
   "outputs": [
    {
     "data": {
      "text/plain": [
       "Graph(num_nodes={'author': 1134649, 'field_of_study': 59965, 'institution': 8740, 'paper': 736389},\n",
       "      num_edges={('author', 'affiliated_with', 'institution'): 1043998, ('author', 'writes', 'paper'): 7145660, ('paper', 'cites', 'paper'): 5416271, ('paper', 'has_topic', 'field_of_study'): 7505078},\n",
       "      metagraph=[('author', 'institution', 'affiliated_with'), ('author', 'paper', 'writes'), ('paper', 'paper', 'cites'), ('paper', 'field_of_study', 'has_topic')])"
      ]
     },
     "execution_count": 134,
     "metadata": {},
     "output_type": "execute_result"
    }
   ],
   "source": [
    "graph"
   ]
  },
  {
   "cell_type": "code",
   "execution_count": 228,
   "id": "56a487c4",
   "metadata": {
    "ExecuteTime": {
     "end_time": "2021-06-27T06:54:21.054366Z",
     "start_time": "2021-06-27T06:54:20.623806Z"
    }
   },
   "outputs": [],
   "source": [
    "src_writes, dst_writes = graph.all_edges(etype=\"writes\")\n",
    "src_topic, dst_topic = graph.all_edges(etype=\"has_topic\")\n",
    "src_aff, dst_aff = graph.all_edges(etype=\"affiliated_with\")\n",
    "\n",
    "\n",
    "graph = dgl.heterograph({\n",
    "    (\"author\", \"writes\", \"paper\"): (src_writes, dst_writes),\n",
    "    (\"paper\", \"has_topic\", \"field_of_study\"): (src_topic, dst_topic),\n",
    "    (\"author\", \"affiliated_with\", \"institution\"): (src_aff, dst_aff),\n",
    "    (\"paper\", \"writes-rev\", \"author\"): (dst_writes, src_writes),\n",
    "    (\"field_of_study\", \"has_topic-rev\", \"paper\"): (dst_topic, src_topic),\n",
    "    (\"institution\", \"affiliated_with-rev\", \"author\"): (dst_aff, src_aff),\n",
    "})"
   ]
  },
  {
   "cell_type": "code",
   "execution_count": 151,
   "id": "c1489800",
   "metadata": {
    "ExecuteTime": {
     "end_time": "2021-06-27T05:36:03.910588Z",
     "start_time": "2021-06-27T05:36:03.903254Z"
    }
   },
   "outputs": [
    {
     "data": {
      "text/plain": [
       "Graph(num_nodes={'author': 1134649, 'field_of_study': 59965, 'institution': 8740, 'paper': 736389},\n",
       "      num_edges={('author', 'affiliated_with', 'institution'): 1043998, ('author', 'writes', 'paper'): 7145660, ('paper', 'cites', 'paper'): 5416271, ('paper', 'has_topic', 'field_of_study'): 7505078},\n",
       "      metagraph=[('author', 'institution', 'affiliated_with'), ('author', 'paper', 'writes'), ('paper', 'paper', 'cites'), ('paper', 'field_of_study', 'has_topic')])"
      ]
     },
     "metadata": {},
     "output_type": "display_data"
    },
    {
     "name": "stdout",
     "output_type": "stream",
     "text": [
      " *  *  *  *  *  *  *  *  *  *  *  *  *  *  *  *  *  *  *  *  *  *  *  *  *  *  *  *  *  *  *  *  *  *  *  *  *  *  *  *  *  *  *  *  * \n"
     ]
    },
    {
     "data": {
      "text/plain": [
       "Graph(num_nodes={'author': 1134649, 'field_of_study': 59965, 'institution': 8740, 'paper': 736389},\n",
       "      num_edges={('author', 'affiliated_with', 'institution'): 1043998, ('author', 'writes', 'paper'): 7145660, ('field_of_study', 'has_topic', 'paper'): 7505078, ('institution', 'affiliated_with', 'author'): 1043998, ('paper', 'has_topic', 'field_of_study'): 7505078, ('paper', 'writes', 'author'): 7145660},\n",
       "      metagraph=[('author', 'institution', 'affiliated_with'), ('author', 'paper', 'writes'), ('institution', 'author', 'affiliated_with'), ('paper', 'field_of_study', 'has_topic'), ('paper', 'author', 'writes'), ('field_of_study', 'paper', 'has_topic')])"
      ]
     },
     "metadata": {},
     "output_type": "display_data"
    }
   ],
   "source": [
    "display(graph)\n",
    "print(' * ' * 45)\n",
    "display(graph_2)"
   ]
  },
  {
   "cell_type": "markdown",
   "id": "b85fa748",
   "metadata": {},
   "source": [
    "- 그래프 structure은 같으나 내부 feature 는 반영되지 않았음."
   ]
  },
  {
   "cell_type": "code",
   "execution_count": 157,
   "id": "c54705d6",
   "metadata": {
    "ExecuteTime": {
     "end_time": "2021-06-27T05:37:23.204293Z",
     "start_time": "2021-06-27T05:37:23.188006Z"
    }
   },
   "outputs": [
    {
     "data": {
      "text/plain": [
       "tensor([[-0.0954,  0.0408, -0.2109,  ...,  0.0616, -0.0277, -0.1338],\n",
       "        [-0.1510, -0.1073, -0.2220,  ...,  0.3458, -0.0277, -0.2185],\n",
       "        [-0.1148, -0.1760, -0.2606,  ...,  0.1731, -0.1564, -0.2780],\n",
       "        ...,\n",
       "        [ 0.0228, -0.0865,  0.0981,  ..., -0.0547, -0.2077, -0.2305],\n",
       "        [-0.2891, -0.2029, -0.1525,  ...,  0.1042,  0.2041, -0.3528],\n",
       "        [-0.0890, -0.0348, -0.2642,  ...,  0.2601, -0.0875, -0.5171]])"
      ]
     },
     "metadata": {},
     "output_type": "display_data"
    },
    {
     "ename": "KeyError",
     "evalue": "'feat'",
     "output_type": "error",
     "traceback": [
      "\u001b[0;31m---------------------------------------------------------------------------\u001b[0m",
      "\u001b[0;31mKeyError\u001b[0m                                  Traceback (most recent call last)",
      "\u001b[0;32m<ipython-input-157-04d6278f1510>\u001b[0m in \u001b[0;36m<module>\u001b[0;34m\u001b[0m\n\u001b[1;32m      1\u001b[0m \u001b[0mdisplay\u001b[0m\u001b[0;34m(\u001b[0m\u001b[0mgraph\u001b[0m\u001b[0;34m.\u001b[0m\u001b[0mnodes\u001b[0m\u001b[0;34m[\u001b[0m\u001b[0;34m'paper'\u001b[0m\u001b[0;34m]\u001b[0m\u001b[0;34m.\u001b[0m\u001b[0mdata\u001b[0m\u001b[0;34m[\u001b[0m\u001b[0;34m'feat'\u001b[0m\u001b[0;34m]\u001b[0m\u001b[0;34m)\u001b[0m\u001b[0;34m\u001b[0m\u001b[0;34m\u001b[0m\u001b[0m\n\u001b[0;32m----> 2\u001b[0;31m \u001b[0mgraph_2\u001b[0m\u001b[0;34m.\u001b[0m\u001b[0mnodes\u001b[0m\u001b[0;34m[\u001b[0m\u001b[0;34m'paper'\u001b[0m\u001b[0;34m]\u001b[0m\u001b[0;34m.\u001b[0m\u001b[0mdata\u001b[0m\u001b[0;34m[\u001b[0m\u001b[0;34m'feat'\u001b[0m\u001b[0;34m]\u001b[0m\u001b[0;34m\u001b[0m\u001b[0;34m\u001b[0m\u001b[0m\n\u001b[0m",
      "\u001b[0;32m/mnt/a/anaconda3/envs/graph/lib/python3.8/site-packages/dgl/view.py\u001b[0m in \u001b[0;36m__getitem__\u001b[0;34m(self, key)\u001b[0m\n\u001b[1;32m     64\u001b[0m             \u001b[0;32mreturn\u001b[0m \u001b[0mret\u001b[0m\u001b[0;34m\u001b[0m\u001b[0;34m\u001b[0m\u001b[0m\n\u001b[1;32m     65\u001b[0m         \u001b[0;32melse\u001b[0m\u001b[0;34m:\u001b[0m\u001b[0;34m\u001b[0m\u001b[0;34m\u001b[0m\u001b[0m\n\u001b[0;32m---> 66\u001b[0;31m             \u001b[0;32mreturn\u001b[0m \u001b[0mself\u001b[0m\u001b[0;34m.\u001b[0m\u001b[0m_graph\u001b[0m\u001b[0;34m.\u001b[0m\u001b[0m_get_n_repr\u001b[0m\u001b[0;34m(\u001b[0m\u001b[0mself\u001b[0m\u001b[0;34m.\u001b[0m\u001b[0m_ntid\u001b[0m\u001b[0;34m,\u001b[0m \u001b[0mself\u001b[0m\u001b[0;34m.\u001b[0m\u001b[0m_nodes\u001b[0m\u001b[0;34m)\u001b[0m\u001b[0;34m[\u001b[0m\u001b[0mkey\u001b[0m\u001b[0;34m]\u001b[0m\u001b[0;34m\u001b[0m\u001b[0;34m\u001b[0m\u001b[0m\n\u001b[0m\u001b[1;32m     67\u001b[0m \u001b[0;34m\u001b[0m\u001b[0m\n\u001b[1;32m     68\u001b[0m     \u001b[0;32mdef\u001b[0m \u001b[0m__setitem__\u001b[0m\u001b[0;34m(\u001b[0m\u001b[0mself\u001b[0m\u001b[0;34m,\u001b[0m \u001b[0mkey\u001b[0m\u001b[0;34m,\u001b[0m \u001b[0mval\u001b[0m\u001b[0;34m)\u001b[0m\u001b[0;34m:\u001b[0m\u001b[0;34m\u001b[0m\u001b[0;34m\u001b[0m\u001b[0m\n",
      "\u001b[0;32m/mnt/a/anaconda3/envs/graph/lib/python3.8/site-packages/dgl/frame.py\u001b[0m in \u001b[0;36m__getitem__\u001b[0;34m(self, name)\u001b[0m\n\u001b[1;32m    391\u001b[0m             \u001b[0mColumn\u001b[0m \u001b[0mdata\u001b[0m\u001b[0;34m.\u001b[0m\u001b[0;34m\u001b[0m\u001b[0;34m\u001b[0m\u001b[0m\n\u001b[1;32m    392\u001b[0m         \"\"\"\n\u001b[0;32m--> 393\u001b[0;31m         \u001b[0;32mreturn\u001b[0m \u001b[0mself\u001b[0m\u001b[0;34m.\u001b[0m\u001b[0m_columns\u001b[0m\u001b[0;34m[\u001b[0m\u001b[0mname\u001b[0m\u001b[0;34m]\u001b[0m\u001b[0;34m.\u001b[0m\u001b[0mdata\u001b[0m\u001b[0;34m\u001b[0m\u001b[0;34m\u001b[0m\u001b[0m\n\u001b[0m\u001b[1;32m    394\u001b[0m \u001b[0;34m\u001b[0m\u001b[0m\n\u001b[1;32m    395\u001b[0m     \u001b[0;32mdef\u001b[0m \u001b[0m__setitem__\u001b[0m\u001b[0;34m(\u001b[0m\u001b[0mself\u001b[0m\u001b[0;34m,\u001b[0m \u001b[0mname\u001b[0m\u001b[0;34m,\u001b[0m \u001b[0mdata\u001b[0m\u001b[0;34m)\u001b[0m\u001b[0;34m:\u001b[0m\u001b[0;34m\u001b[0m\u001b[0;34m\u001b[0m\u001b[0m\n",
      "\u001b[0;31mKeyError\u001b[0m: 'feat'"
     ]
    }
   ],
   "source": [
    "display(graph.nodes['paper'].data['feat'])\n",
    "graph_2.nodes['paper'].data['feat']"
   ]
  },
  {
   "cell_type": "code",
   "execution_count": null,
   "id": "27820645",
   "metadata": {},
   "outputs": [],
   "source": []
  },
  {
   "cell_type": "markdown",
   "id": "951e8705",
   "metadata": {},
   "source": [
    "## Defining neighbor sampler and data loader in DGL\n",
    "\n",
    "- 2개의 R-GCN (2-hop) layer 을 통해 neighbor sampling 하기 위해 우리는 연결된 관계로부터 15개의 neigbors's info를  가져올것임. "
   ]
  },
  {
   "cell_type": "code",
   "execution_count": 229,
   "id": "a1e9aaa8",
   "metadata": {
    "ExecuteTime": {
     "end_time": "2021-06-27T06:54:37.464038Z",
     "start_time": "2021-06-27T06:54:37.459788Z"
    }
   },
   "outputs": [],
   "source": [
    "sampler = dgl.dataloading.MultiLayerNeighborSampler([15, 15]) # sampling 이 때 layer가 2개이니 이 역시도 2개로 matching 해줘야 함.\n",
    "\n",
    "\n",
    "# cuda (gpu) 를 활용하여 좀 더 빠른 sampling 할 수 있게 설정하는걸 권고함. -> training 시 input , output device Inconsisten error happens\n",
    "train_dataloader = dgl.dataloading.NodeDataLoader(\n",
    "    graph, train_nids, sampler,\n",
    "    batch_size=1024,\n",
    "    shuffle=True,\n",
    "    drop_last=False,\n",
    "    num_workers=0,\n",
    "    device='cpu'\n",
    ")"
   ]
  },
  {
   "cell_type": "code",
   "execution_count": 230,
   "id": "8111b6fe",
   "metadata": {
    "ExecuteTime": {
     "end_time": "2021-06-27T06:54:45.423880Z",
     "start_time": "2021-06-27T06:54:45.150441Z"
    }
   },
   "outputs": [
    {
     "name": "stdout",
     "output_type": "stream",
     "text": [
      "[{'author': tensor([   7140,   98061,  380753,  ..., 1017013,  469025, 1051417]), 'field_of_study': tensor([12271, 13062, 13979,  ..., 18351, 18970, 28496]), 'institution': tensor([ 649, 1201, 5887,  ..., 1767, 4918, 1897]), 'paper': tensor([ 18312, 622480, 158710,  ..., 401026, 591121, 555247])}, {'author': tensor([], dtype=torch.int64), 'field_of_study': tensor([], dtype=torch.int64), 'institution': tensor([], dtype=torch.int64), 'paper': tensor([ 18312, 622480, 158710,  ...,  19714, 576902, 351818])}, [Block(num_src_nodes={'author': 5003, 'field_of_study': 3514, 'institution': 1311, 'paper': 75935},\n",
      "      num_dst_nodes={'author': 4783, 'field_of_study': 3514, 'institution': 0, 'paper': 1024},\n",
      "      num_edges={('author', 'affiliated_with', 'institution'): 0, ('author', 'writes', 'paper'): 4823, ('field_of_study', 'has_topic-rev', 'paper'): 10543, ('institution', 'affiliated_with-rev', 'author'): 7009, ('paper', 'has_topic', 'field_of_study'): 50961, ('paper', 'writes-rev', 'author'): 42336},\n",
      "      metagraph=[('author', 'institution', 'affiliated_with'), ('author', 'paper', 'writes'), ('institution', 'author', 'affiliated_with-rev'), ('paper', 'field_of_study', 'has_topic'), ('paper', 'author', 'writes-rev'), ('field_of_study', 'paper', 'has_topic-rev')]), Block(num_src_nodes={'author': 4783, 'field_of_study': 3514, 'institution': 0, 'paper': 1024},\n",
      "      num_dst_nodes={'author': 0, 'field_of_study': 0, 'institution': 0, 'paper': 1024},\n",
      "      num_edges={('author', 'affiliated_with', 'institution'): 0, ('author', 'writes', 'paper'): 4823, ('field_of_study', 'has_topic-rev', 'paper'): 10543, ('institution', 'affiliated_with-rev', 'author'): 0, ('paper', 'has_topic', 'field_of_study'): 0, ('paper', 'writes-rev', 'author'): 0},\n",
      "      metagraph=[('author', 'institution', 'affiliated_with'), ('author', 'paper', 'writes'), ('institution', 'author', 'affiliated_with-rev'), ('paper', 'field_of_study', 'has_topic'), ('paper', 'author', 'writes-rev'), ('field_of_study', 'paper', 'has_topic-rev')])]]\n"
     ]
    }
   ],
   "source": [
    "example_minibatch = next(iter(train_dataloader)) # neighbor sampling\n",
    "print(example_minibatch)"
   ]
  },
  {
   "cell_type": "code",
   "execution_count": null,
   "id": "5fd3f6f5",
   "metadata": {},
   "outputs": [],
   "source": []
  },
  {
   "cell_type": "code",
   "execution_count": 232,
   "id": "fa616955",
   "metadata": {
    "ExecuteTime": {
     "end_time": "2021-06-27T06:54:53.058207Z",
     "start_time": "2021-06-27T06:54:53.052638Z"
    }
   },
   "outputs": [
    {
     "name": "stdout",
     "output_type": "stream",
     "text": [
      "To compute 1024 target nodes' output we need 75935 nodes' input features\n",
      "\n",
      "Output nodes\n",
      "{'author': tensor([], dtype=torch.int64), 'field_of_study': tensor([], dtype=torch.int64), 'institution': tensor([], dtype=torch.int64), 'paper': tensor([ 18312, 622480, 158710,  ...,  19714, 576902, 351818])}\n",
      "\n",
      "Input nodes\n",
      "{'author': tensor([   7140,   98061,  380753,  ..., 1017013,  469025, 1051417]), 'field_of_study': tensor([12271, 13062, 13979,  ..., 18351, 18970, 28496]), 'institution': tensor([ 649, 1201, 5887,  ..., 1767, 4918, 1897]), 'paper': tensor([ 18312, 622480, 158710,  ..., 401026, 591121, 555247])}\n"
     ]
    }
   ],
   "source": [
    "## 이해가 안가는 파트 ... \n",
    "\n",
    "input_nodes, output_nodes, bipartites = example_minibatch\n",
    "print(\"To compute {} target nodes' output we need {} nodes' input features\".format(len(output_nodes['paper']), len(input_nodes['paper'])))\n",
    "\n",
    "print(\"\")\n",
    "print(\"Output nodes\")\n",
    "print(output_nodes)\n",
    "\n",
    "print(\"\")\n",
    "print(\"Input nodes\")\n",
    "print(input_nodes)"
   ]
  },
  {
   "cell_type": "code",
   "execution_count": null,
   "id": "84ef8764",
   "metadata": {},
   "outputs": [],
   "source": []
  },
  {
   "cell_type": "code",
   "execution_count": 217,
   "id": "481b3860",
   "metadata": {
    "ExecuteTime": {
     "end_time": "2021-06-27T06:22:11.798223Z",
     "start_time": "2021-06-27T06:22:11.793953Z"
    }
   },
   "outputs": [
    {
     "name": "stdout",
     "output_type": "stream",
     "text": [
      "Block(num_src_nodes={'author': 22628, 'field_of_study': 0, 'institution': 0, 'paper': 26879},\n",
      "      num_dst_nodes={'author': 4637, 'field_of_study': 0, 'institution': 0, 'paper': 6242},\n",
      "      num_edges={('author', 'affiliated_with', 'institution'): 0, ('author', 'writes', 'paper'): 30521, ('paper', 'cites', 'paper'): 34036, ('paper', 'has_topic', 'field_of_study'): 0},\n",
      "      metagraph=[('author', 'institution', 'affiliated_with'), ('author', 'paper', 'writes'), ('paper', 'paper', 'cites'), ('paper', 'field_of_study', 'has_topic')])\n",
      "\n",
      "Block(num_src_nodes={'author': 4637, 'field_of_study': 0, 'institution': 0, 'paper': 6242},\n",
      "      num_dst_nodes={'author': 0, 'field_of_study': 0, 'institution': 0, 'paper': 1024},\n",
      "      num_edges={('author', 'affiliated_with', 'institution'): 0, ('author', 'writes', 'paper'): 4690, ('paper', 'cites', 'paper'): 5267, ('paper', 'has_topic', 'field_of_study'): 0},\n",
      "      metagraph=[('author', 'institution', 'affiliated_with'), ('author', 'paper', 'writes'), ('paper', 'paper', 'cites'), ('paper', 'field_of_study', 'has_topic')])\n",
      "\n"
     ]
    }
   ],
   "source": [
    "for block in bipartites:\n",
    "    print(block)\n",
    "    print()"
   ]
  },
  {
   "cell_type": "code",
   "execution_count": null,
   "id": "3fb0233c",
   "metadata": {},
   "outputs": [],
   "source": []
  },
  {
   "cell_type": "markdown",
   "id": "db21c87b",
   "metadata": {},
   "source": [
    "# Defining model"
   ]
  },
  {
   "cell_type": "markdown",
   "id": "31a0b8ae",
   "metadata": {},
   "source": [
    "- __ModuleList__\n",
    "\n",
    "    - nn.Module을 리스트로 정리하는 방법이다.\n",
    "\n",
    "    - 각 레이어를 리스트에 전달하고 레이어의 iterator를 만든다. 덕분에 forward처리를 간단하게 할 수 있다는 듯 하다.\n",
    "\n",
    "    - 처음으로 적는 것은 아주 무식하게 하나하나 다 적어서 리스트에 넣고 for로 돌리는 방식이다."
   ]
  },
  {
   "cell_type": "code",
   "execution_count": 233,
   "id": "06eaf337",
   "metadata": {
    "ExecuteTime": {
     "end_time": "2021-06-27T06:55:00.156357Z",
     "start_time": "2021-06-27T06:55:00.149817Z"
    }
   },
   "outputs": [],
   "source": [
    "class RGCN(nn.Module):\n",
    "    def __init__(self, in_feats, n_hidden, n_classes, n_layers, rel_names):\n",
    "        super().__init__()\n",
    "        \n",
    "        self.n_layers = n_layers\n",
    "        self.n_hidden = n_hidden\n",
    "        self.n_classes = n_classes\n",
    "        self.layers = nn.ModuleList()\n",
    "        \n",
    "        self.layers.append(dglnn.HeteroGraphConv({\n",
    "            rel: dglnn.GraphConv(in_feats, n_hidden)\n",
    "            for rel in rel_names}, aggregate='sum'))\n",
    "        \n",
    "        for i in range(1, n_layers - 1):\n",
    "            self.layers.append(dglnn.HeteroGraphConv({\n",
    "                rel: dglnn.GraphConv(n_hidden, n_hidden)\n",
    "                for rel in rel_names}, aggregate='sum'))\n",
    "            \n",
    "        self.layers.append(dglnn.HeteroGraphConv({\n",
    "            rel: dglnn.GraphConv(n_hidden, n_classes)\n",
    "            for rel in rel_names}, aggregate='sum'))\n",
    "\n",
    "    def forward(self, bipartites, x):\n",
    "        # inputs are features of nodes\n",
    "        for l, (layer, bipartite) in enumerate(zip(self.layers, bipartites)):\n",
    "            x = layer(bipartite, x)\n",
    "            if l != self.n_layers - 1:\n",
    "                x = {k: F.relu(v) for k, v in x.items()}\n",
    "        return x"
   ]
  },
  {
   "cell_type": "markdown",
   "id": "f6d950cd",
   "metadata": {},
   "source": [
    "## What to do about featureless nodes"
   ]
  },
  {
   "cell_type": "markdown",
   "id": "3f4faaba",
   "metadata": {},
   "source": [
    "이번 튜토리얼에서는 총 4개의 노드 'author' , 'field_of_study', 'institution' , 'paper' 중에서 'paper' 만 feature 가 존재함 . 다시 리캡해보면 아래 코드로 확인이 가능함."
   ]
  },
  {
   "cell_type": "code",
   "execution_count": 184,
   "id": "1377bc9e",
   "metadata": {
    "ExecuteTime": {
     "end_time": "2021-06-27T05:58:25.880594Z",
     "start_time": "2021-06-27T05:58:25.863507Z"
    }
   },
   "outputs": [
    {
     "data": {
      "text/plain": [
       "tensor([[-0.0954,  0.0408, -0.2109,  ...,  0.0616, -0.0277, -0.1338],\n",
       "        [-0.1510, -0.1073, -0.2220,  ...,  0.3458, -0.0277, -0.2185],\n",
       "        [-0.1148, -0.1760, -0.2606,  ...,  0.1731, -0.1564, -0.2780],\n",
       "        ...,\n",
       "        [ 0.0228, -0.0865,  0.0981,  ..., -0.0547, -0.2077, -0.2305],\n",
       "        [-0.2891, -0.2029, -0.1525,  ...,  0.1042,  0.2041, -0.3528],\n",
       "        [-0.0890, -0.0348, -0.2642,  ...,  0.2601, -0.0875, -0.5171]])"
      ]
     },
     "metadata": {},
     "output_type": "display_data"
    },
    {
     "ename": "KeyError",
     "evalue": "'feat'",
     "output_type": "error",
     "traceback": [
      "\u001b[0;31m---------------------------------------------------------------------------\u001b[0m",
      "\u001b[0;31mKeyError\u001b[0m                                  Traceback (most recent call last)",
      "\u001b[0;32m<ipython-input-184-74533a648d08>\u001b[0m in \u001b[0;36m<module>\u001b[0;34m\u001b[0m\n\u001b[1;32m      1\u001b[0m \u001b[0mdisplay\u001b[0m\u001b[0;34m(\u001b[0m\u001b[0mgraph\u001b[0m\u001b[0;34m.\u001b[0m\u001b[0mnodes\u001b[0m\u001b[0;34m[\u001b[0m\u001b[0;34m'paper'\u001b[0m\u001b[0;34m]\u001b[0m\u001b[0;34m.\u001b[0m\u001b[0mdata\u001b[0m\u001b[0;34m[\u001b[0m\u001b[0;34m'feat'\u001b[0m\u001b[0;34m]\u001b[0m\u001b[0;34m)\u001b[0m\u001b[0;34m\u001b[0m\u001b[0;34m\u001b[0m\u001b[0m\n\u001b[0;32m----> 2\u001b[0;31m \u001b[0mdisplay\u001b[0m\u001b[0;34m(\u001b[0m\u001b[0mgraph\u001b[0m\u001b[0;34m.\u001b[0m\u001b[0mnodes\u001b[0m\u001b[0;34m[\u001b[0m\u001b[0;34m'field_of_study'\u001b[0m\u001b[0;34m]\u001b[0m\u001b[0;34m.\u001b[0m\u001b[0mdata\u001b[0m\u001b[0;34m[\u001b[0m\u001b[0;34m'feat'\u001b[0m\u001b[0;34m]\u001b[0m\u001b[0;34m)\u001b[0m\u001b[0;34m\u001b[0m\u001b[0;34m\u001b[0m\u001b[0m\n\u001b[0m\u001b[1;32m      3\u001b[0m \u001b[0mdisplay\u001b[0m\u001b[0;34m(\u001b[0m\u001b[0mgraph\u001b[0m\u001b[0;34m.\u001b[0m\u001b[0mnodes\u001b[0m\u001b[0;34m[\u001b[0m\u001b[0;34m'institution'\u001b[0m\u001b[0;34m]\u001b[0m\u001b[0;34m.\u001b[0m\u001b[0mdata\u001b[0m\u001b[0;34m[\u001b[0m\u001b[0;34m'feat'\u001b[0m\u001b[0;34m]\u001b[0m\u001b[0;34m)\u001b[0m\u001b[0;34m\u001b[0m\u001b[0;34m\u001b[0m\u001b[0m\n\u001b[1;32m      4\u001b[0m \u001b[0mdisplay\u001b[0m\u001b[0;34m(\u001b[0m\u001b[0mgraph\u001b[0m\u001b[0;34m.\u001b[0m\u001b[0mnodes\u001b[0m\u001b[0;34m[\u001b[0m\u001b[0;34m'author'\u001b[0m\u001b[0;34m]\u001b[0m\u001b[0;34m.\u001b[0m\u001b[0mdata\u001b[0m\u001b[0;34m[\u001b[0m\u001b[0;34m'feat'\u001b[0m\u001b[0;34m]\u001b[0m\u001b[0;34m)\u001b[0m\u001b[0;34m\u001b[0m\u001b[0;34m\u001b[0m\u001b[0m\n\u001b[1;32m      5\u001b[0m \u001b[0;34m\u001b[0m\u001b[0m\n",
      "\u001b[0;32m/mnt/a/anaconda3/envs/graph/lib/python3.8/site-packages/dgl/view.py\u001b[0m in \u001b[0;36m__getitem__\u001b[0;34m(self, key)\u001b[0m\n\u001b[1;32m     64\u001b[0m             \u001b[0;32mreturn\u001b[0m \u001b[0mret\u001b[0m\u001b[0;34m\u001b[0m\u001b[0;34m\u001b[0m\u001b[0m\n\u001b[1;32m     65\u001b[0m         \u001b[0;32melse\u001b[0m\u001b[0;34m:\u001b[0m\u001b[0;34m\u001b[0m\u001b[0;34m\u001b[0m\u001b[0m\n\u001b[0;32m---> 66\u001b[0;31m             \u001b[0;32mreturn\u001b[0m \u001b[0mself\u001b[0m\u001b[0;34m.\u001b[0m\u001b[0m_graph\u001b[0m\u001b[0;34m.\u001b[0m\u001b[0m_get_n_repr\u001b[0m\u001b[0;34m(\u001b[0m\u001b[0mself\u001b[0m\u001b[0;34m.\u001b[0m\u001b[0m_ntid\u001b[0m\u001b[0;34m,\u001b[0m \u001b[0mself\u001b[0m\u001b[0;34m.\u001b[0m\u001b[0m_nodes\u001b[0m\u001b[0;34m)\u001b[0m\u001b[0;34m[\u001b[0m\u001b[0mkey\u001b[0m\u001b[0;34m]\u001b[0m\u001b[0;34m\u001b[0m\u001b[0;34m\u001b[0m\u001b[0m\n\u001b[0m\u001b[1;32m     67\u001b[0m \u001b[0;34m\u001b[0m\u001b[0m\n\u001b[1;32m     68\u001b[0m     \u001b[0;32mdef\u001b[0m \u001b[0m__setitem__\u001b[0m\u001b[0;34m(\u001b[0m\u001b[0mself\u001b[0m\u001b[0;34m,\u001b[0m \u001b[0mkey\u001b[0m\u001b[0;34m,\u001b[0m \u001b[0mval\u001b[0m\u001b[0;34m)\u001b[0m\u001b[0;34m:\u001b[0m\u001b[0;34m\u001b[0m\u001b[0;34m\u001b[0m\u001b[0m\n",
      "\u001b[0;32m/mnt/a/anaconda3/envs/graph/lib/python3.8/site-packages/dgl/frame.py\u001b[0m in \u001b[0;36m__getitem__\u001b[0;34m(self, name)\u001b[0m\n\u001b[1;32m    391\u001b[0m             \u001b[0mColumn\u001b[0m \u001b[0mdata\u001b[0m\u001b[0;34m.\u001b[0m\u001b[0;34m\u001b[0m\u001b[0;34m\u001b[0m\u001b[0m\n\u001b[1;32m    392\u001b[0m         \"\"\"\n\u001b[0;32m--> 393\u001b[0;31m         \u001b[0;32mreturn\u001b[0m \u001b[0mself\u001b[0m\u001b[0;34m.\u001b[0m\u001b[0m_columns\u001b[0m\u001b[0;34m[\u001b[0m\u001b[0mname\u001b[0m\u001b[0;34m]\u001b[0m\u001b[0;34m.\u001b[0m\u001b[0mdata\u001b[0m\u001b[0;34m\u001b[0m\u001b[0;34m\u001b[0m\u001b[0m\n\u001b[0m\u001b[1;32m    394\u001b[0m \u001b[0;34m\u001b[0m\u001b[0m\n\u001b[1;32m    395\u001b[0m     \u001b[0;32mdef\u001b[0m \u001b[0m__setitem__\u001b[0m\u001b[0;34m(\u001b[0m\u001b[0mself\u001b[0m\u001b[0;34m,\u001b[0m \u001b[0mname\u001b[0m\u001b[0;34m,\u001b[0m \u001b[0mdata\u001b[0m\u001b[0;34m)\u001b[0m\u001b[0;34m:\u001b[0m\u001b[0;34m\u001b[0m\u001b[0;34m\u001b[0m\u001b[0m\n",
      "\u001b[0;31mKeyError\u001b[0m: 'feat'"
     ]
    }
   ],
   "source": [
    "display(graph.nodes['paper'].data['feat'])\n",
    "display(graph.nodes['field_of_study'].data['feat'])\n",
    "display(graph.nodes['institution'].data['feat'])\n",
    "display(graph.nodes['author'].data['feat'])\n",
    "\n"
   ]
  },
  {
   "cell_type": "code",
   "execution_count": null,
   "id": "f387b86a",
   "metadata": {},
   "outputs": [],
   "source": []
  },
  {
   "cell_type": "markdown",
   "id": "10e143b5",
   "metadata": {},
   "source": [
    "- 우리는 message passing 을 하기 위해 각 노드마다 feature 가 필요함. 그를 위해 우리는 Embedding layer로 부터 representation 으로 feature 을 대체하고자 함 !"
   ]
  },
  {
   "cell_type": "code",
   "execution_count": null,
   "id": "f21fe3dd",
   "metadata": {},
   "outputs": [],
   "source": []
  },
  {
   "cell_type": "code",
   "execution_count": 186,
   "id": "44d580a1",
   "metadata": {
    "ExecuteTime": {
     "end_time": "2021-06-27T06:02:30.219640Z",
     "start_time": "2021-06-27T06:02:30.214420Z"
    }
   },
   "outputs": [
    {
     "data": {
      "text/plain": [
       "NodeSpace(data={'year': tensor([[2015],\n",
       "        [2012],\n",
       "        [2012],\n",
       "        ...,\n",
       "        [2016],\n",
       "        [2017],\n",
       "        [2014]]), 'feat': tensor([[-0.0954,  0.0408, -0.2109,  ...,  0.0616, -0.0277, -0.1338],\n",
       "        [-0.1510, -0.1073, -0.2220,  ...,  0.3458, -0.0277, -0.2185],\n",
       "        [-0.1148, -0.1760, -0.2606,  ...,  0.1731, -0.1564, -0.2780],\n",
       "        ...,\n",
       "        [ 0.0228, -0.0865,  0.0981,  ..., -0.0547, -0.2077, -0.2305],\n",
       "        [-0.2891, -0.2029, -0.1525,  ...,  0.1042,  0.2041, -0.3528],\n",
       "        [-0.0890, -0.0348, -0.2642,  ...,  0.2601, -0.0875, -0.5171]])})"
      ]
     },
     "execution_count": 186,
     "metadata": {},
     "output_type": "execute_result"
    }
   ],
   "source": [
    "# feature 을 가지고 있는 노드\n",
    "\n",
    "graph.nodes['paper']"
   ]
  },
  {
   "cell_type": "code",
   "execution_count": 189,
   "id": "ccfcd506",
   "metadata": {
    "ExecuteTime": {
     "end_time": "2021-06-27T06:03:11.899468Z",
     "start_time": "2021-06-27T06:03:11.892557Z"
    }
   },
   "outputs": [
    {
     "data": {
      "text/plain": [
       "NodeSpace(data={})"
      ]
     },
     "metadata": {},
     "output_type": "display_data"
    },
    {
     "data": {
      "text/plain": [
       "NodeSpace(data={})"
      ]
     },
     "metadata": {},
     "output_type": "display_data"
    },
    {
     "data": {
      "text/plain": [
       "NodeSpace(data={})"
      ]
     },
     "metadata": {},
     "output_type": "display_data"
    }
   ],
   "source": [
    "# relation 만 가지고 있는 node\n",
    "\n",
    "display(graph.nodes['field_of_study'])\n",
    "display(graph.nodes['institution'])\n",
    "display(graph.nodes['author'])"
   ]
  },
  {
   "cell_type": "code",
   "execution_count": 234,
   "id": "1246ee31",
   "metadata": {
    "ExecuteTime": {
     "end_time": "2021-06-27T06:55:06.676174Z",
     "start_time": "2021-06-27T06:55:06.669354Z"
    }
   },
   "outputs": [],
   "source": [
    "class NodeEmbed(nn.Module):\n",
    "    def __init__(self, num_nodes, embed_size,):\n",
    "        super(NodeEmbed, self).__init__()\n",
    "        self.embed_size = embed_size\n",
    "        self.node_embeds = nn.ModuleDict()\n",
    "        for ntype in num_nodes:\n",
    "            node_embed = torch.nn.Embedding(num_nodes[ntype], self.embed_size)\n",
    "            nn.init.uniform_(node_embed.weight, -1.0, 1.0)\n",
    "            self.node_embeds[str(ntype)] = node_embed\n",
    "    \n",
    "    def forward(self, node_ids):\n",
    "        embeds = {}\n",
    "        for ntype in node_ids:\n",
    "            embeds[ntype] = self.node_embeds[ntype](node_ids[ntype])\n",
    "        return embeds"
   ]
  },
  {
   "cell_type": "code",
   "execution_count": null,
   "id": "2a5e0f3d",
   "metadata": {},
   "outputs": [],
   "source": []
  },
  {
   "cell_type": "markdown",
   "id": "44810064",
   "metadata": {},
   "source": [
    "## Initialize model and optimizer"
   ]
  },
  {
   "cell_type": "code",
   "execution_count": null,
   "id": "4abb2d03",
   "metadata": {},
   "outputs": [],
   "source": []
  },
  {
   "cell_type": "code",
   "execution_count": 193,
   "id": "22134535",
   "metadata": {
    "ExecuteTime": {
     "end_time": "2021-06-27T06:04:39.615122Z",
     "start_time": "2021-06-27T06:04:39.610574Z"
    }
   },
   "outputs": [
    {
     "data": {
      "text/plain": [
       "['author', 'field_of_study', 'institution', 'paper']"
      ]
     },
     "metadata": {},
     "output_type": "display_data"
    },
    {
     "data": {
      "text/plain": [
       "['affiliated_with', 'writes', 'cites', 'has_topic']"
      ]
     },
     "metadata": {},
     "output_type": "display_data"
    }
   ],
   "source": [
    "# recap section\n",
    "display(graph.ntypes)\n",
    "display(graph.etypes)\n"
   ]
  },
  {
   "cell_type": "code",
   "execution_count": 235,
   "id": "b6546590",
   "metadata": {
    "ExecuteTime": {
     "end_time": "2021-06-27T06:55:31.262951Z",
     "start_time": "2021-06-27T06:55:28.315250Z"
    }
   },
   "outputs": [],
   "source": [
    "# feature 가 있는 paper 은 제외\n",
    "\n",
    "num_nodes = {ntype: graph.number_of_nodes(ntype) for ntype in graph.ntypes if ntype != 'paper'}\n",
    "num_layers = 2\n",
    "hidden_dim = 128\n",
    "embed = NodeEmbed(num_nodes, hidden_dim)\n",
    "model = RGCN(num_features, hidden_dim, num_classes, num_layers, graph.etypes).cuda()\n",
    "opt = torch.optim.Adam(list(model.parameters()) + list(embed.parameters()))"
   ]
  },
  {
   "cell_type": "code",
   "execution_count": 201,
   "id": "8ed6f27f",
   "metadata": {
    "ExecuteTime": {
     "end_time": "2021-06-27T06:07:11.390551Z",
     "start_time": "2021-06-27T06:07:11.386574Z"
    }
   },
   "outputs": [
    {
     "data": {
      "text/plain": [
       "NodeEmbed(\n",
       "  (node_embeds): ModuleDict(\n",
       "    (author): Embedding(1134649, 128)\n",
       "    (field_of_study): Embedding(59965, 128)\n",
       "    (institution): Embedding(8740, 128)\n",
       "  )\n",
       ")"
      ]
     },
     "execution_count": 201,
     "metadata": {},
     "output_type": "execute_result"
    }
   ],
   "source": [
    "embed"
   ]
  },
  {
   "cell_type": "code",
   "execution_count": 202,
   "id": "82044c16",
   "metadata": {
    "ExecuteTime": {
     "end_time": "2021-06-27T06:07:15.035002Z",
     "start_time": "2021-06-27T06:07:15.031120Z"
    }
   },
   "outputs": [
    {
     "data": {
      "text/plain": [
       "RGCN(\n",
       "  (layers): ModuleList(\n",
       "    (0): HeteroGraphConv(\n",
       "      (mods): ModuleDict(\n",
       "        (affiliated_with): GraphConv(in=128, out=128, normalization=both, activation=None)\n",
       "        (writes): GraphConv(in=128, out=128, normalization=both, activation=None)\n",
       "        (cites): GraphConv(in=128, out=128, normalization=both, activation=None)\n",
       "        (has_topic): GraphConv(in=128, out=128, normalization=both, activation=None)\n",
       "      )\n",
       "    )\n",
       "    (1): HeteroGraphConv(\n",
       "      (mods): ModuleDict(\n",
       "        (affiliated_with): GraphConv(in=128, out=349, normalization=both, activation=None)\n",
       "        (writes): GraphConv(in=128, out=349, normalization=both, activation=None)\n",
       "        (cites): GraphConv(in=128, out=349, normalization=both, activation=None)\n",
       "        (has_topic): GraphConv(in=128, out=349, normalization=both, activation=None)\n",
       "      )\n",
       "    )\n",
       "  )\n",
       ")"
      ]
     },
     "execution_count": 202,
     "metadata": {},
     "output_type": "execute_result"
    }
   ],
   "source": [
    "model"
   ]
  },
  {
   "cell_type": "code",
   "execution_count": null,
   "id": "1b43fe59",
   "metadata": {},
   "outputs": [],
   "source": []
  },
  {
   "cell_type": "markdown",
   "id": "cdb91bd3",
   "metadata": {},
   "source": [
    "## Defining Training Loop\n",
    "\n",
    "validation 을 통해 score ( model selection ) 을 해야하는데 본 데이터에서는 train test(label)만 존재하므로 validation set 을 만들어줌. "
   ]
  },
  {
   "cell_type": "code",
   "execution_count": 203,
   "id": "b078a3fe",
   "metadata": {
    "ExecuteTime": {
     "end_time": "2021-06-27T06:08:52.036946Z",
     "start_time": "2021-06-27T06:08:52.032716Z"
    }
   },
   "outputs": [
    {
     "data": {
      "text/plain": [
       "{'paper': tensor([   332,    756,    784,  ..., 736364, 736367, 736370])}"
      ]
     },
     "execution_count": 203,
     "metadata": {},
     "output_type": "execute_result"
    }
   ],
   "source": [
    "valid_nids # validation node ids"
   ]
  },
  {
   "cell_type": "code",
   "execution_count": 236,
   "id": "a2251381",
   "metadata": {
    "ExecuteTime": {
     "end_time": "2021-06-27T06:55:36.694709Z",
     "start_time": "2021-06-27T06:55:36.691432Z"
    }
   },
   "outputs": [],
   "source": [
    "valid_dataloader = dgl.dataloading.NodeDataLoader(\n",
    "    graph, valid_nids, sampler,\n",
    "    batch_size=1024,\n",
    "    shuffle=False,\n",
    "    drop_last=False,\n",
    "    num_workers=0\n",
    ")"
   ]
  },
  {
   "cell_type": "code",
   "execution_count": null,
   "id": "47a8725c",
   "metadata": {},
   "outputs": [],
   "source": []
  },
  {
   "cell_type": "code",
   "execution_count": null,
   "id": "cfaad6ad",
   "metadata": {
    "ExecuteTime": {
     "start_time": "2021-06-27T07:08:03.907Z"
    }
   },
   "outputs": [
    {
     "name": "stderr",
     "output_type": "stream",
     "text": [
      "100%|██████████| 615/615 [00:43<00:00, 14.02it/s, loss=2.103, acc=0.423]\n",
      "100%|██████████| 64/64 [00:03<00:00, 16.58it/s]\n",
      "  0%|          | 1/615 [00:00<01:12,  8.43it/s, loss=2.147, acc=0.401]"
     ]
    },
    {
     "name": "stdout",
     "output_type": "stream",
     "text": [
      "Epoch 0 Validation Accuracy 0.3626751337104456\n"
     ]
    },
    {
     "name": "stderr",
     "output_type": "stream",
     "text": [
      "100%|██████████| 615/615 [00:42<00:00, 14.35it/s, loss=2.148, acc=0.411]\n",
      "100%|██████████| 64/64 [00:03<00:00, 17.44it/s]\n",
      "  0%|          | 1/615 [00:00<01:10,  8.74it/s, loss=2.138, acc=0.424]"
     ]
    },
    {
     "name": "stdout",
     "output_type": "stream",
     "text": [
      "Epoch 1 Validation Accuracy 0.35438277408714686\n"
     ]
    },
    {
     "name": "stderr",
     "output_type": "stream",
     "text": [
      "100%|██████████| 615/615 [00:42<00:00, 14.48it/s, loss=2.086, acc=0.429]\n",
      "100%|██████████| 64/64 [00:03<00:00, 17.20it/s]\n",
      "  0%|          | 0/615 [00:00<?, ?it/s]"
     ]
    },
    {
     "name": "stdout",
     "output_type": "stream",
     "text": [
      "Epoch 2 Validation Accuracy 0.3604247907643459\n"
     ]
    },
    {
     "name": "stderr",
     "output_type": "stream",
     "text": [
      "100%|██████████| 615/615 [00:43<00:00, 14.18it/s, loss=2.006, acc=0.419]\n",
      "100%|██████████| 64/64 [00:03<00:00, 17.02it/s]\n",
      "  0%|          | 1/615 [00:00<01:10,  8.71it/s, loss=2.070, acc=0.421]"
     ]
    },
    {
     "name": "stdout",
     "output_type": "stream",
     "text": [
      "Epoch 3 Validation Accuracy 0.36785400514804484\n"
     ]
    },
    {
     "name": "stderr",
     "output_type": "stream",
     "text": [
      "100%|██████████| 615/615 [00:42<00:00, 14.42it/s, loss=2.103, acc=0.424]\n",
      "100%|██████████| 64/64 [00:03<00:00, 17.08it/s]\n",
      "  0%|          | 1/615 [00:00<01:09,  8.86it/s, loss=2.054, acc=0.425]"
     ]
    },
    {
     "name": "stdout",
     "output_type": "stream",
     "text": [
      "Epoch 4 Validation Accuracy 0.3612262827725458\n"
     ]
    },
    {
     "name": "stderr",
     "output_type": "stream",
     "text": [
      "100%|██████████| 615/615 [00:42<00:00, 14.39it/s, loss=2.118, acc=0.413]\n",
      "100%|██████████| 64/64 [00:03<00:00, 16.84it/s]\n",
      "  0%|          | 1/615 [00:00<01:17,  7.92it/s, loss=1.984, acc=0.430]"
     ]
    },
    {
     "name": "stdout",
     "output_type": "stream",
     "text": [
      "Epoch 5 Validation Accuracy 0.3711370397200943\n"
     ]
    },
    {
     "name": "stderr",
     "output_type": "stream",
     "text": [
      "100%|██████████| 615/615 [00:43<00:00, 14.17it/s, loss=2.066, acc=0.434]\n",
      "100%|██████████| 64/64 [00:03<00:00, 16.94it/s]\n",
      "  0%|          | 1/615 [00:00<01:12,  8.49it/s, loss=2.050, acc=0.420]"
     ]
    },
    {
     "name": "stdout",
     "output_type": "stream",
     "text": [
      "Epoch 6 Validation Accuracy 0.3645093173445953\n"
     ]
    },
    {
     "name": "stderr",
     "output_type": "stream",
     "text": [
      "100%|██████████| 615/615 [00:43<00:00, 14.25it/s, loss=2.077, acc=0.418]\n",
      "100%|██████████| 64/64 [00:03<00:00, 17.02it/s]\n",
      "  0%|          | 1/615 [00:00<01:09,  8.82it/s, loss=2.002, acc=0.440]"
     ]
    },
    {
     "name": "stdout",
     "output_type": "stream",
     "text": [
      "Epoch 7 Validation Accuracy 0.35899135313429614\n"
     ]
    },
    {
     "name": "stderr",
     "output_type": "stream",
     "text": [
      "100%|██████████| 615/615 [00:47<00:00, 12.92it/s, loss=1.948, acc=0.457]\n",
      "100%|██████████| 64/64 [00:04<00:00, 13.11it/s]\n",
      "  0%|          | 1/615 [00:00<01:51,  5.52it/s, loss=2.039, acc=0.464]"
     ]
    },
    {
     "name": "stdout",
     "output_type": "stream",
     "text": [
      "Epoch 8 Validation Accuracy 0.36904082985249465\n"
     ]
    },
    {
     "name": "stderr",
     "output_type": "stream",
     "text": [
      "100%|██████████| 615/615 [00:42<00:00, 14.52it/s, loss=2.049, acc=0.444]\n",
      "100%|██████████| 64/64 [00:03<00:00, 17.37it/s]\n",
      "  0%|          | 1/615 [00:00<01:09,  8.79it/s, loss=1.952, acc=0.476]"
     ]
    },
    {
     "name": "stdout",
     "output_type": "stream",
     "text": [
      "Epoch 9 Validation Accuracy 0.36526456942924523\n"
     ]
    },
    {
     "name": "stderr",
     "output_type": "stream",
     "text": [
      "100%|██████████| 615/615 [00:43<00:00, 14.24it/s, loss=1.929, acc=0.438]\n",
      "100%|██████████| 64/64 [00:03<00:00, 17.16it/s]\n",
      "  0%|          | 1/615 [00:00<01:09,  8.82it/s, loss=1.948, acc=0.451]"
     ]
    },
    {
     "name": "stdout",
     "output_type": "stream",
     "text": [
      "Epoch 10 Validation Accuracy 0.37482082029624375\n"
     ]
    },
    {
     "name": "stderr",
     "output_type": "stream",
     "text": [
      "100%|██████████| 615/615 [00:44<00:00, 13.88it/s, loss=2.097, acc=0.424]\n",
      "100%|██████████| 64/64 [00:04<00:00, 15.55it/s]\n",
      "  0%|          | 1/615 [00:00<01:11,  8.55it/s, loss=1.954, acc=0.462]"
     ]
    },
    {
     "name": "stdout",
     "output_type": "stream",
     "text": [
      "Epoch 11 Validation Accuracy 0.3650025431957952\n"
     ]
    },
    {
     "name": "stderr",
     "output_type": "stream",
     "text": [
      "100%|██████████| 615/615 [00:49<00:00, 12.36it/s, loss=2.042, acc=0.398]\n",
      "100%|██████████| 64/64 [00:04<00:00, 14.15it/s]\n",
      "  0%|          | 0/615 [00:00<?, ?it/s]"
     ]
    },
    {
     "name": "stdout",
     "output_type": "stream",
     "text": [
      "Epoch 12 Validation Accuracy 0.3727708503521941\n"
     ]
    },
    {
     "name": "stderr",
     "output_type": "stream",
     "text": [
      "100%|██████████| 615/615 [00:52<00:00, 11.66it/s, loss=1.946, acc=0.446]\n",
      "100%|██████████| 64/64 [00:04<00:00, 14.39it/s]\n",
      "  0%|          | 1/615 [00:00<01:15,  8.10it/s, loss=1.866, acc=0.470]"
     ]
    },
    {
     "name": "stdout",
     "output_type": "stream",
     "text": [
      "Epoch 13 Validation Accuracy 0.3647096903466453\n"
     ]
    },
    {
     "name": "stderr",
     "output_type": "stream",
     "text": [
      "100%|██████████| 615/615 [00:50<00:00, 12.18it/s, loss=1.985, acc=0.438]\n",
      "100%|██████████| 64/64 [00:04<00:00, 14.80it/s]\n",
      "  0%|          | 1/615 [00:00<01:08,  8.92it/s, loss=1.867, acc=0.468]"
     ]
    },
    {
     "name": "stdout",
     "output_type": "stream",
     "text": [
      "Epoch 14 Validation Accuracy 0.36771528537739484\n"
     ]
    },
    {
     "name": "stderr",
     "output_type": "stream",
     "text": [
      "100%|██████████| 615/615 [00:42<00:00, 14.56it/s, loss=2.029, acc=0.431]\n",
      "100%|██████████| 64/64 [00:03<00:00, 17.39it/s]\n",
      "  0%|          | 1/615 [00:00<01:08,  8.93it/s, loss=1.939, acc=0.480]"
     ]
    },
    {
     "name": "stdout",
     "output_type": "stream",
     "text": [
      "Epoch 15 Validation Accuracy 0.3552305060188967\n"
     ]
    },
    {
     "name": "stderr",
     "output_type": "stream",
     "text": [
      "100%|██████████| 615/615 [00:42<00:00, 14.53it/s, loss=2.012, acc=0.453]\n",
      "100%|██████████| 64/64 [00:03<00:00, 17.33it/s]\n",
      "  0%|          | 1/615 [00:00<01:09,  8.85it/s, loss=1.919, acc=0.460]"
     ]
    },
    {
     "name": "stdout",
     "output_type": "stream",
     "text": [
      "Epoch 16 Validation Accuracy 0.3567255968803465\n"
     ]
    },
    {
     "name": "stderr",
     "output_type": "stream",
     "text": [
      "100%|██████████| 615/615 [00:42<00:00, 14.54it/s, loss=1.890, acc=0.453]\n",
      "100%|██████████| 64/64 [00:03<00:00, 17.25it/s]\n",
      "  0%|          | 1/615 [00:00<01:14,  8.25it/s, loss=1.977, acc=0.427]"
     ]
    },
    {
     "name": "stdout",
     "output_type": "stream",
     "text": [
      "Epoch 17 Validation Accuracy 0.3645401439602953\n"
     ]
    },
    {
     "name": "stderr",
     "output_type": "stream",
     "text": [
      "100%|██████████| 615/615 [00:41<00:00, 14.66it/s, loss=2.000, acc=0.416]\n",
      "100%|██████████| 64/64 [00:03<00:00, 17.59it/s]\n",
      "  0%|          | 1/615 [00:00<01:09,  8.85it/s, loss=1.907, acc=0.471]"
     ]
    },
    {
     "name": "stdout",
     "output_type": "stream",
     "text": [
      "Epoch 18 Validation Accuracy 0.3619661215493457\n"
     ]
    },
    {
     "name": "stderr",
     "output_type": "stream",
     "text": [
      "100%|██████████| 615/615 [00:42<00:00, 14.61it/s, loss=2.039, acc=0.454]\n",
      "100%|██████████| 64/64 [00:03<00:00, 17.22it/s]\n",
      "  0%|          | 1/615 [00:00<01:18,  7.86it/s, loss=1.868, acc=0.471]"
     ]
    },
    {
     "name": "stdout",
     "output_type": "stream",
     "text": [
      "Epoch 19 Validation Accuracy 0.37030472109619444\n"
     ]
    },
    {
     "name": "stderr",
     "output_type": "stream",
     "text": [
      "100%|██████████| 615/615 [00:42<00:00, 14.54it/s, loss=1.852, acc=0.469]\n",
      "100%|██████████| 64/64 [00:03<00:00, 17.56it/s]\n",
      "  0%|          | 1/615 [00:00<01:17,  7.96it/s, loss=1.904, acc=0.460]"
     ]
    },
    {
     "name": "stdout",
     "output_type": "stream",
     "text": [
      "Epoch 20 Validation Accuracy 0.3630758797145455\n"
     ]
    },
    {
     "name": "stderr",
     "output_type": "stream",
     "text": [
      "100%|██████████| 615/615 [00:42<00:00, 14.57it/s, loss=1.872, acc=0.469]\n",
      "100%|██████████| 64/64 [00:03<00:00, 17.18it/s]\n",
      "  0%|          | 1/615 [00:00<01:08,  8.92it/s, loss=1.846, acc=0.472]"
     ]
    },
    {
     "name": "stdout",
     "output_type": "stream",
     "text": [
      "Epoch 21 Validation Accuracy 0.36159620216094573\n"
     ]
    },
    {
     "name": "stderr",
     "output_type": "stream",
     "text": [
      "100%|██████████| 615/615 [00:41<00:00, 14.65it/s, loss=1.883, acc=0.465]\n",
      "100%|██████████| 64/64 [00:03<00:00, 16.94it/s]\n",
      "  0%|          | 1/615 [00:00<01:11,  8.61it/s, loss=1.867, acc=0.462]"
     ]
    },
    {
     "name": "stdout",
     "output_type": "stream",
     "text": [
      "Epoch 22 Validation Accuracy 0.36170409531589576\n"
     ]
    },
    {
     "name": "stderr",
     "output_type": "stream",
     "text": [
      "100%|██████████| 615/615 [00:41<00:00, 14.73it/s, loss=1.845, acc=0.467]\n",
      "100%|██████████| 64/64 [00:03<00:00, 16.49it/s]\n",
      "  0%|          | 1/615 [00:00<01:08,  9.02it/s, loss=1.920, acc=0.468]"
     ]
    },
    {
     "name": "stdout",
     "output_type": "stream",
     "text": [
      "Epoch 23 Validation Accuracy 0.36376947856779546\n"
     ]
    },
    {
     "name": "stderr",
     "output_type": "stream",
     "text": [
      "100%|██████████| 615/615 [00:42<00:00, 14.59it/s, loss=1.816, acc=0.498]\n",
      "100%|██████████| 64/64 [00:03<00:00, 17.83it/s]\n",
      "  0%|          | 1/615 [00:00<01:09,  8.83it/s, loss=1.823, acc=0.498]"
     ]
    },
    {
     "name": "stdout",
     "output_type": "stream",
     "text": [
      "Epoch 24 Validation Accuracy 0.36651304736509505\n"
     ]
    },
    {
     "name": "stderr",
     "output_type": "stream",
     "text": [
      "100%|██████████| 615/615 [00:42<00:00, 14.52it/s, loss=1.861, acc=0.467]\n",
      "100%|██████████| 64/64 [00:03<00:00, 17.17it/s]\n",
      "  0%|          | 1/615 [00:00<01:10,  8.76it/s, loss=1.934, acc=0.467]"
     ]
    },
    {
     "name": "stdout",
     "output_type": "stream",
     "text": [
      "Epoch 25 Validation Accuracy 0.3671449929869449\n"
     ]
    },
    {
     "name": "stderr",
     "output_type": "stream",
     "text": [
      "100%|██████████| 615/615 [00:42<00:00, 14.47it/s, loss=1.976, acc=0.440]\n",
      "100%|██████████| 64/64 [00:03<00:00, 16.96it/s]\n",
      "  0%|          | 1/615 [00:00<01:19,  7.74it/s, loss=1.918, acc=0.458]"
     ]
    },
    {
     "name": "stdout",
     "output_type": "stream",
     "text": [
      "Epoch 26 Validation Accuracy 0.36407774472479537\n"
     ]
    },
    {
     "name": "stderr",
     "output_type": "stream",
     "text": [
      "100%|██████████| 615/615 [00:42<00:00, 14.59it/s, loss=1.880, acc=0.454]\n",
      "100%|██████████| 64/64 [00:03<00:00, 17.46it/s]\n",
      "  0%|          | 1/615 [00:00<01:10,  8.75it/s, loss=1.743, acc=0.498]"
     ]
    },
    {
     "name": "stdout",
     "output_type": "stream",
     "text": [
      "Epoch 27 Validation Accuracy 0.36836264430709476\n"
     ]
    },
    {
     "name": "stderr",
     "output_type": "stream",
     "text": [
      "100%|██████████| 615/615 [00:42<00:00, 14.52it/s, loss=1.887, acc=0.465]\n",
      "100%|██████████| 64/64 [00:03<00:00, 17.38it/s]\n",
      "  0%|          | 1/615 [00:00<01:10,  8.77it/s, loss=1.869, acc=0.463]"
     ]
    },
    {
     "name": "stdout",
     "output_type": "stream",
     "text": [
      "Epoch 28 Validation Accuracy 0.3644168374974953\n"
     ]
    },
    {
     "name": "stderr",
     "output_type": "stream",
     "text": [
      "100%|██████████| 615/615 [00:42<00:00, 14.46it/s, loss=1.833, acc=0.467]\n",
      "100%|██████████| 64/64 [00:03<00:00, 17.05it/s]\n",
      "  0%|          | 1/615 [00:00<01:10,  8.74it/s, loss=1.887, acc=0.458]"
     ]
    },
    {
     "name": "stdout",
     "output_type": "stream",
     "text": [
      "Epoch 29 Validation Accuracy 0.36171950862374574\n"
     ]
    },
    {
     "name": "stderr",
     "output_type": "stream",
     "text": [
      "100%|██████████| 615/615 [00:42<00:00, 14.49it/s, loss=1.928, acc=0.432]\n",
      "100%|██████████| 64/64 [00:03<00:00, 17.09it/s]\n",
      "  0%|          | 1/615 [00:00<01:11,  8.65it/s, loss=1.908, acc=0.446]"
     ]
    },
    {
     "name": "stdout",
     "output_type": "stream",
     "text": [
      "Epoch 30 Validation Accuracy 0.3580357280475963\n"
     ]
    },
    {
     "name": "stderr",
     "output_type": "stream",
     "text": [
      "100%|██████████| 615/615 [00:42<00:00, 14.38it/s, loss=1.886, acc=0.446]\n",
      "100%|██████████| 64/64 [00:03<00:00, 17.13it/s]\n",
      "  0%|          | 1/615 [00:00<01:11,  8.64it/s, loss=1.857, acc=0.455]"
     ]
    },
    {
     "name": "stdout",
     "output_type": "stream",
     "text": [
      "Epoch 31 Validation Accuracy 0.3572342360393964\n"
     ]
    },
    {
     "name": "stderr",
     "output_type": "stream",
     "text": [
      "100%|██████████| 615/615 [00:43<00:00, 14.28it/s, loss=1.785, acc=0.468]\n",
      "100%|██████████| 64/64 [00:03<00:00, 17.21it/s]\n",
      "  0%|          | 1/615 [00:00<01:24,  7.23it/s, loss=1.892, acc=0.450]"
     ]
    },
    {
     "name": "stdout",
     "output_type": "stream",
     "text": [
      "Epoch 32 Validation Accuracy 0.3655265956626952\n"
     ]
    },
    {
     "name": "stderr",
     "output_type": "stream",
     "text": [
      "100%|██████████| 615/615 [00:43<00:00, 14.12it/s, loss=1.813, acc=0.472]\n",
      "100%|██████████| 64/64 [00:03<00:00, 16.85it/s]\n",
      "  0%|          | 1/615 [00:00<01:12,  8.44it/s, loss=1.915, acc=0.468]"
     ]
    },
    {
     "name": "stdout",
     "output_type": "stream",
     "text": [
      "Epoch 33 Validation Accuracy 0.36911789639174464\n"
     ]
    },
    {
     "name": "stderr",
     "output_type": "stream",
     "text": [
      "100%|██████████| 615/615 [00:42<00:00, 14.47it/s, loss=1.911, acc=0.454]\n",
      "100%|██████████| 64/64 [00:03<00:00, 17.68it/s]\n",
      "  0%|          | 1/615 [00:00<01:11,  8.60it/s, loss=1.833, acc=0.491]"
     ]
    },
    {
     "name": "stdout",
     "output_type": "stream",
     "text": [
      "Epoch 34 Validation Accuracy 0.36911789639174464\n"
     ]
    },
    {
     "name": "stderr",
     "output_type": "stream",
     "text": [
      "100%|██████████| 615/615 [00:42<00:00, 14.52it/s, loss=1.792, acc=0.478]\n",
      "100%|██████████| 64/64 [00:03<00:00, 17.69it/s]\n",
      "  0%|          | 1/615 [00:00<01:18,  7.87it/s, loss=1.716, acc=0.508]"
     ]
    },
    {
     "name": "stdout",
     "output_type": "stream",
     "text": [
      "Epoch 35 Validation Accuracy 0.3713374127221443\n"
     ]
    },
    {
     "name": "stderr",
     "output_type": "stream",
     "text": [
      "100%|██████████| 615/615 [00:41<00:00, 14.71it/s, loss=1.970, acc=0.444]\n",
      "100%|██████████| 64/64 [00:03<00:00, 16.90it/s]\n",
      "  0%|          | 1/615 [00:00<01:13,  8.40it/s, loss=1.868, acc=0.482]"
     ]
    },
    {
     "name": "stdout",
     "output_type": "stream",
     "text": [
      "Epoch 36 Validation Accuracy 0.36749949906749485\n"
     ]
    },
    {
     "name": "stderr",
     "output_type": "stream",
     "text": [
      "100%|██████████| 615/615 [00:42<00:00, 14.54it/s, loss=1.905, acc=0.471]\n",
      "100%|██████████| 64/64 [00:03<00:00, 16.79it/s]\n",
      "  0%|          | 1/615 [00:00<01:20,  7.62it/s, loss=1.762, acc=0.481]"
     ]
    },
    {
     "name": "stdout",
     "output_type": "stream",
     "text": [
      "Epoch 37 Validation Accuracy 0.3586368470537462\n"
     ]
    },
    {
     "name": "stderr",
     "output_type": "stream",
     "text": [
      "100%|██████████| 615/615 [00:42<00:00, 14.50it/s, loss=1.844, acc=0.456]\n",
      "100%|██████████| 64/64 [00:03<00:00, 17.36it/s]\n",
      "  0%|          | 1/615 [00:00<01:10,  8.70it/s, loss=1.816, acc=0.472]"
     ]
    },
    {
     "name": "stdout",
     "output_type": "stream",
     "text": [
      "Epoch 38 Validation Accuracy 0.3586985002851462\n"
     ]
    },
    {
     "name": "stderr",
     "output_type": "stream",
     "text": [
      "100%|██████████| 615/615 [00:42<00:00, 14.54it/s, loss=1.798, acc=0.467]\n",
      "100%|██████████| 64/64 [00:03<00:00, 17.42it/s]\n",
      "  0%|          | 1/615 [00:00<01:10,  8.67it/s, loss=1.799, acc=0.487]"
     ]
    },
    {
     "name": "stdout",
     "output_type": "stream",
     "text": [
      "Epoch 39 Validation Accuracy 0.3605018573035959\n"
     ]
    },
    {
     "name": "stderr",
     "output_type": "stream",
     "text": [
      "100%|██████████| 615/615 [00:42<00:00, 14.60it/s, loss=1.913, acc=0.460]\n",
      "100%|██████████| 64/64 [00:03<00:00, 17.50it/s]\n",
      "  0%|          | 1/615 [00:00<01:09,  8.80it/s, loss=1.806, acc=0.497]"
     ]
    },
    {
     "name": "stdout",
     "output_type": "stream",
     "text": [
      "Epoch 40 Validation Accuracy 0.36010111129949596\n"
     ]
    },
    {
     "name": "stderr",
     "output_type": "stream",
     "text": [
      "100%|██████████| 615/615 [00:41<00:00, 14.66it/s, loss=1.911, acc=0.451]\n",
      "100%|██████████| 64/64 [00:03<00:00, 17.36it/s]\n",
      "  0%|          | 1/615 [00:00<01:08,  8.96it/s, loss=1.732, acc=0.504]"
     ]
    },
    {
     "name": "stdout",
     "output_type": "stream",
     "text": [
      "Epoch 41 Validation Accuracy 0.35552335886804665\n"
     ]
    },
    {
     "name": "stderr",
     "output_type": "stream",
     "text": [
      "100%|██████████| 615/615 [00:42<00:00, 14.48it/s, loss=1.886, acc=0.484]\n",
      "100%|██████████| 64/64 [00:03<00:00, 17.43it/s]\n",
      "  0%|          | 1/615 [00:00<01:12,  8.44it/s, loss=1.783, acc=0.490]"
     ]
    },
    {
     "name": "stdout",
     "output_type": "stream",
     "text": [
      "Epoch 42 Validation Accuracy 0.3675149123753449\n"
     ]
    },
    {
     "name": "stderr",
     "output_type": "stream",
     "text": [
      "100%|██████████| 615/615 [00:42<00:00, 14.57it/s, loss=1.833, acc=0.473]\n",
      "100%|██████████| 64/64 [00:03<00:00, 16.44it/s]\n",
      "  0%|          | 1/615 [00:00<01:11,  8.55it/s, loss=1.729, acc=0.499]"
     ]
    },
    {
     "name": "stdout",
     "output_type": "stream",
     "text": [
      "Epoch 43 Validation Accuracy 0.3681160313814948\n"
     ]
    },
    {
     "name": "stderr",
     "output_type": "stream",
     "text": [
      "100%|██████████| 615/615 [00:42<00:00, 14.52it/s, loss=1.870, acc=0.450]\n",
      "100%|██████████| 64/64 [00:03<00:00, 16.90it/s]\n",
      "  0%|          | 1/615 [00:00<01:16,  7.99it/s, loss=1.690, acc=0.508]"
     ]
    },
    {
     "name": "stdout",
     "output_type": "stream",
     "text": [
      "Epoch 44 Validation Accuracy 0.3608563633841459\n"
     ]
    },
    {
     "name": "stderr",
     "output_type": "stream",
     "text": [
      "100%|██████████| 615/615 [00:42<00:00, 14.52it/s, loss=1.866, acc=0.486]\n",
      "100%|██████████| 64/64 [00:03<00:00, 17.14it/s]\n",
      "  0%|          | 1/615 [00:00<01:08,  8.93it/s, loss=1.753, acc=0.503]"
     ]
    },
    {
     "name": "stdout",
     "output_type": "stream",
     "text": [
      "Epoch 45 Validation Accuracy 0.36572696866474513\n"
     ]
    },
    {
     "name": "stderr",
     "output_type": "stream",
     "text": [
      "100%|██████████| 615/615 [00:42<00:00, 14.47it/s, loss=1.750, acc=0.487]\n",
      "100%|██████████| 64/64 [00:03<00:00, 17.40it/s]\n",
      "  0%|          | 1/615 [00:00<01:11,  8.55it/s, loss=1.748, acc=0.485]"
     ]
    },
    {
     "name": "stdout",
     "output_type": "stream",
     "text": [
      "Epoch 46 Validation Accuracy 0.36503336981149526\n"
     ]
    },
    {
     "name": "stderr",
     "output_type": "stream",
     "text": [
      "100%|██████████| 615/615 [00:42<00:00, 14.57it/s, loss=1.861, acc=0.473]\n",
      "100%|██████████| 64/64 [00:03<00:00, 17.37it/s]\n",
      "  0%|          | 1/615 [00:00<01:19,  7.72it/s, loss=1.733, acc=0.507]"
     ]
    },
    {
     "name": "stdout",
     "output_type": "stream",
     "text": [
      "Epoch 47 Validation Accuracy 0.3632300127930455\n"
     ]
    },
    {
     "name": "stderr",
     "output_type": "stream",
     "text": [
      "100%|██████████| 615/615 [00:42<00:00, 14.60it/s, loss=1.745, acc=0.487]\n",
      "100%|██████████| 64/64 [00:03<00:00, 17.12it/s]\n",
      "  0%|          | 1/615 [00:00<01:09,  8.81it/s, loss=1.764, acc=0.483]"
     ]
    },
    {
     "name": "stdout",
     "output_type": "stream",
     "text": [
      "Epoch 48 Validation Accuracy 0.36777693860879485\n"
     ]
    },
    {
     "name": "stderr",
     "output_type": "stream",
     "text": [
      "100%|██████████| 615/615 [00:41<00:00, 14.65it/s, loss=1.924, acc=0.456]\n",
      "100%|██████████| 64/64 [00:03<00:00, 16.77it/s]\n",
      "  0%|          | 1/615 [00:00<01:11,  8.56it/s, loss=1.782, acc=0.477]"
     ]
    },
    {
     "name": "stdout",
     "output_type": "stream",
     "text": [
      "Epoch 49 Validation Accuracy 0.36225897439849564\n"
     ]
    },
    {
     "name": "stderr",
     "output_type": "stream",
     "text": [
      "100%|██████████| 615/615 [00:42<00:00, 14.49it/s, loss=1.822, acc=0.454]\n",
      "100%|██████████| 64/64 [00:03<00:00, 16.14it/s]\n",
      "  0%|          | 1/615 [00:00<01:14,  8.28it/s, loss=1.787, acc=0.504]"
     ]
    },
    {
     "name": "stdout",
     "output_type": "stream",
     "text": [
      "Epoch 50 Validation Accuracy 0.3625518272476456\n"
     ]
    },
    {
     "name": "stderr",
     "output_type": "stream",
     "text": [
      "100%|██████████| 615/615 [00:42<00:00, 14.55it/s, loss=1.776, acc=0.481]\n",
      "100%|██████████| 64/64 [00:03<00:00, 17.62it/s]\n",
      "  0%|          | 1/615 [00:00<01:07,  9.10it/s, loss=1.795, acc=0.488]"
     ]
    },
    {
     "name": "stdout",
     "output_type": "stream",
     "text": [
      "Epoch 51 Validation Accuracy 0.36768445876169487\n"
     ]
    },
    {
     "name": "stderr",
     "output_type": "stream",
     "text": [
      "100%|██████████| 615/615 [00:41<00:00, 14.67it/s, loss=1.764, acc=0.472]\n",
      "100%|██████████| 64/64 [00:03<00:00, 17.43it/s]\n",
      "  0%|          | 1/615 [00:00<01:08,  8.93it/s, loss=1.867, acc=0.467]"
     ]
    },
    {
     "name": "stdout",
     "output_type": "stream",
     "text": [
      "Epoch 52 Validation Accuracy 0.3612879360039458\n"
     ]
    },
    {
     "name": "stderr",
     "output_type": "stream",
     "text": [
      "100%|██████████| 615/615 [00:42<00:00, 14.64it/s, loss=1.842, acc=0.486]\n",
      "100%|██████████| 64/64 [00:03<00:00, 16.72it/s]\n",
      "  0%|          | 1/615 [00:00<01:09,  8.78it/s, loss=1.748, acc=0.497]"
     ]
    },
    {
     "name": "stdout",
     "output_type": "stream",
     "text": [
      "Epoch 53 Validation Accuracy 0.359823671758196\n"
     ]
    },
    {
     "name": "stderr",
     "output_type": "stream",
     "text": [
      "100%|██████████| 615/615 [00:42<00:00, 14.57it/s, loss=1.806, acc=0.473]\n",
      "100%|██████████| 64/64 [00:03<00:00, 17.68it/s]\n",
      "  0%|          | 1/615 [00:00<01:09,  8.80it/s, loss=1.639, acc=0.517]"
     ]
    },
    {
     "name": "stdout",
     "output_type": "stream",
     "text": [
      "Epoch 54 Validation Accuracy 0.35646357064689654\n"
     ]
    },
    {
     "name": "stderr",
     "output_type": "stream",
     "text": [
      "100%|██████████| 615/615 [00:42<00:00, 14.56it/s, loss=1.745, acc=0.480]\n",
      "100%|██████████| 64/64 [00:03<00:00, 17.71it/s]\n",
      "  0%|          | 1/615 [00:00<01:11,  8.58it/s, loss=1.771, acc=0.485]"
     ]
    },
    {
     "name": "stdout",
     "output_type": "stream",
     "text": [
      "Epoch 55 Validation Accuracy 0.36119545615684584\n"
     ]
    },
    {
     "name": "stderr",
     "output_type": "stream",
     "text": [
      "100%|██████████| 615/615 [00:41<00:00, 14.65it/s, loss=1.883, acc=0.453]\n",
      "100%|██████████| 64/64 [00:03<00:00, 17.45it/s]\n",
      "  0%|          | 1/615 [00:00<01:10,  8.77it/s, loss=1.736, acc=0.473]"
     ]
    },
    {
     "name": "stdout",
     "output_type": "stream",
     "text": [
      "Epoch 56 Validation Accuracy 0.3689945899289446\n"
     ]
    },
    {
     "name": "stderr",
     "output_type": "stream",
     "text": [
      "100%|██████████| 615/615 [00:42<00:00, 14.41it/s, loss=1.777, acc=0.486]\n",
      "100%|██████████| 64/64 [00:03<00:00, 16.48it/s]\n",
      "  0%|          | 1/615 [00:00<01:11,  8.63it/s, loss=1.725, acc=0.491]"
     ]
    },
    {
     "name": "stdout",
     "output_type": "stream",
     "text": [
      "Epoch 57 Validation Accuracy 0.36017817783874595\n"
     ]
    },
    {
     "name": "stderr",
     "output_type": "stream",
     "text": [
      "100%|██████████| 615/615 [00:43<00:00, 14.26it/s, loss=1.785, acc=0.481]\n",
      "100%|██████████| 64/64 [00:03<00:00, 17.04it/s]\n",
      "  0%|          | 1/615 [00:00<01:13,  8.40it/s, loss=1.724, acc=0.474]"
     ]
    },
    {
     "name": "stdout",
     "output_type": "stream",
     "text": [
      "Epoch 58 Validation Accuracy 0.3586830869772962\n"
     ]
    },
    {
     "name": "stderr",
     "output_type": "stream",
     "text": [
      " 63%|██████▎   | 385/615 [00:27<00:16, 14.07it/s, loss=1.706, acc=0.496]"
     ]
    }
   ],
   "source": [
    "best_accuracy = 0\n",
    "best_model_path = 'model.pt'\n",
    "for epoch in range(100):\n",
    "    model.train()\n",
    "    \n",
    "    with tqdm.tqdm(train_dataloader) as tq:\n",
    "        for step, (input_nodes, output_nodes, bipartites) in enumerate(tq):\n",
    "            bipartites = [b.to(torch.device('cuda')) for b in bipartites]\n",
    "            \n",
    "            # Get featureless input nodes and use the node embeddings as their initial representation \n",
    "            featureless_nodes = {ntype: node_ids for ntype, node_ids in input_nodes.items() if ntype != 'paper'}\n",
    "            embeddings = {ntype: node_embedding.cuda() for ntype, node_embedding in embed(featureless_nodes).items()}\n",
    "            \n",
    "            # Get input features for node type 'paper' which has input features\n",
    "            inputs = {'paper': node_features[input_nodes['paper']].cuda()}\n",
    "            \n",
    "            inputs.update(embeddings) # Merge feature inputs with input that has features\n",
    "            \n",
    "            labels = node_labels[output_nodes['paper']].cuda()\n",
    "            predictions = model(bipartites, inputs)['paper']\n",
    "\n",
    "            loss = F.cross_entropy(predictions, labels)\n",
    "            opt.zero_grad()\n",
    "            loss.backward()\n",
    "            opt.step()\n",
    "\n",
    "            accuracy = sklearn.metrics.accuracy_score(labels.cpu().numpy(), predictions.argmax(1).detach().cpu().numpy())\n",
    "            \n",
    "            tq.set_postfix({'loss': '%.03f' % loss.item(), 'acc': '%.03f' % accuracy}, refresh=False)\n",
    "        \n",
    "    model.eval()\n",
    "    \n",
    "    predictions = []\n",
    "    labels = []\n",
    "    with tqdm.tqdm(valid_dataloader) as tq, torch.no_grad():\n",
    "        for input_nodes, output_nodes, bipartites in tq:\n",
    "            bipartites = [b.to(torch.device('cuda')) for b in bipartites]\n",
    "            \n",
    "            featureless_nodes = {ntype: node_ids for ntype, node_ids in input_nodes.items() if ntype != \"paper\"}\n",
    "            embeddings = {ntype: node_embedding.cuda() for ntype, node_embedding in embed(featureless_nodes).items()}\n",
    "            inputs = {'paper': node_features[input_nodes['paper']].cuda()}\n",
    "            inputs.update(embeddings)\n",
    "            \n",
    "            labels.append(node_labels[output_nodes['paper']].numpy())\n",
    "            predictions.append(model(bipartites, inputs)['paper'].argmax(1).cpu().numpy())\n",
    "        predictions = np.concatenate(predictions)\n",
    "        labels = np.concatenate(labels)\n",
    "        accuracy = sklearn.metrics.accuracy_score(labels, predictions)\n",
    "        print('Epoch {} Validation Accuracy {}'.format(epoch, accuracy))\n",
    "        if best_accuracy < accuracy:\n",
    "            best_accuracy = accuracy\n",
    "            torch.save(model.state_dict(), best_model_path)"
   ]
  },
  {
   "cell_type": "code",
   "execution_count": null,
   "id": "3cb98de2",
   "metadata": {
    "ExecuteTime": {
     "start_time": "2021-06-27T07:08:06.055Z"
    }
   },
   "outputs": [],
   "source": [
    "def inference(model, graph, input_features, batch_size):\n",
    "    nodes = {ntype: torch.arange(graph.number_of_nodes(ntype)) for ntype in graph.ntypes}\n",
    "    \n",
    "    sampler = dgl.dataloading.MultiLayerNeighborSampler([None])  # one layer at a time, taking all neighbors\n",
    "    dataloader = dgl.dataloading.NodeDataLoader(\n",
    "        graph, nodes, sampler\n",
    "        ,\n",
    "        batch_size=batch_size,\n",
    "        shuffle=False,\n",
    "        drop_last=False,\n",
    "        num_workers=0)\n",
    "    \n",
    "    with torch.no_grad():\n",
    "        for l, layer in enumerate(model.layers):\n",
    "            # Allocate a buffer of output representations for every node\n",
    "            # Note that the buffer is on CPU memory.\n",
    "            output_features = {ntype: torch.zeros(\n",
    "                graph.number_of_nodes(ntype), model.n_hidden if l != model.n_layers - 1 else model.n_classes)\n",
    "                for ntype in graph.ntypes}\n",
    "\n",
    "            for input_nodes, output_nodes, bipartites in tqdm.tqdm(dataloader):\n",
    "                bipartite = bipartites[0].to(torch.device('cuda'))\n",
    "\n",
    "                # send features for nodes in batch to gpu \n",
    "                x = {ntype: input_features[ntype][input_nodes[ntype]].cuda() for ntype in input_nodes}\n",
    "\n",
    "                # the following code is identical to the loop body in model.forward()\n",
    "                x = layer(bipartite, x)\n",
    "                if l != model.n_layers - 1:\n",
    "                    x = {k: F.relu(v) for k, v in x.items()}\n",
    "                \n",
    "                for ntype in x:\n",
    "                    output_features[ntype][output_nodes[ntype]] = x[ntype].cpu()\n",
    "            input_features = output_features\n",
    "    return output_features"
   ]
  },
  {
   "cell_type": "code",
   "execution_count": null,
   "id": "2539d9a2",
   "metadata": {
    "ExecuteTime": {
     "start_time": "2021-06-27T07:08:06.281Z"
    }
   },
   "outputs": [],
   "source": [
    "model.load_state_dict(torch.load(best_model_path))\n",
    "\n",
    "featureless_nodes = {ntype: torch.arange(num_nodes_ntype) for ntype, num_nodes_ntype in num_nodes.items()}\n",
    "embeddings = {ntype: node_embedding for ntype, node_embedding in embed(featureless_nodes).items()}\n",
    "inputs = {'paper': node_features}\n",
    "inputs.update(embeddings)\n",
    "\n",
    "all_predictions = inference(model, graph, inputs, 8192)"
   ]
  },
  {
   "cell_type": "code",
   "execution_count": null,
   "id": "5ead7cd3",
   "metadata": {
    "ExecuteTime": {
     "start_time": "2021-06-27T07:08:07.151Z"
    }
   },
   "outputs": [],
   "source": [
    "test_predictions = all_predictions['paper'][test_nids['paper']].argmax(1)\n",
    "test_labels = node_labels[test_nids['paper']]\n",
    "test_accuracy = sklearn.metrics.accuracy_score(test_predictions.numpy(), test_labels.numpy())\n",
    "print('Test accuracy:', test_accuracy)"
   ]
  },
  {
   "cell_type": "code",
   "execution_count": null,
   "id": "a60351ff",
   "metadata": {},
   "outputs": [],
   "source": []
  },
  {
   "cell_type": "code",
   "execution_count": null,
   "id": "4df99d1d",
   "metadata": {},
   "outputs": [],
   "source": []
  },
  {
   "cell_type": "code",
   "execution_count": null,
   "id": "f1ce3a52",
   "metadata": {},
   "outputs": [],
   "source": []
  },
  {
   "cell_type": "code",
   "execution_count": null,
   "id": "44bdff62",
   "metadata": {},
   "outputs": [],
   "source": []
  },
  {
   "cell_type": "code",
   "execution_count": null,
   "id": "6bc1b06d",
   "metadata": {},
   "outputs": [],
   "source": []
  },
  {
   "cell_type": "code",
   "execution_count": null,
   "id": "3b78e21d",
   "metadata": {},
   "outputs": [],
   "source": []
  },
  {
   "cell_type": "code",
   "execution_count": null,
   "id": "a105e721",
   "metadata": {},
   "outputs": [],
   "source": []
  },
  {
   "cell_type": "code",
   "execution_count": null,
   "id": "283903a9",
   "metadata": {},
   "outputs": [],
   "source": []
  },
  {
   "cell_type": "code",
   "execution_count": null,
   "id": "cecaa0dd",
   "metadata": {},
   "outputs": [],
   "source": []
  },
  {
   "cell_type": "code",
   "execution_count": null,
   "id": "32ec7bd8",
   "metadata": {},
   "outputs": [],
   "source": []
  },
  {
   "cell_type": "code",
   "execution_count": null,
   "id": "fd00dfe6",
   "metadata": {},
   "outputs": [],
   "source": []
  },
  {
   "cell_type": "code",
   "execution_count": null,
   "id": "7d1cffc6",
   "metadata": {},
   "outputs": [],
   "source": []
  },
  {
   "cell_type": "code",
   "execution_count": null,
   "id": "f2b3d970",
   "metadata": {},
   "outputs": [],
   "source": []
  },
  {
   "cell_type": "code",
   "execution_count": null,
   "id": "d8f41c09",
   "metadata": {},
   "outputs": [],
   "source": []
  },
  {
   "cell_type": "code",
   "execution_count": null,
   "id": "029c89aa",
   "metadata": {},
   "outputs": [],
   "source": []
  },
  {
   "cell_type": "code",
   "execution_count": null,
   "id": "c5e76f86",
   "metadata": {},
   "outputs": [],
   "source": []
  },
  {
   "cell_type": "code",
   "execution_count": null,
   "id": "8acea935",
   "metadata": {},
   "outputs": [],
   "source": []
  }
 ],
 "metadata": {
  "kernelspec": {
   "display_name": "Python [conda env:graph]",
   "language": "python",
   "name": "conda-env-graph-py"
  },
  "language_info": {
   "codemirror_mode": {
    "name": "ipython",
    "version": 3
   },
   "file_extension": ".py",
   "mimetype": "text/x-python",
   "name": "python",
   "nbconvert_exporter": "python",
   "pygments_lexer": "ipython3",
   "version": "3.8.10"
  },
  "latex_envs": {
   "LaTeX_envs_menu_present": true,
   "autoclose": false,
   "autocomplete": true,
   "bibliofile": "biblio.bib",
   "cite_by": "apalike",
   "current_citInitial": 1,
   "eqLabelWithNumbers": true,
   "eqNumInitial": 1,
   "hotkeys": {
    "equation": "Ctrl-E",
    "itemize": "Ctrl-I"
   },
   "labels_anchors": false,
   "latex_user_defs": false,
   "report_style_numbering": false,
   "user_envs_cfg": false
  },
  "toc": {
   "base_numbering": 1,
   "nav_menu": {},
   "number_sections": true,
   "sideBar": true,
   "skip_h1_title": false,
   "title_cell": "Table of Contents",
   "title_sidebar": "Contents",
   "toc_cell": false,
   "toc_position": {},
   "toc_section_display": true,
   "toc_window_display": false
  },
  "varInspector": {
   "cols": {
    "lenName": 16,
    "lenType": 16,
    "lenVar": 40
   },
   "kernels_config": {
    "python": {
     "delete_cmd_postfix": "",
     "delete_cmd_prefix": "del ",
     "library": "var_list.py",
     "varRefreshCmd": "print(var_dic_list())"
    },
    "r": {
     "delete_cmd_postfix": ") ",
     "delete_cmd_prefix": "rm(",
     "library": "var_list.r",
     "varRefreshCmd": "cat(var_dic_list()) "
    }
   },
   "types_to_exclude": [
    "module",
    "function",
    "builtin_function_or_method",
    "instance",
    "_Feature"
   ],
   "window_display": false
  }
 },
 "nbformat": 4,
 "nbformat_minor": 5
}

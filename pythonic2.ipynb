{
 "cells": [
  {
   "cell_type": "markdown",
   "id": "03137ad0",
   "metadata": {},
   "source": [
    "# Lambda"
   ]
  },
  {
   "cell_type": "code",
   "execution_count": 1,
   "id": "50db3ad7",
   "metadata": {
    "ExecuteTime": {
     "end_time": "2021-07-01T13:34:24.860693Z",
     "start_time": "2021-07-01T13:34:24.852527Z"
    }
   },
   "outputs": [],
   "source": [
    "f = lambda x, y : x + y"
   ]
  },
  {
   "cell_type": "code",
   "execution_count": 2,
   "id": "089f5abc",
   "metadata": {
    "ExecuteTime": {
     "end_time": "2021-07-01T13:34:27.238977Z",
     "start_time": "2021-07-01T13:34:27.226405Z"
    }
   },
   "outputs": [
    {
     "data": {
      "text/plain": [
       "6"
      ]
     },
     "execution_count": 2,
     "metadata": {},
     "output_type": "execute_result"
    }
   ],
   "source": [
    "f(1,5)"
   ]
  },
  {
   "cell_type": "code",
   "execution_count": 3,
   "id": "64064529",
   "metadata": {
    "ExecuteTime": {
     "end_time": "2021-07-01T13:34:37.774563Z",
     "start_time": "2021-07-01T13:34:37.766237Z"
    }
   },
   "outputs": [],
   "source": [
    "f1 = lambda x : x ** x"
   ]
  },
  {
   "cell_type": "code",
   "execution_count": 6,
   "id": "d87ecaa1",
   "metadata": {
    "ExecuteTime": {
     "end_time": "2021-07-01T13:34:45.287134Z",
     "start_time": "2021-07-01T13:34:45.283069Z"
    }
   },
   "outputs": [
    {
     "data": {
      "text/plain": [
       "256"
      ]
     },
     "execution_count": 6,
     "metadata": {},
     "output_type": "execute_result"
    }
   ],
   "source": [
    "f1(4)"
   ]
  },
  {
   "cell_type": "code",
   "execution_count": 7,
   "id": "826f63f9",
   "metadata": {
    "ExecuteTime": {
     "end_time": "2021-07-01T13:35:08.055848Z",
     "start_time": "2021-07-01T13:35:08.052050Z"
    }
   },
   "outputs": [],
   "source": [
    "f2 = lambda x, y ,z : (x + y) * z"
   ]
  },
  {
   "cell_type": "code",
   "execution_count": 9,
   "id": "08790014",
   "metadata": {
    "ExecuteTime": {
     "end_time": "2021-07-01T13:35:14.576597Z",
     "start_time": "2021-07-01T13:35:14.572321Z"
    }
   },
   "outputs": [
    {
     "data": {
      "text/plain": [
       "15"
      ]
     },
     "execution_count": 9,
     "metadata": {},
     "output_type": "execute_result"
    }
   ],
   "source": [
    "f2(1,2,5)"
   ]
  },
  {
   "cell_type": "code",
   "execution_count": null,
   "id": "56d230a7",
   "metadata": {},
   "outputs": [],
   "source": []
  },
  {
   "cell_type": "markdown",
   "id": "7994a150",
   "metadata": {},
   "source": [
    "# MapReduce"
   ]
  },
  {
   "cell_type": "code",
   "execution_count": 13,
   "id": "5bf04501",
   "metadata": {
    "ExecuteTime": {
     "end_time": "2021-07-01T13:36:48.445471Z",
     "start_time": "2021-07-01T13:36:48.441092Z"
    }
   },
   "outputs": [
    {
     "name": "stdout",
     "output_type": "stream",
     "text": [
      "[1, 4, 9, 16, 25]\n"
     ]
    }
   ],
   "source": [
    "ex = [1,2,3,4,5]\n",
    "f3 = lambda x : x ** 2\n",
    "print(list(map(f3, ex)))"
   ]
  },
  {
   "cell_type": "code",
   "execution_count": null,
   "id": "22e5ac39",
   "metadata": {},
   "outputs": [],
   "source": []
  },
  {
   "cell_type": "code",
   "execution_count": 26,
   "id": "8d1d6f94",
   "metadata": {
    "ExecuteTime": {
     "end_time": "2021-07-01T13:44:43.682288Z",
     "start_time": "2021-07-01T13:44:43.677906Z"
    }
   },
   "outputs": [
    {
     "data": {
      "text/plain": [
       "[1, 4, 9, 16, 25]"
      ]
     },
     "execution_count": 26,
     "metadata": {},
     "output_type": "execute_result"
    }
   ],
   "source": [
    "[x ** 2 for x in ex]"
   ]
  },
  {
   "cell_type": "code",
   "execution_count": null,
   "id": "ed905130",
   "metadata": {},
   "outputs": [],
   "source": []
  },
  {
   "cell_type": "markdown",
   "id": "99678af1",
   "metadata": {
    "ExecuteTime": {
     "end_time": "2021-07-01T13:37:09.966191Z",
     "start_time": "2021-07-01T13:37:09.949448Z"
    }
   },
   "source": [
    "## generator"
   ]
  },
  {
   "cell_type": "code",
   "execution_count": null,
   "id": "8b7c18e4",
   "metadata": {},
   "outputs": [],
   "source": []
  },
  {
   "cell_type": "markdown",
   "id": "397a4a16",
   "metadata": {},
   "source": [
    "## comparison with list comperhension"
   ]
  },
  {
   "cell_type": "code",
   "execution_count": null,
   "id": "a3c006be",
   "metadata": {},
   "outputs": [],
   "source": []
  },
  {
   "cell_type": "markdown",
   "id": "3aba78af",
   "metadata": {},
   "source": [
    "## sequence"
   ]
  },
  {
   "cell_type": "code",
   "execution_count": 22,
   "id": "f0936602",
   "metadata": {
    "ExecuteTime": {
     "end_time": "2021-07-01T13:43:30.433588Z",
     "start_time": "2021-07-01T13:43:30.427127Z"
    }
   },
   "outputs": [
    {
     "data": {
      "text/plain": [
       "[2, 4, 6, 8, 10]"
      ]
     },
     "execution_count": 22,
     "metadata": {},
     "output_type": "execute_result"
    }
   ],
   "source": [
    "ex = [1,2,3,4,5]\n",
    "f = lambda x, y : x+ y\n",
    "list(map(f, ex, ex))"
   ]
  },
  {
   "cell_type": "code",
   "execution_count": 25,
   "id": "3376dfd3",
   "metadata": {
    "ExecuteTime": {
     "end_time": "2021-07-01T13:44:13.858197Z",
     "start_time": "2021-07-01T13:44:13.853483Z"
    }
   },
   "outputs": [
    {
     "data": {
      "text/plain": [
       "[2, 4, 6, 8, 10]"
      ]
     },
     "execution_count": 25,
     "metadata": {},
     "output_type": "execute_result"
    }
   ],
   "source": [
    "[x + y for x , y in zip(ex,ex)]"
   ]
  },
  {
   "cell_type": "markdown",
   "id": "b4ce975e",
   "metadata": {},
   "source": [
    "## filtering"
   ]
  },
  {
   "cell_type": "code",
   "execution_count": 28,
   "id": "5a2339db",
   "metadata": {
    "ExecuteTime": {
     "end_time": "2021-07-01T13:48:28.151261Z",
     "start_time": "2021-07-01T13:48:28.145714Z"
    }
   },
   "outputs": [
    {
     "data": {
      "text/plain": [
       "[1, 4, 3, 16, 5]"
      ]
     },
     "execution_count": 28,
     "metadata": {},
     "output_type": "execute_result"
    }
   ],
   "source": [
    "list(map(lambda x : x **2 if x % 2 == 0 else x, ex))"
   ]
  },
  {
   "cell_type": "code",
   "execution_count": 29,
   "id": "8f8509b0",
   "metadata": {
    "ExecuteTime": {
     "end_time": "2021-07-01T13:48:43.819676Z",
     "start_time": "2021-07-01T13:48:43.812624Z"
    }
   },
   "outputs": [
    {
     "data": {
      "text/plain": [
       "[1, 4, 3, 16, 5]"
      ]
     },
     "execution_count": 29,
     "metadata": {},
     "output_type": "execute_result"
    }
   ],
   "source": [
    "[x ** 2 if x % 2 == 0 else x for x in ex]"
   ]
  },
  {
   "cell_type": "code",
   "execution_count": null,
   "id": "a1a725ff",
   "metadata": {},
   "outputs": [],
   "source": []
  },
  {
   "cell_type": "markdown",
   "id": "f629863b",
   "metadata": {},
   "source": [
    "# reduce"
   ]
  },
  {
   "cell_type": "code",
   "execution_count": 31,
   "id": "5e941452",
   "metadata": {
    "ExecuteTime": {
     "end_time": "2021-07-01T13:49:05.739844Z",
     "start_time": "2021-07-01T13:49:05.734806Z"
    }
   },
   "outputs": [],
   "source": [
    "from functools import reduce"
   ]
  },
  {
   "cell_type": "code",
   "execution_count": 32,
   "id": "828b816b",
   "metadata": {
    "ExecuteTime": {
     "end_time": "2021-07-01T13:49:22.581022Z",
     "start_time": "2021-07-01T13:49:22.567190Z"
    }
   },
   "outputs": [
    {
     "name": "stdout",
     "output_type": "stream",
     "text": [
      "15\n"
     ]
    }
   ],
   "source": [
    "# adapt reduce technique at number through sequence # 1,2 -> 3 -> 4 -> 5\n",
    "print(reduce(lambda x, y : x + y, [1,2,3,4,5]))"
   ]
  },
  {
   "cell_type": "code",
   "execution_count": null,
   "id": "292cec6a",
   "metadata": {},
   "outputs": [],
   "source": []
  },
  {
   "cell_type": "markdown",
   "id": "db2c896d",
   "metadata": {},
   "source": [
    "# asterisk"
   ]
  },
  {
   "cell_type": "code",
   "execution_count": 34,
   "id": "6be14655",
   "metadata": {
    "ExecuteTime": {
     "end_time": "2021-07-01T13:53:00.650329Z",
     "start_time": "2021-07-01T13:53:00.641379Z"
    }
   },
   "outputs": [],
   "source": [
    "def asterisk_test(a, *args):\n",
    "    print(a, args)\n",
    "    print(type(args))"
   ]
  },
  {
   "cell_type": "code",
   "execution_count": 35,
   "id": "8b6c8b27",
   "metadata": {
    "ExecuteTime": {
     "end_time": "2021-07-01T13:53:05.679080Z",
     "start_time": "2021-07-01T13:53:05.672673Z"
    }
   },
   "outputs": [
    {
     "name": "stdout",
     "output_type": "stream",
     "text": [
      "1 (2, 3, 4, 5, 6)\n",
      "<class 'tuple'>\n"
     ]
    }
   ],
   "source": [
    "asterisk_test(1,2,3,4,5,6)"
   ]
  },
  {
   "cell_type": "code",
   "execution_count": null,
   "id": "a97db379",
   "metadata": {},
   "outputs": [],
   "source": []
  },
  {
   "cell_type": "code",
   "execution_count": 39,
   "id": "f0d66a8e",
   "metadata": {
    "ExecuteTime": {
     "end_time": "2021-07-01T13:53:48.881450Z",
     "start_time": "2021-07-01T13:53:48.875541Z"
    }
   },
   "outputs": [],
   "source": [
    "def asterisk_test(a, **kwargs):\n",
    "    print(a, kwargs)\n",
    "    print(type(kwargs))"
   ]
  },
  {
   "cell_type": "code",
   "execution_count": 40,
   "id": "32c68d0c",
   "metadata": {
    "ExecuteTime": {
     "end_time": "2021-07-01T13:53:49.751543Z",
     "start_time": "2021-07-01T13:53:49.744681Z"
    }
   },
   "outputs": [
    {
     "name": "stdout",
     "output_type": "stream",
     "text": [
      "1 {'b': 2, 'c': 3, 'd': 4, 'e': 5, 'f': 6}\n",
      "<class 'dict'>\n"
     ]
    }
   ],
   "source": [
    "asterisk_test(1, b=2, c=3, d=4, e=5, f=6)"
   ]
  },
  {
   "cell_type": "code",
   "execution_count": null,
   "id": "b3504045",
   "metadata": {},
   "outputs": [],
   "source": []
  },
  {
   "cell_type": "markdown",
   "id": "0d3e68ab",
   "metadata": {},
   "source": [
    "## unpacking"
   ]
  },
  {
   "cell_type": "code",
   "execution_count": 42,
   "id": "74c08728",
   "metadata": {
    "ExecuteTime": {
     "end_time": "2021-07-01T13:58:55.458094Z",
     "start_time": "2021-07-01T13:58:55.452807Z"
    }
   },
   "outputs": [
    {
     "name": "stdout",
     "output_type": "stream",
     "text": [
      "1 2 3 4 5 6\n",
      "1 (2, 3, 4, 5, 6)\n",
      "<class 'tuple'>\n"
     ]
    }
   ],
   "source": [
    "def asterisk_test(a, args):\n",
    "    print(a, *args) # unpacking\n",
    "    print(a, args)\n",
    "    print(type(args))\n",
    "asterisk_test(1,(2,3,4,5,6))"
   ]
  },
  {
   "cell_type": "code",
   "execution_count": null,
   "id": "579604ab",
   "metadata": {},
   "outputs": [],
   "source": []
  },
  {
   "cell_type": "code",
   "execution_count": 43,
   "id": "495a5ba0",
   "metadata": {
    "ExecuteTime": {
     "end_time": "2021-07-01T13:59:40.760926Z",
     "start_time": "2021-07-01T13:59:40.754832Z"
    }
   },
   "outputs": [
    {
     "name": "stdout",
     "output_type": "stream",
     "text": [
      "1 (1, 2, 3, 4, 5)\n",
      "<class 'tuple'>\n"
     ]
    }
   ],
   "source": [
    "def asterisk_test(a, *args):\n",
    "    print(a, args)\n",
    "    print(type(args))\n",
    "asterisk_test(1, *(1,2,3,4,5))"
   ]
  },
  {
   "cell_type": "code",
   "execution_count": null,
   "id": "3222986e",
   "metadata": {},
   "outputs": [],
   "source": []
  },
  {
   "cell_type": "code",
   "execution_count": 46,
   "id": "4bd65649",
   "metadata": {
    "ExecuteTime": {
     "end_time": "2021-07-01T14:00:52.422912Z",
     "start_time": "2021-07-01T14:00:52.413919Z"
    }
   },
   "outputs": [
    {
     "name": "stdout",
     "output_type": "stream",
     "text": [
      "[1, 2] [3, 4] [5, 6]\n",
      "[1, 2] [3, 4] [5, 6]\n",
      "[[1, 2], [3, 4], [5, 6]]\n"
     ]
    }
   ],
   "source": [
    "a,b,c = [[1,2],[3,4],[5,6]]\n",
    "print(a,b,c)\n",
    "\n",
    "data = [[1,2],[3,4],[5,6]]\n",
    "print(*data)\n",
    "print(data)"
   ]
  },
  {
   "cell_type": "code",
   "execution_count": null,
   "id": "3a90bbc8",
   "metadata": {},
   "outputs": [],
   "source": []
  },
  {
   "cell_type": "code",
   "execution_count": 61,
   "id": "b0057aea",
   "metadata": {
    "ExecuteTime": {
     "end_time": "2021-07-01T14:05:08.250098Z",
     "start_time": "2021-07-01T14:05:08.245650Z"
    }
   },
   "outputs": [
    {
     "name": "stdout",
     "output_type": "stream",
     "text": [
      "(1, 3, 5)\n",
      "9\n",
      "(2, 4, 6)\n",
      "12\n"
     ]
    }
   ],
   "source": [
    "for i in zip(*[[1,2],[3,4],[5,6]]):\n",
    "    print(i)\n",
    "    print(sum(i))    "
   ]
  },
  {
   "cell_type": "code",
   "execution_count": null,
   "id": "508a395f",
   "metadata": {},
   "outputs": [],
   "source": []
  },
  {
   "cell_type": "code",
   "execution_count": 48,
   "id": "ff035a3f",
   "metadata": {
    "ExecuteTime": {
     "end_time": "2021-07-01T14:02:26.936367Z",
     "start_time": "2021-07-01T14:02:26.926130Z"
    }
   },
   "outputs": [
    {
     "name": "stdout",
     "output_type": "stream",
     "text": [
      "1 1 2 3\n"
     ]
    }
   ],
   "source": [
    "def asterisk_test(a,b,c,d):\n",
    "    print(a,b,c,d)\n",
    "    \n",
    "data = {'b' :1 , 'c' :2, 'd' :3}\n",
    "asterisk_test(1,**data)"
   ]
  },
  {
   "cell_type": "code",
   "execution_count": null,
   "id": "118760ed",
   "metadata": {},
   "outputs": [],
   "source": []
  },
  {
   "cell_type": "code",
   "execution_count": null,
   "id": "99138f79",
   "metadata": {},
   "outputs": [],
   "source": []
  },
  {
   "cell_type": "markdown",
   "id": "bb291f46",
   "metadata": {},
   "source": [
    "# linear algebra"
   ]
  },
  {
   "cell_type": "code",
   "execution_count": null,
   "id": "e3c60065",
   "metadata": {},
   "outputs": [],
   "source": []
  },
  {
   "cell_type": "code",
   "execution_count": 70,
   "id": "dcce89d1",
   "metadata": {
    "ExecuteTime": {
     "end_time": "2021-07-01T14:08:50.234042Z",
     "start_time": "2021-07-01T14:08:50.225485Z"
    }
   },
   "outputs": [
    {
     "name": "stdout",
     "output_type": "stream",
     "text": [
      "[8, 11]\n",
      "<generator object <genexpr> at 0x7f3b30670650>\n"
     ]
    }
   ],
   "source": [
    "u = [2,2]\n",
    "v = [3,4]\n",
    "z = [3,5]\n",
    "\n",
    "print([sum(t) for t in zip(u,v,z)])\n",
    "\n",
    "f5 = lambda x,y,z : x+y+z\n",
    "list(map(f5, u,v,z))\n",
    "\n",
    "print(t for t in zip(u,v,z))"
   ]
  },
  {
   "cell_type": "code",
   "execution_count": null,
   "id": "086b26fc",
   "metadata": {},
   "outputs": [],
   "source": []
  },
  {
   "cell_type": "markdown",
   "id": "86fdd7f7",
   "metadata": {},
   "source": [
    "## asterisk"
   ]
  },
  {
   "cell_type": "code",
   "execution_count": 72,
   "id": "a8867714",
   "metadata": {
    "ExecuteTime": {
     "end_time": "2021-07-01T14:09:31.624896Z",
     "start_time": "2021-07-01T14:09:31.617707Z"
    }
   },
   "outputs": [
    {
     "data": {
      "text/plain": [
       "[8, 11]"
      ]
     },
     "execution_count": 72,
     "metadata": {},
     "output_type": "execute_result"
    }
   ],
   "source": [
    "def vector_addition(*args):\n",
    "    return [sum(t) for t in zip(*args)]\n",
    "\n",
    "vector_addition(u,v,z)"
   ]
  },
  {
   "cell_type": "code",
   "execution_count": null,
   "id": "bd577d8c",
   "metadata": {},
   "outputs": [],
   "source": []
  },
  {
   "cell_type": "markdown",
   "id": "dcdaef2a",
   "metadata": {},
   "source": [
    "## scalar - vector operation"
   ]
  },
  {
   "cell_type": "code",
   "execution_count": 76,
   "id": "f7cb0eb4",
   "metadata": {
    "ExecuteTime": {
     "end_time": "2021-07-01T14:11:06.968345Z",
     "start_time": "2021-07-01T14:11:06.953962Z"
    }
   },
   "outputs": [
    {
     "data": {
      "text/plain": [
       "[10, 14, 18]"
      ]
     },
     "execution_count": 76,
     "metadata": {},
     "output_type": "execute_result"
    }
   ],
   "source": [
    "u = [2,3,4]\n",
    "v = [3,4,5]\n",
    "alpha = 2\n",
    "\n",
    "result = [alpha * sum(a) for a in zip(u,v)]\n",
    "result"
   ]
  },
  {
   "cell_type": "code",
   "execution_count": null,
   "id": "5f5527a0",
   "metadata": {},
   "outputs": [],
   "source": []
  },
  {
   "cell_type": "markdown",
   "id": "2c9b4f64",
   "metadata": {},
   "source": [
    "## pytonic matrix"
   ]
  },
  {
   "cell_type": "code",
   "execution_count": 87,
   "id": "bda43b35",
   "metadata": {
    "ExecuteTime": {
     "end_time": "2021-07-01T14:23:40.751157Z",
     "start_time": "2021-07-01T14:23:40.743028Z"
    }
   },
   "outputs": [
    {
     "name": "stdout",
     "output_type": "stream",
     "text": [
      "first stage : [([3, 6], [4, 3]), ([5, 4], [2, 3])]\n",
      "result : [[7, 9], [7, 7]]\n"
     ]
    }
   ],
   "source": [
    "matrix_a = [[3,6],[5,4]]\n",
    "matrix_b = [[4,3],[2,3]]\n",
    "\n",
    "result = [[sum(row) for row in zip(*t)]for t in zip(matrix_a, matrix_b)]\n",
    "# 바깥에 있는 for 문이 먼저 실행되어 matrix_a 와 matrix_b 에서 zip() 함수를 통해 같은 인덱스에 있는 값들이 추출됨.\n",
    "print(f'first stage : {[t for t in zip(matrix_a, matrix_b)]}')\n",
    "\n",
    "# 이제 t는 2개의 리스트 값을 가진 하나의 튜플로, 안쪽에 있는 리스트 컴프리헨션 구문에 들어감. t는 1개의 튜플이므로 zip()함수를 토대로 언패킹 해줘야함.\n",
    "\n",
    "print(f'result : {result}')"
   ]
  },
  {
   "cell_type": "code",
   "execution_count": null,
   "id": "a42b7bd6",
   "metadata": {},
   "outputs": [],
   "source": []
  },
  {
   "cell_type": "markdown",
   "id": "c01a989a",
   "metadata": {},
   "source": [
    "## equivalent"
   ]
  },
  {
   "cell_type": "code",
   "execution_count": null,
   "id": "4d5e8795",
   "metadata": {},
   "outputs": [],
   "source": []
  },
  {
   "cell_type": "code",
   "execution_count": 99,
   "id": "20aacd93",
   "metadata": {
    "ExecuteTime": {
     "end_time": "2021-07-01T14:39:26.360137Z",
     "start_time": "2021-07-01T14:39:26.351132Z"
    }
   },
   "outputs": [
    {
     "data": {
      "text/plain": [
       "True"
      ]
     },
     "execution_count": 99,
     "metadata": {},
     "output_type": "execute_result"
    }
   ],
   "source": [
    "matrix_a = [[1,1],[2,2]]\n",
    "matrix_b = [[1,1],[2,2]]\n",
    "matrix_c = [[5,5],[6,7]]\n",
    "\n",
    "all([row[0] == value for t in zip(matrix_a, matrix_b) for row in zip(*t) for value in row])\n",
    "# 모든 값을 일차원 리스트로 만듦. ; 각 인덱스의 값이 같은지만 다른지만 확인하므로 이차원 리스트로 구성할 필요가 없기 때문.\n",
    "# 마지막에 같은 인덱스에 있는 값들을 row라는 튜플에 할당 \n",
    "# 마지막 for 문인 for value in row 를 구성하여 row 안의 값을 다시 value 에 할당함. \n",
    "\n",
    "all([all([row[0] == value for value in row]) for t in zip(matrix_a, matrix_b) for row in zip(*t)])"
   ]
  },
  {
   "cell_type": "code",
   "execution_count": null,
   "id": "381bb719",
   "metadata": {},
   "outputs": [],
   "source": []
  },
  {
   "cell_type": "markdown",
   "id": "7be996f7",
   "metadata": {},
   "source": [
    "### any , all"
   ]
  },
  {
   "cell_type": "code",
   "execution_count": 93,
   "id": "f46a3971",
   "metadata": {
    "ExecuteTime": {
     "end_time": "2021-07-01T14:26:11.544957Z",
     "start_time": "2021-07-01T14:26:11.542411Z"
    }
   },
   "outputs": [],
   "source": [
    "# all 함수는 안에 있는 모든 값이 참일 경우에만 True 반환. 즉 , and 조건으로 리스트의 값들이 모두 같은지를 확인함.\n",
    "# 반대로 any 함수는 하나라도 참이 있으면 True를 반환함, 모두 거짓일때만 거짓을 반환함.  즉 or 조건으로 리스트의 값들을 확인함."
   ]
  },
  {
   "cell_type": "code",
   "execution_count": 94,
   "id": "c8ad931b",
   "metadata": {
    "ExecuteTime": {
     "end_time": "2021-07-01T14:26:33.376474Z",
     "start_time": "2021-07-01T14:26:33.371913Z"
    }
   },
   "outputs": [
    {
     "name": "stdout",
     "output_type": "stream",
     "text": [
      "False\n",
      "True\n",
      "False\n",
      "True\n"
     ]
    }
   ],
   "source": [
    "print(any([False, False, False]))\n",
    "print(any([False, True, False]))\n",
    "print(all([False, True, True]))\n",
    "print(all([True, True, True]))"
   ]
  },
  {
   "cell_type": "code",
   "execution_count": null,
   "id": "8ba43d0c",
   "metadata": {},
   "outputs": [],
   "source": []
  },
  {
   "cell_type": "code",
   "execution_count": null,
   "id": "e967951e",
   "metadata": {},
   "outputs": [],
   "source": []
  },
  {
   "cell_type": "markdown",
   "id": "13444018",
   "metadata": {},
   "source": [
    "## transpose matrix"
   ]
  },
  {
   "cell_type": "code",
   "execution_count": null,
   "id": "722d299b",
   "metadata": {},
   "outputs": [],
   "source": []
  },
  {
   "cell_type": "code",
   "execution_count": 101,
   "id": "19623607",
   "metadata": {
    "ExecuteTime": {
     "end_time": "2021-07-01T14:41:26.673584Z",
     "start_time": "2021-07-01T14:41:26.654407Z"
    }
   },
   "outputs": [
    {
     "data": {
      "text/plain": [
       "[[1, 2, 3], [4, 5, 6]]"
      ]
     },
     "execution_count": 101,
     "metadata": {},
     "output_type": "execute_result"
    }
   ],
   "source": [
    "matrix_a = [[1,4],[2,5],[3,6]]\n",
    "\n",
    "result = [[element for element in t] for t in zip(*matrix_a)]\n",
    "result"
   ]
  },
  {
   "cell_type": "code",
   "execution_count": null,
   "id": "354a8d37",
   "metadata": {},
   "outputs": [],
   "source": []
  },
  {
   "cell_type": "markdown",
   "id": "749b2604",
   "metadata": {},
   "source": [
    "## multiplication"
   ]
  },
  {
   "cell_type": "code",
   "execution_count": 118,
   "id": "ba349256",
   "metadata": {
    "ExecuteTime": {
     "end_time": "2021-07-01T14:48:40.631282Z",
     "start_time": "2021-07-01T14:48:40.608575Z"
    }
   },
   "outputs": [
    {
     "data": {
      "text/plain": [
       "[[22, 28], [49, 64]]"
      ]
     },
     "execution_count": 118,
     "metadata": {},
     "output_type": "execute_result"
    }
   ],
   "source": [
    "matrix_a = [[1,2,3],[4,5,6]] # 2 x 3 \n",
    "matrix_b = [[1,2],[3,4],[5,6]] # 3 x 2 \n",
    "\n",
    "result = [[sum(a * b for a, b in zip(row_a, column_b)) for column_b in zip(*matrix_b)] for row_a in matrix_a]\n",
    "result"
   ]
  }
 ],
 "metadata": {
  "kernelspec": {
   "display_name": "Python 3",
   "language": "python",
   "name": "python3"
  },
  "language_info": {
   "codemirror_mode": {
    "name": "ipython",
    "version": 3
   },
   "file_extension": ".py",
   "mimetype": "text/x-python",
   "name": "python",
   "nbconvert_exporter": "python",
   "pygments_lexer": "ipython3",
   "version": "3.7.9"
  },
  "toc": {
   "base_numbering": 1,
   "nav_menu": {},
   "number_sections": true,
   "sideBar": true,
   "skip_h1_title": false,
   "title_cell": "Table of Contents",
   "title_sidebar": "Contents",
   "toc_cell": false,
   "toc_position": {},
   "toc_section_display": true,
   "toc_window_display": false
  }
 },
 "nbformat": 4,
 "nbformat_minor": 5
}

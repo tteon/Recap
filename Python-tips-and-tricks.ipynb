{
 "cells": [
  {
   "cell_type": "markdown",
   "metadata": {},
   "source": [
    "# source ; https://towardsdatascience.com/python-tips-and-tricks-for-beginners-62473d569d0a"
   ]
  },
  {
   "cell_type": "markdown",
   "metadata": {},
   "source": [
    "## Method #1 ; Code completion feature\n"
   ]
  },
  {
   "cell_type": "markdown",
   "metadata": {},
   "source": [
    "## Method #2 ; dir function\n",
    "\n",
    "The dir function returns a list of valid attributes for the object in its argument, which means we can use it to return an object's methods."
   ]
  },
  {
   "cell_type": "code",
   "execution_count": 1,
   "metadata": {},
   "outputs": [
    {
     "name": "stdout",
     "output_type": "stream",
     "text": [
      "['__add__', '__class__', '__contains__', '__delattr__', '__dir__', '__doc__', '__eq__', '__format__', '__ge__', '__getattribute__', '__getitem__', '__getnewargs__', '__gt__', '__hash__', '__init__', '__init_subclass__', '__iter__', '__le__', '__len__', '__lt__', '__mod__', '__mul__', '__ne__', '__new__', '__reduce__', '__reduce_ex__', '__repr__', '__rmod__', '__rmul__', '__setattr__', '__sizeof__', '__str__', '__subclasshook__', 'capitalize', 'casefold', 'center', 'count', 'encode', 'endswith', 'expandtabs', 'find', 'format', 'format_map', 'index', 'isalnum', 'isalpha', 'isascii', 'isdecimal', 'isdigit', 'isidentifier', 'islower', 'isnumeric', 'isprintable', 'isspace', 'istitle', 'isupper', 'join', 'ljust', 'lower', 'lstrip', 'maketrans', 'partition', 'replace', 'rfind', 'rindex', 'rjust', 'rpartition', 'rsplit', 'rstrip', 'split', 'splitlines', 'startswith', 'strip', 'swapcase', 'title', 'translate', 'upper', 'zfill']\n"
     ]
    }
   ],
   "source": [
    "s = 'a string'\n",
    "print(dir(s))"
   ]
  },
  {
   "cell_type": "code",
   "execution_count": 2,
   "metadata": {},
   "outputs": [],
   "source": [
    "b = \"a \".join(s)"
   ]
  },
  {
   "cell_type": "code",
   "execution_count": 3,
   "metadata": {},
   "outputs": [
    {
     "data": {
      "text/plain": [
       "'aa  a sa ta ra ia na g'"
      ]
     },
     "execution_count": 3,
     "metadata": {},
     "output_type": "execute_result"
    }
   ],
   "source": [
    "b"
   ]
  },
  {
   "cell_type": "code",
   "execution_count": 12,
   "metadata": {},
   "outputs": [],
   "source": [
    "c = b.split(' ')"
   ]
  },
  {
   "cell_type": "code",
   "execution_count": 14,
   "metadata": {},
   "outputs": [
    {
     "data": {
      "text/plain": [
       "['aa', '', 'a', 'sa', 'ta', 'ra', 'ia', 'na', 'g']"
      ]
     },
     "execution_count": 14,
     "metadata": {},
     "output_type": "execute_result"
    }
   ],
   "source": [
    "c"
   ]
  },
  {
   "cell_type": "markdown",
   "metadata": {},
   "source": [
    "__Note;__ 'dir' only provides an interesting set of names more than a full list. But it's convenient to use when you can't recall a method that you are aware of .\n",
    "\n",
    "Besides dir, you can also try the 'help' function.\n",
    "\n",
    "For example, help(str) will print our the Help page on the string object, which contains more details of the methods than dir."
   ]
  },
  {
   "cell_type": "markdown",
   "metadata": {},
   "source": [
    "## Tip #2 ; Format strings\n",
    "\n",
    "Printing out strings is a common task within data science projects. The 'format' method of str can piece multiple variables and strings together and format them in specific ways."
   ]
  },
  {
   "cell_type": "code",
   "execution_count": 16,
   "metadata": {},
   "outputs": [
    {
     "name": "stdout",
     "output_type": "stream",
     "text": [
      "The item cost $11.29. I paid $20.00. I received $8.71 in change\n"
     ]
    }
   ],
   "source": [
    "price = 9.99*1.13\n",
    "paid = 20\n",
    "change = paid - price\n",
    "#print('The item cost ${0:,.2f}. I paid ${1:, 2f}. I received ${2:,.2f} in change'.format(price , paid , change))\n",
    "print('The item cost ${0:,.2f}. I paid ${1:,.2f}. I received ${2:,.2f} in change'.format(price, paid, change))"
   ]
  },
  {
   "cell_type": "markdown",
   "metadata": {},
   "source": [
    "## Tip #3 ; Enumerate Function\n",
    "\n",
    "When iterating over an object such as a list, dictionary, or file, 'enumerate' is a useful function. The function returns a tuple containing both the values obtained from iterating over the object, \n",
    "\n",
    "and the loop counter (from the start position of 0). The loop counter is especially handy when you want to write code based on the index."
   ]
  },
  {
   "cell_type": "code",
   "execution_count": 17,
   "metadata": {},
   "outputs": [
    {
     "name": "stdout",
     "output_type": "stream",
     "text": [
      "0: J\n",
      "The first element!\n",
      "1: u\n",
      "2: s\n",
      "3: t\n",
      "4:  \n",
      "5: I\n",
      "6: n\n",
      "7: f\n",
      "8: o\n",
      "9:  \n",
      "10: D\n",
      "11: a\n",
      "12: t\n",
      "13: a\n",
      "The last element!\n"
     ]
    }
   ],
   "source": [
    "lst = 'Just Info Data'\n",
    "length = len(lst)\n",
    "for i, element in enumerate(lst):\n",
    "    print('{}: {}'.format(i, element))\n",
    "    if i == 0:\n",
    "        print('The first element!')\n",
    "    elif i == length - 1:\n",
    "        print('The last element!')"
   ]
  },
  {
   "cell_type": "markdown",
   "metadata": {},
   "source": [
    "The enumerate function can also be used on files.\n",
    "\n",
    "In the example below, we can print out the first 10 rows of the csv file before breaking out of the loop. \n",
    "\n",
    "We won't copy the result here since it's too long.\n",
    "\n",
    "But you can try it on any files you have."
   ]
  },
  {
   "cell_type": "code",
   "execution_count": null,
   "metadata": {},
   "outputs": [],
   "source": [
    "'''\n",
    "with open('.csv') as f:\n",
    "    for i, line in enumerate(f):\n",
    "        if i == 10:\n",
    "            break\n",
    "        print(line)\n",
    "'''"
   ]
  },
  {
   "cell_type": "markdown",
   "metadata": {},
   "source": [
    "## Tip #4 ; Return Multiple Values in a Function\n",
    "\n",
    "When defining functions, we often want to return more than one value.\n",
    "\n",
    "### Method #1 ; Return a Tuple\n",
    "\n",
    "First, let's look at the most convenient way; returning a tuple. We usually only use this metohd if there are 2 or 3 values to return.\n",
    "\n",
    "When the number of values is more, it's easy to forget about the order of the values within the tuple."
   ]
  },
  {
   "cell_type": "code",
   "execution_count": 19,
   "metadata": {},
   "outputs": [],
   "source": [
    "# returning a tuple\n",
    "def get_employee(id_num):\n",
    "    if id_num == 0:\n",
    "        return 'Jane', 'Doe'\n",
    "    elif id_num == 1:\n",
    "        return 'John', 'Smith'\n",
    "    else:\n",
    "        raise Exception('No employee with this id: {}'.format(id_num))"
   ]
  },
  {
   "cell_type": "markdown",
   "metadata": {},
   "source": [
    "If we call the function with value of 0, you can see that the function returns the tuple with two values: 'Jane' and 'Doe'."
   ]
  },
  {
   "cell_type": "code",
   "execution_count": 20,
   "metadata": {},
   "outputs": [
    {
     "name": "stdout",
     "output_type": "stream",
     "text": [
      "first_name: Jane, last_name: Doe\n"
     ]
    }
   ],
   "source": [
    "employee = get_employee(0)\n",
    "print(f'first_name: {employee[0]}, last_name: {employee[1]}')"
   ]
  },
  {
   "cell_type": "markdown",
   "metadata": {},
   "source": [
    "### Method #2; Return a Dictionary\n",
    "\n",
    "The second way is to return a dictionary. Dictionaries can be thought of as key: value pairs, so we can name the values that are returned , which is more clear than tuples."
   ]
  },
  {
   "cell_type": "code",
   "execution_count": 21,
   "metadata": {},
   "outputs": [],
   "source": [
    "# returning a dictionary\n",
    "def get_employee(id_num):\n",
    "    if id_num == 0:\n",
    "        return {'first_name': 'Jane', 'last_name': 'Doe', 'title': 'Data Scientist', 'department': 'A', 'date_joined': '20190808'}\n",
    "    elif id_num == 1:\n",
    "        return {'first_name': 'John', 'last_name': 'Smith', 'title': 'Data Engineer', 'department': 'B', 'date_joined': '20190808'}\n",
    "    else:\n",
    "        raise Exception('No employee with this id: {}'.format(id_num))"
   ]
  },
  {
   "cell_type": "markdown",
   "metadata": {},
   "source": [
    "We can call the function with id_num = 0. With the result as a dictionary, it's easier to call the specific value with its key."
   ]
  },
  {
   "cell_type": "code",
   "execution_count": 22,
   "metadata": {},
   "outputs": [
    {
     "name": "stdout",
     "output_type": "stream",
     "text": [
      "first_name: Jane,\n",
      "last_name: Doe,\n",
      "title: Data Scientist,\n",
      "department: A,\n",
      "date_joined: 20190808\n"
     ]
    }
   ],
   "source": [
    "employee = get_employee(0)\n",
    "print('first_name: {},\\nlast_name: {},\\ntitle: {},\\ndepartment: {},\\ndate_joined: {}'.format(\n",
    "    employee['first_name'], employee['last_name'], employee['title'], employee['department'], employee['date_joined']))"
   ]
  },
  {
   "cell_type": "markdown",
   "metadata": {},
   "source": [
    "### Method #3; Return a NamedTuple\n",
    "\n",
    "The last way we'll discuss is returning a namedtuple. \n",
    "\n",
    "The named tuples are tuples with named fields. They are immutable like tuples, but also provide naming like dictionaries.\n",
    "\n",
    "_Named tuples assign meaning to each position in a tuple and allow for more readable, self-documenting code. They can be used wherever regular tuples are used, and they add the ability to access fields by name instead of position index._\n",
    "\n",
    "The main advantage named tuples have over dictionaries is that the fields are guaranteed to be in the object. With a dictionary, we're not sure if all the key: value pairs will be there.\n",
    "\n"
   ]
  },
  {
   "cell_type": "code",
   "execution_count": 25,
   "metadata": {},
   "outputs": [],
   "source": [
    "# returning a namedtuple.\n",
    "import collections\n",
    "Employee = collections.namedtuple('Employee', ['first_name', 'last_name', 'title', 'department', 'date_joined'])\n",
    "\n",
    "def get_employee(id_num):\n",
    "    if id_num == 0:\n",
    "        return Employee(first_name='Jane', last_name='Doe', title='Data Scientist', department='A', date_joined='20190808')\n",
    "    elif id_num == 1:\n",
    "        return Employee(first_name='John', last_name='Smith', title='Data Engineer', department='B', date_joined='20190808')\n",
    "    else:\n",
    "        raise Exception('No employee with this id: {}'.format(id_num))"
   ]
  },
  {
   "cell_type": "code",
   "execution_count": 27,
   "metadata": {},
   "outputs": [
    {
     "name": "stdout",
     "output_type": "stream",
     "text": [
      "first_name: Jane,\n",
      "last_name: Doe,\n",
      "title: Data Scientist,\n",
      "department: A,\n",
      "date_joined: 20190808\n"
     ]
    }
   ],
   "source": [
    "employee = get_employee(0)\n",
    "print('first_name: {},\\nlast_name: {},\\ntitle: {},\\ndepartment: {},\\ndate_joined: {}'.format(\n",
    "    employee.first_name, employee.last_name, employee.title, employee.department, employee.date_joined))"
   ]
  },
  {
   "cell_type": "code",
   "execution_count": 28,
   "metadata": {},
   "outputs": [
    {
     "data": {
      "text/plain": [
       "__main__.Employee"
      ]
     },
     "execution_count": 28,
     "metadata": {},
     "output_type": "execute_result"
    }
   ],
   "source": [
    "type(employee)"
   ]
  },
  {
   "cell_type": "markdown",
   "metadata": {},
   "source": [
    "## Tip #5; Lambda Expression\n",
    "\n",
    "The 'Lambda expressions' are used to create anonymous functions, which are usually single-line"
   ]
  },
  {
   "cell_type": "code",
   "execution_count": 31,
   "metadata": {},
   "outputs": [
    {
     "data": {
      "text/plain": [
       "0     first\n",
       "1    second\n",
       "2     third\n",
       "3     first\n",
       "4     third\n",
       "5     first\n",
       "Name: address, dtype: object"
      ]
     },
     "execution_count": 31,
     "metadata": {},
     "output_type": "execute_result"
    }
   ],
   "source": [
    "import pandas as pd\n",
    "df = pd.DataFrame(data={'address': ['12 first St', '15 Second St', '20 ThIRd St', '2 First St', '8 THIRD St', '100 fIRST st']})\n",
    "\n",
    "# without lambda\n",
    "def get_streetname(address):\n",
    "    return address.split()[1].lower()\n",
    "\n",
    "df['address'].map(get_streetname)\n",
    "\n",
    "# using lambda function.\n",
    "df['address'].map(lambda address: address.split()[1].lower())"
   ]
  },
  {
   "cell_type": "markdown",
   "metadata": {},
   "source": [
    "## Tip #6; Sorted Function\n",
    "\n",
    "We'll cover the useful sorted function for this python tip, with examples of lists and dictionaries. It's a common task since we often want to see the top/bottom values in a datset."
   ]
  },
  {
   "cell_type": "markdown",
   "metadata": {},
   "source": [
    "### Sort lists"
   ]
  },
  {
   "cell_type": "code",
   "execution_count": 32,
   "metadata": {},
   "outputs": [
    {
     "data": {
      "text/plain": [
       "[1, 3, 5, 5, 8, 9]"
      ]
     },
     "execution_count": 32,
     "metadata": {},
     "output_type": "execute_result"
    }
   ],
   "source": [
    "lst = [5, 5, 3, 8, 1, 9]\n",
    "\n",
    "sorted_lst = sorted(lst)\n",
    "sorted_lst"
   ]
  },
  {
   "cell_type": "markdown",
   "metadata": {},
   "source": [
    "### Sort Dictionaries"
   ]
  },
  {
   "cell_type": "code",
   "execution_count": 37,
   "metadata": {},
   "outputs": [
    {
     "data": {
      "text/plain": [
       "[0, 3, 7, 8, 9]"
      ]
     },
     "execution_count": 37,
     "metadata": {},
     "output_type": "execute_result"
    }
   ],
   "source": [
    "# Get the keys in sorted order.\n",
    "d = {'T': 3, 'Q': 7, 'A': 9, 'G': 0, 'B': 8}\n",
    "sorted(d) # key\n",
    "sorted(d.values()) # value"
   ]
  },
  {
   "cell_type": "code",
   "execution_count": 41,
   "metadata": {},
   "outputs": [
    {
     "data": {
      "text/plain": [
       "{'G': 0, 'T': 3, 'Q': 7, 'B': 8, 'A': 9}"
      ]
     },
     "execution_count": 41,
     "metadata": {},
     "output_type": "execute_result"
    }
   ],
   "source": [
    "# sort the dicitonary by key.\n",
    "{k:v for k,v in sorted(d.items())}\n",
    "# sort the dictionary by value.\n",
    "{k:v for k,v in sorted(d.items(), key=lambda it: it[1])}\n",
    "\n",
    "## it ???"
   ]
  },
  {
   "cell_type": "markdown",
   "metadata": {},
   "source": [
    "## Tip #7 ; Conditional Expressions"
   ]
  },
  {
   "cell_type": "code",
   "execution_count": 43,
   "metadata": {},
   "outputs": [],
   "source": [
    "is_raining = True"
   ]
  },
  {
   "cell_type": "code",
   "execution_count": 44,
   "metadata": {},
   "outputs": [
    {
     "name": "stdout",
     "output_type": "stream",
     "text": [
      "Stay at home\n"
     ]
    }
   ],
   "source": [
    "if is_raining:\n",
    "    action = 'Stay at home'\n",
    "else:\n",
    "    action = 'Go for a walk'\n",
    "print(action)        "
   ]
  },
  {
   "cell_type": "code",
   "execution_count": 45,
   "metadata": {},
   "outputs": [
    {
     "name": "stdout",
     "output_type": "stream",
     "text": [
      "Stay at home\n"
     ]
    }
   ],
   "source": [
    "action = 'Stay at home' if is_raining else 'Go for a walk'\n",
    "print(action)"
   ]
  },
  {
   "cell_type": "markdown",
   "metadata": {},
   "source": [
    "## Tip #8; List Comprehensions\n",
    "\n",
    "We can create lists using list comprehensions, which is much more compact than the traditional method. \n",
    "\n",
    "A list comprehension consists of brackets containing an expression followed by a 'for' clause, then zero or more 'for' or 'if' clauses.\n",
    "\n",
    "The result will be a new list resulting from evaluating the expression in the context of the 'for' and 'if' clauses which follow it."
   ]
  },
  {
   "cell_type": "code",
   "execution_count": 46,
   "metadata": {},
   "outputs": [
    {
     "name": "stdout",
     "output_type": "stream",
     "text": [
      "[3, 3, 3, 3, 6, 2, 3, 3, 3, 2, 5, 2, 2, 3, 2, 3, 5, 3, 4, 5, 5, 3, 4, 1, 3, 5, 4, 6, 2, 3, 6, 2, 4, 3, 1, 5, 4, 1, 4, 2, 3, 9, 2, 4, 3, 3, 2, 2, 3, 3, 3, 4, 2, 4, 5, 2, 2, 3, 2, 3, 6, 2, 3, 7, 2, 4, 2, 3, 2, 5, 2, 3, 2, 4, 4, 4, 4, 3, 2, 3, 3, 4, 3, 3, 3, 6, 4]\n",
      "\n",
      "[3, 3, 3, 3, 6, 2, 3, 3, 3, 2, 5, 2, 2, 3, 2, 3, 5, 3, 4, 5, 5, 3, 4, 1, 3, 5, 4, 6, 2, 3, 6, 2, 4, 3, 1, 5, 4, 1, 4, 2, 3, 9, 2, 4, 3, 3, 2, 2, 3, 3, 3, 4, 2, 4, 5, 2, 2, 3, 2, 3, 6, 2, 3, 7, 2, 4, 2, 3, 2, 5, 2, 3, 2, 4, 4, 4, 4, 3, 2, 3, 3, 4, 3, 3, 3, 6, 4]\n"
     ]
    }
   ],
   "source": [
    "cat_in_the_hat = \"\"\"the sun did not shine.\n",
    "it was too wet to play.\n",
    "so we sat in the house\n",
    "all that cold, cold, wet day.\n",
    "i sat there with sally.\n",
    "we sat there, we two.\n",
    "and i said, 'how i wish\n",
    "we had something to do!'\n",
    "too wet to go out\n",
    "and too cold to play ball.\n",
    "so we sat in the house.\n",
    "we did nothing at all.\n",
    "so all we could do was to\n",
    "sit!\n",
    "sit!\n",
    "sit!\n",
    "sit!\n",
    "and we did not like it.\n",
    "not one little bit.\"\"\"\n",
    "\n",
    "# assume we want to count the length of each word in the string.\n",
    "\n",
    "# long way.\n",
    "len_list1 = []\n",
    "for s in cat_in_the_hat.split():\n",
    "    len_list1.append(len(s))\n",
    "    \n",
    "# using list comprehensions we can do this in one line\n",
    "len_list2 = [len(s) for s in cat_in_the_hat.split()]\n",
    "\n",
    "print(len_list1)\n",
    "print()\n",
    "print(len_list2)"
   ]
  },
  {
   "cell_type": "markdown",
   "metadata": {},
   "source": [
    "## Tip #9 ; All/Any Functions\n",
    "\n",
    "We'd also like to cover the 'all' and the 'any' functions in Python.\n",
    "\n",
    "They are convenient when making multiple comparions.\n",
    "\n",
    "The any function returns True if any element of an iterable object is true"
   ]
  },
  {
   "cell_type": "code",
   "execution_count": 47,
   "metadata": {},
   "outputs": [
    {
     "name": "stdout",
     "output_type": "stream",
     "text": [
      "Toronto, Ontario\n",
      "Toronto, Ontario\n"
     ]
    }
   ],
   "source": [
    "my_string = 'Toronto, Ontario'\n",
    "\n",
    "# the long way.\n",
    "if 'Montreal' in my_string or 'Toronto' in my_string or 'Vancouver' in my_string or 'Boston' in my_string or 'New York' in my_string:\n",
    "    print(my_string)\n",
    "    \n",
    "# use the any function\n",
    "\n",
    "# this way is shorter than the previous way.\n",
    "if any([c in my_string for c in ['Montreal', 'Toronto', 'Vancouver', 'Boston', 'New York']]):\n",
    "    print(my_string)"
   ]
  },
  {
   "cell_type": "markdown",
   "metadata": {},
   "source": [
    "Similary, the all function returns True if all elements of an iterable object are true (or if the iterable is empty). \n"
   ]
  },
  {
   "cell_type": "code",
   "execution_count": 48,
   "metadata": {},
   "outputs": [
    {
     "name": "stdout",
     "output_type": "stream",
     "text": [
      "Just Into Data\n",
      "Just Into Data\n"
     ]
    }
   ],
   "source": [
    "my_string2 = 'Just Into Data'\n",
    "\n",
    "# the usual way\n",
    "if 'Just' in my_string2 and 'In' in my_string2 and 'Data' in my_string2:\n",
    "    print(my_string2)\n",
    "\n",
    "# use all function\n",
    "if all([c in my_string2 for c in ['Just', 'Into', 'Data']]):\n",
    "    print(my_string2)"
   ]
  },
  {
   "cell_type": "code",
   "execution_count": null,
   "metadata": {},
   "outputs": [],
   "source": []
  }
 ],
 "metadata": {
  "kernelspec": {
   "display_name": "Python 3",
   "language": "python",
   "name": "python3"
  },
  "language_info": {
   "codemirror_mode": {
    "name": "ipython",
    "version": 3
   },
   "file_extension": ".py",
   "mimetype": "text/x-python",
   "name": "python",
   "nbconvert_exporter": "python",
   "pygments_lexer": "ipython3",
   "version": "3.7.6"
  }
 },
 "nbformat": 4,
 "nbformat_minor": 4
}

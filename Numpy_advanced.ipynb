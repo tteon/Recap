{
 "cells": [
  {
   "cell_type": "markdown",
   "metadata": {},
   "source": [
    "# source ; https://medium.com/analytics-vidhya/advanced-numpy-218584c60c63"
   ]
  },
  {
   "cell_type": "markdown",
   "metadata": {},
   "source": [
    "# source ; https://medium.com/analytics-vidhya/numpy-the-very-basics-6ce19206ee22"
   ]
  },
  {
   "cell_type": "markdown",
   "metadata": {},
   "source": [
    "# NumPy Attributes\n",
    "\n",
    "    1. ndim - Number of dimensions.\n",
    "    2. shape - The size of each dimension.\n",
    "    3. size - The total size of the array.\n",
    "    4. dtype - The data type of array elements.\n",
    "    5. itemsize - Byte size of each array element.\n",
    "    6. nbytes - Total size of the array. It is equal to itemsize times size."
   ]
  },
  {
   "cell_type": "markdown",
   "metadata": {},
   "source": [
    "### My weakness slicing technique"
   ]
  },
  {
   "cell_type": "code",
   "execution_count": 83,
   "metadata": {},
   "outputs": [
    {
     "data": {
      "text/plain": [
       "array([5, 3, 1])"
      ]
     },
     "execution_count": 83,
     "metadata": {},
     "output_type": "execute_result"
    }
   ],
   "source": [
    "x = np.arange(10)\n",
    "\n",
    "x\n",
    "\n",
    "x[:5]\n",
    "\n",
    "x[5:]\n",
    "\n",
    "x[4:7]\n",
    "\n",
    "x[::2]\n",
    "\n",
    "x[1::2] # every other element, starting at index 1\n",
    "\n",
    "x[::-1] # all elements, reversed\n",
    "\n",
    "x[5::-2] # reversed every other from index 5"
   ]
  },
  {
   "cell_type": "markdown",
   "metadata": {},
   "source": [
    "### My weakness Multidimensional array slicing technique"
   ]
  },
  {
   "cell_type": "code",
   "execution_count": 89,
   "metadata": {},
   "outputs": [
    {
     "data": {
      "text/plain": [
       "array([[7, 8, 5, 3, 2],\n",
       "       [5, 4, 3, 2, 1],\n",
       "       [6, 7, 1, 3, 5]])"
      ]
     },
     "execution_count": 89,
     "metadata": {},
     "output_type": "execute_result"
    }
   ],
   "source": [
    "a = np.array( [[2,3,5,8,7],\n",
    "              [1,2,3,4,5],\n",
    "              [5,3,1,7,6]])\n",
    "# 2 rows 3 columns\n",
    "a[:2,:3]\n",
    "\n",
    "# 3 rows 2 columns\n",
    "a[:3,:2]\n",
    "\n",
    "#reverse the element from both rows and columns.\n",
    "a[::1, ::-1]\n"
   ]
  },
  {
   "cell_type": "markdown",
   "metadata": {},
   "source": [
    "## Array concatenation and splitting"
   ]
  },
  {
   "cell_type": "markdown",
   "metadata": {},
   "source": [
    "### concatenate, vstack , hstack, dstack"
   ]
  },
  {
   "cell_type": "code",
   "execution_count": 100,
   "metadata": {},
   "outputs": [],
   "source": [
    "a= np.array([1,2,3,4])\n",
    "\n",
    "b=np.array([5,6,7,8]) \n",
    "\n",
    "c=np.array([[9,8,7,6],\n",
    "            [5,4,3,2]])\n",
    "\n",
    "d=np.array([[5,4],\n",
    "            [2,3]])"
   ]
  },
  {
   "cell_type": "code",
   "execution_count": 101,
   "metadata": {},
   "outputs": [
    {
     "data": {
      "text/plain": [
       "array([1, 2, 3, 4, 5, 6, 7, 8])"
      ]
     },
     "execution_count": 101,
     "metadata": {},
     "output_type": "execute_result"
    }
   ],
   "source": [
    "# concatenate\n",
    "np.concatenate([a,b])"
   ]
  },
  {
   "cell_type": "code",
   "execution_count": 102,
   "metadata": {},
   "outputs": [
    {
     "data": {
      "text/plain": [
       "array([[1, 2, 3, 4],\n",
       "       [9, 8, 7, 6],\n",
       "       [5, 4, 3, 2]])"
      ]
     },
     "execution_count": 102,
     "metadata": {},
     "output_type": "execute_result"
    }
   ],
   "source": [
    "# vstack\n",
    "np.vstack([a,c])"
   ]
  },
  {
   "cell_type": "code",
   "execution_count": 105,
   "metadata": {},
   "outputs": [
    {
     "data": {
      "text/plain": [
       "array([[9, 8, 7, 6, 5, 4],\n",
       "       [5, 4, 3, 2, 2, 3]])"
      ]
     },
     "execution_count": 105,
     "metadata": {},
     "output_type": "execute_result"
    }
   ],
   "source": [
    "# hstack\n",
    "np.hstack([c,d])"
   ]
  },
  {
   "cell_type": "code",
   "execution_count": 4,
   "metadata": {},
   "outputs": [],
   "source": [
    "import numpy as np"
   ]
  },
  {
   "cell_type": "markdown",
   "metadata": {},
   "source": [
    "## ufuncs"
   ]
  },
  {
   "cell_type": "code",
   "execution_count": 6,
   "metadata": {},
   "outputs": [
    {
     "data": {
      "text/plain": [
       "array([36.,  1., 16., 16., 64., 16., 36.,  9., 25., 64.])"
      ]
     },
     "execution_count": 6,
     "metadata": {},
     "output_type": "execute_result"
    }
   ],
   "source": [
    "import numpy as np\n",
    "np.random.seed(0)\n",
    "\n",
    "values = np.random.randint(1, 10, size=10)\n",
    "output = np.empty(len(values)) # empty array to store output\n",
    "for i in range(len(values)):\n",
    "    output[i] = values[i]**2\n",
    "output"
   ]
  },
  {
   "cell_type": "code",
   "execution_count": 17,
   "metadata": {},
   "outputs": [
    {
     "data": {
      "text/plain": [
       "array([36,  1, 16, 16, 64, 16, 36,  9, 25, 64], dtype=int32)"
      ]
     },
     "execution_count": 17,
     "metadata": {},
     "output_type": "execute_result"
    }
   ],
   "source": [
    "#Ufunc operations are extremely flexible.\n",
    "np.random.seed(0)\n",
    "\n",
    "values = np.random.randint(1, 10, size=10)\n",
    "values**2"
   ]
  },
  {
   "cell_type": "markdown",
   "metadata": {},
   "source": [
    "## Trignometric functions"
   ]
  },
  {
   "cell_type": "code",
   "execution_count": 19,
   "metadata": {},
   "outputs": [
    {
     "name": "stdout",
     "output_type": "stream",
     "text": [
      "theta =  [0.         0.78539816 1.57079633 2.35619449 3.14159265]\n",
      "sin(theta) =  [0.00000000e+00 7.07106781e-01 1.00000000e+00 7.07106781e-01\n",
      " 1.22464680e-16]\n",
      "cos(theta) =  [ 1.00000000e+00  7.07106781e-01  6.12323400e-17 -7.07106781e-01\n",
      " -1.00000000e+00]\n",
      "tan(theta) =  [ 0.00000000e+00  1.00000000e+00  1.63312394e+16 -1.00000000e+00\n",
      " -1.22464680e-16]\n"
     ]
    }
   ],
   "source": [
    "theta = np.linspace(0, np.pi, 5)\n",
    "\n",
    "print('theta = ', theta)\n",
    "print('sin(theta) = ', np.sin(theta))\n",
    "print('cos(theta) = ', np.cos(theta))\n",
    "print('tan(theta) = ', np.tan(theta))"
   ]
  },
  {
   "cell_type": "markdown",
   "metadata": {},
   "source": [
    "## Inverse trignometric functions"
   ]
  },
  {
   "cell_type": "code",
   "execution_count": 20,
   "metadata": {},
   "outputs": [
    {
     "name": "stdout",
     "output_type": "stream",
     "text": [
      "x =  [-1  0  1]\n",
      "arcsin(x) =  [-1.57079633  0.          1.57079633]\n",
      "arccos(x) =  [3.14159265 1.57079633 0.        ]\n",
      "arctan(x) =  [-0.78539816  0.          0.78539816]\n"
     ]
    }
   ],
   "source": [
    "x = np.array([-1, 0, 1])\n",
    "print('x = ', x)\n",
    "print('arcsin(x) = ', np.arcsin(x))\n",
    "print('arccos(x) = ', np.arccos(x))\n",
    "print('arctan(x) = ', np.arctan(x))"
   ]
  },
  {
   "cell_type": "markdown",
   "metadata": {},
   "source": [
    "## Exponents"
   ]
  },
  {
   "cell_type": "code",
   "execution_count": 24,
   "metadata": {},
   "outputs": [
    {
     "name": "stdout",
     "output_type": "stream",
     "text": [
      "x =  [1 2 3]\n",
      "e^x =  [ 2.71828183  7.3890561  20.08553692]\n",
      "2^x =  [2. 4. 8.]\n",
      "3^x =  [ 3  9 27]\n"
     ]
    }
   ],
   "source": [
    "x = np.arange(1, 4)\n",
    "print('x = ', x)\n",
    "print('e^x = ', np.exp(x))\n",
    "print('2^x = ', np.exp2(x))\n",
    "print('3^x = ', np.power(3 , x))"
   ]
  },
  {
   "cell_type": "markdown",
   "metadata": {},
   "source": [
    "## Logarithms"
   ]
  },
  {
   "cell_type": "code",
   "execution_count": 30,
   "metadata": {},
   "outputs": [
    {
     "name": "stdout",
     "output_type": "stream",
     "text": [
      "x = [1 1 2 3]\n",
      "ln(x) = [0.         0.         0.69314718 1.09861229]\n",
      "log2(x) = [0.        0.        1.        1.5849625]\n",
      "log10(x) = [0.         0.         0.30103    0.47712125]\n"
     ]
    }
   ],
   "source": [
    "x = np.random.randint(1, 4, size=4) # size meaning is just how deginate counts that value\n",
    "print('x =', x)\n",
    "print('ln(x) =', np.log(x))\n",
    "print('log2(x) =', np.log2(x))\n",
    "print('log10(x) =', np.log10(x))"
   ]
  },
  {
   "cell_type": "markdown",
   "metadata": {},
   "source": [
    "## Aggregation\n",
    "\n",
    "mean and standard deviation"
   ]
  },
  {
   "cell_type": "code",
   "execution_count": 31,
   "metadata": {},
   "outputs": [
    {
     "name": "stdout",
     "output_type": "stream",
     "text": [
      "[0.14035078 0.87008726 0.47360805 0.80091075 0.52047748 0.67887953\n",
      " 0.72063265 0.58201979 0.53737323 0.75861562]\n",
      "Summation: 6.082955146266993\n",
      "Min: 0.14035078041264515\n",
      "Max: 0.8700872583584364\n"
     ]
    }
   ],
   "source": [
    "# numpy version\n",
    "array = np.random.random(10)\n",
    "print(array)\n",
    "print('Summation:', np.sum(array))\n",
    "print('Min:', np.min(array))\n",
    "print('Max:', np.max(array))"
   ]
  },
  {
   "cell_type": "code",
   "execution_count": 32,
   "metadata": {},
   "outputs": [
    {
     "name": "stdout",
     "output_type": "stream",
     "text": [
      "[0.10590761 0.47360042 0.18633234 0.73691818 0.21655035 0.13521817\n",
      " 0.32414101 0.14967487 0.22232139 0.38648898]\n",
      "Summation: 2.9371533191743384\n",
      "Min: 0.10590760718779213\n",
      "Max: 0.7369181771289581\n"
     ]
    }
   ],
   "source": [
    "# array version\n",
    "array = np.random.random(10)\n",
    "print(array)\n",
    "print('Summation:', array.sum())\n",
    "print('Min:', array.min())\n",
    "print('Max:', array.max())"
   ]
  },
  {
   "cell_type": "markdown",
   "metadata": {},
   "source": [
    "\n",
    "\n",
    "### The one question you can raise is why to use NumPy aggregate functions when these functions are already inbuilt in Python ( sum(), min(), max(), etc).\n",
    "### Of course, the difference is NumPy functions are much faster but more importantly NumPy functions are aware of dimensions. Python functions behave differently on multidimensional arrays."
   ]
  },
  {
   "cell_type": "code",
   "execution_count": 33,
   "metadata": {},
   "outputs": [
    {
     "name": "stdout",
     "output_type": "stream",
     "text": [
      "[[0 1 2 3 4]\n",
      " [5 6 7 8 9]]\n",
      "Summation: [ 5  7  9 11 13]\n"
     ]
    }
   ],
   "source": [
    "array = np.arange(10).reshape(2,5)\n",
    "print(array)\n",
    "print('Summation:', sum(array))"
   ]
  },
  {
   "cell_type": "markdown",
   "metadata": {},
   "source": [
    "##     Multidimensional aggregates"
   ]
  },
  {
   "cell_type": "code",
   "execution_count": 34,
   "metadata": {},
   "outputs": [
    {
     "name": "stdout",
     "output_type": "stream",
     "text": [
      "[[64 67 84 87 87 29]\n",
      " [41 56 90 32 78 85]\n",
      " [59 66 57 45 97 92]\n",
      " [29 40 89 99 67 84]]\n",
      "Min marks in each subject: [29 40 57 32 67 29]\n",
      "Max marks in each subject: [64 67 90 99 97 92]\n",
      "Total marks in each subject: [418 382 416 408]\n"
     ]
    }
   ],
   "source": [
    "np.random.seed(0)\n",
    "marks = np.random.randint(20, 100, size=(4,6))\n",
    "print(marks)\n",
    "print('Min marks in each subject:', marks.min(axis=0))\n",
    "print('Max marks in each subject:', marks.max(axis=0))\n",
    "print('Total marks in each subject:', marks.sum(axis=1))"
   ]
  },
  {
   "cell_type": "markdown",
   "metadata": {},
   "source": [
    "## Broadcasting\n",
    "\n",
    "__Perform unfuncs on arrays of different sizes.__"
   ]
  },
  {
   "cell_type": "code",
   "execution_count": 40,
   "metadata": {},
   "outputs": [
    {
     "name": "stdout",
     "output_type": "stream",
     "text": [
      "m: \n",
      " [[1. 1. 1.]\n",
      " [1. 1. 1.]\n",
      " [1. 1. 1.]]\n",
      "Shape of m: (3, 3)\n",
      "n: [0 1 2]\n",
      "Shape of n: (3,)\n",
      "m + n: \n",
      " [[1. 2. 3.]\n",
      " [1. 2. 3.]\n",
      " [1. 2. 3.]]\n",
      "Shape of m + n: (3, 3)\n"
     ]
    }
   ],
   "source": [
    "m = np.ones((3, 3))\n",
    "print('m: \\n',m)\n",
    "print('Shape of m:', m.shape)\n",
    "n = np.array([0,1,2])\n",
    "print('n:',n)\n",
    "print('Shape of n:',n.shape)\n",
    "add = m + n\n",
    "print('m + n: \\n',add)\n",
    "print('Shape of m + n:', add.shape)"
   ]
  },
  {
   "cell_type": "code",
   "execution_count": 42,
   "metadata": {},
   "outputs": [
    {
     "name": "stdout",
     "output_type": "stream",
     "text": [
      "m: \n",
      " [0 1 2]\n",
      "Shape of m: (3,)\n",
      "n: \n",
      " [[0]\n",
      " [1]\n",
      " [2]]\n",
      "Shape of n: (3, 1)\n",
      "m + n: \n",
      " [[0 1 2]\n",
      " [1 2 3]\n",
      " [2 3 4]]\n",
      "Shape of m + n: (3, 3)\n"
     ]
    }
   ],
   "source": [
    "m = np.arange(3)\n",
    "n = np.arange(3).reshape(3,1)\n",
    "print('m: \\n',m)\n",
    "print('Shape of m:',m.shape)\n",
    "print('n: \\n',n)\n",
    "print('Shape of n:',n.shape)\n",
    "add = m + n\n",
    "print('m + n: \\n', add)\n",
    "print('Shape of m + n:', add.shape)"
   ]
  },
  {
   "cell_type": "markdown",
   "metadata": {},
   "source": [
    "## 3 Rules for Broadcasting"
   ]
  },
  {
   "cell_type": "markdown",
   "metadata": {},
   "source": [
    "m = np.arange(3).reshape((3,1))\n",
    "\n",
    "n = np.arange(3)\n",
    "\n",
    "m.shape = (3, 1)\n",
    "\n",
    "n.shape = (3,)\n",
    "\n",
    "- By rule 1, if two arrays deffer in their shape the array with lesser shape should be padded with ‘1’ on it's left side.\n",
    "\n",
    "m.shape => (3, 1)\n",
    "\n",
    "n.shape => (1, 3)\n",
    "- By rule 2, if still the shape of two arrays do not match then each array whose dimension is equal to 1 should be broadcasted to match the shape of another array.\n",
    "\n",
    "m.shape => (3, 3)\n",
    "\n",
    "n.shape => (3, 3)"
   ]
  },
  {
   "cell_type": "markdown",
   "metadata": {},
   "source": [
    "## Masking\n",
    "\n",
    "Masking is a method used extensively in the data processing. It allows us to extract, count, modify or manipulate values in an array based on certain criteria, these criteria are specified using comparison operators and boolean operators."
   ]
  },
  {
   "cell_type": "code",
   "execution_count": 50,
   "metadata": {},
   "outputs": [
    {
     "name": "stdout",
     "output_type": "stream",
     "text": [
      "Original\n",
      "[[5 0 3 3]\n",
      " [7 9 3 5]\n",
      " [2 4 7 6]]\n",
      "Values of x less than 5\n",
      "[0 3 3 3 2 4]\n"
     ]
    }
   ],
   "source": [
    "np.random.seed(0)\n",
    "x = np.random.randint(10, size=(3,4))\n",
    "print('Original');print(x)\n",
    "print('Values of x less than 5')\n",
    "print(x[x<5])"
   ]
  },
  {
   "cell_type": "markdown",
   "metadata": {},
   "source": [
    "## Fancy indexing\n",
    "Fancy indexing is similar to normal indexing as we already know. The only difference is we pass an array of indices here. This advanced version of indexing allows quick access and/or modification of complicated subsets of an array."
   ]
  },
  {
   "cell_type": "code",
   "execution_count": 71,
   "metadata": {},
   "outputs": [
    {
     "name": "stdout",
     "output_type": "stream",
     "text": [
      "[51 92 14 71 60 20 82 86 74 74]\n",
      "[14 20 74]\n"
     ]
    }
   ],
   "source": [
    "# Suppose we want to access elements at index 2, 5, and 9 of an array, the old school method would be [x[2], x[5], x[9]]. This can we simplified using fancy indexing.\n",
    "np.random.seed(42)\n",
    "x = np.random.randint(100, size = 10)\n",
    "print(x)\n",
    "print(x[[2, 5, 9]])"
   ]
  },
  {
   "cell_type": "markdown",
   "metadata": {},
   "source": [
    "## Array sorting\n",
    "np.sort is a more efficient sorting function than Python’s built-in sort function. \n",
    "\n",
    "__Additionally, np.sort is aware of dimensions.__ Let’s see a few flavors of the NumPy sorting function."
   ]
  },
  {
   "cell_type": "code",
   "execution_count": 73,
   "metadata": {},
   "outputs": [
    {
     "name": "stdout",
     "output_type": "stream",
     "text": [
      "[5 1 4 0 9 5 8 0 9 2]\n",
      "Sorted array : [0 0 1 2 4 5 5 8 9 9]\n",
      "Indices of the sorted array : [3 7 1 9 2 0 5 6 4 8]\n",
      "In-place sorting : [0 0 1 2 4 5 5 8 9 9]\n"
     ]
    }
   ],
   "source": [
    "# Simple sorting\n",
    "x = np.random.randint(10, size = 10)\n",
    "print(x)\n",
    "print('Sorted array :', np.sort(x))\n",
    "\n",
    "# Indices of the sorted array\n",
    "print('Indices of the sorted array :', np.argsort(x))\n",
    "\n",
    "# Using sort method\n",
    "x.sort()\n",
    "print('In-place sorting :' , x)"
   ]
  },
  {
   "cell_type": "code",
   "execution_count": null,
   "metadata": {},
   "outputs": [],
   "source": []
  }
 ],
 "metadata": {
  "kernelspec": {
   "display_name": "Python 3",
   "language": "python",
   "name": "python3"
  },
  "language_info": {
   "codemirror_mode": {
    "name": "ipython",
    "version": 3
   },
   "file_extension": ".py",
   "mimetype": "text/x-python",
   "name": "python",
   "nbconvert_exporter": "python",
   "pygments_lexer": "ipython3",
   "version": "3.7.6"
  }
 },
 "nbformat": 4,
 "nbformat_minor": 4
}
